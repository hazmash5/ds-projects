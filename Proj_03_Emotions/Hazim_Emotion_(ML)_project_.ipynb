{
  "nbformat": 4,
  "nbformat_minor": 0,
  "metadata": {
    "colab": {
      "name": "Hazim Emotion (ML) project .ipynb",
      "provenance": [],
      "collapsed_sections": [
        "ETqhZYH1egH5",
        "p-abLPt6e4Mq",
        "El-9SWLlfclk",
        "l0Hda-4ffdX9"
      ],
      "toc_visible": true
    },
    "kernelspec": {
      "display_name": "Python 3",
      "language": "python",
      "name": "python3"
    },
    "language_info": {
      "codemirror_mode": {
        "name": "ipython",
        "version": 3
      },
      "file_extension": ".py",
      "mimetype": "text/x-python",
      "name": "python",
      "nbconvert_exporter": "python",
      "pygments_lexer": "ipython3",
      "version": "3.7.4"
    }
  },
  "cells": [
    {
      "cell_type": "markdown",
      "metadata": {
        "id": "40KVr0HUDy8q"
      },
      "source": [
        "# **Twitter Data set for Arabic Sentiment Analysis**\r\n"
      ]
    },
    {
      "cell_type": "markdown",
      "metadata": {
        "id": "D2LFQoulFwSy"
      },
      "source": [
        "We're trying to build a classifier texts for polarity, (positive and negative). By train machine, machines automatically learn how to detect sentiment without human input."
      ]
    },
    {
      "cell_type": "markdown",
      "metadata": {
        "id": "Ur0qRWIWIgJo"
      },
      "source": [
        "Since we're performing classification, we can use accuracy — the fraction of correctly classified sentiment  — to quantify how well our model is performing.  we should achieve at least **80%** accuracy."
      ]
    },
    {
      "cell_type": "markdown",
      "metadata": {
        "id": "fKtGpDFVEEcv"
      },
      "source": [
        "the field researchers are collected data By using a tweet crawler at 2013, They collect 2000 labelled tweets (1000 positive tweets and 1000 negative ones) on various topics such as: politics and arts. These tweets include opinions written in both Modern Standard Arabic (MSA) and the Jordanian dialect.\r\n",
        "\r\n",
        "The selected tweets convey some kind of feelings (positive or negative) and the objective of our model is to extract valuable information from such tweets in order to determine the sentiment orientation of the inputted text.\r\n",
        "The months-long annotation process of the tweets is manually conducted mainly by two human experts (native speakers of Arabic). If both experts agree on the label of a certain tweet, then the tweet is assigned this label. Otherwise, a third expert is consulted to break the tie."
      ]
    },
    {
      "cell_type": "markdown",
      "metadata": {
        "id": "1f4q-6sgbvLy"
      },
      "source": [
        "# Step 1: Load the Data"
      ]
    },
    {
      "cell_type": "code",
      "metadata": {
        "id": "8BTFdZCFf2mk"
      },
      "source": [
        "# Get the dataset by raw URL\r\n",
        "!wget https://archive.ics.uci.edu/ml/machine-learning-databases/00293/Twitter.rar"
      ],
      "execution_count": null,
      "outputs": []
    },
    {
      "cell_type": "code",
      "metadata": {
        "id": "rDnNdt6UtxEZ"
      },
      "source": [
        "#install unrar to unrar the data file\r\n",
        "!pip install unrar\r\n",
        "!unrar x /content/Twitter.rar"
      ],
      "execution_count": null,
      "outputs": []
    },
    {
      "cell_type": "code",
      "metadata": {
        "id": "zCYdnHoz4k7z"
      },
      "source": [
        "import pandas as pd"
      ],
      "execution_count": 3,
      "outputs": []
    },
    {
      "cell_type": "markdown",
      "metadata": {
        "id": "QyS_mlCugA-O"
      },
      "source": [
        "\r\n",
        "##  Create Data Frame\r\n",
        "We have two files (Positive, Negative), each file have 1000 tweet, each tweet is in a single file, so it must be converted to one dataframe"
      ]
    },
    {
      "cell_type": "code",
      "metadata": {
        "id": "8GrenKl4l_r2",
        "colab": {
          "base_uri": "https://localhost:8080/"
        },
        "outputId": "c117198b-0134-4985-ebca-7033c0a7a592"
      },
      "source": [
        "# Read text files and creat list of dataframes\r\n",
        "d=[]\r\n",
        "# There was error while reading the data so I used Try method to cross the errors\r\n",
        "for i in range(1,1001):\r\n",
        "  try : \r\n",
        "    m = pd.read_csv(str('/content/Twitter/Positive/positive' + str(i) + '.txt'),header= None,)\r\n",
        "    d.append(m)\r\n",
        "  except:\r\n",
        "    pass\r\n",
        "len(d)"
      ],
      "execution_count": 4,
      "outputs": [
        {
          "output_type": "execute_result",
          "data": {
            "text/plain": [
              "1000"
            ]
          },
          "metadata": {
            "tags": []
          },
          "execution_count": 4
        }
      ]
    },
    {
      "cell_type": "code",
      "metadata": {
        "id": "59iAvBtQl_r6"
      },
      "source": [
        "df = pd.concat(d, axis=0, ignore_index=True)\r\n",
        "dfP=pd.DataFrame(df[0])\r\n",
        "#Creat Emotion columns for positive emotion and name it 1\r\n",
        "dfP['Emotion']= list([1]*1000)\r\n",
        "dfP"
      ],
      "execution_count": null,
      "outputs": []
    },
    {
      "cell_type": "code",
      "metadata": {
        "id": "snNL3Nc1Yi92",
        "colab": {
          "base_uri": "https://localhost:8080/"
        },
        "outputId": "9f6237d3-6642-40af-d5f8-0b73aa611377"
      },
      "source": [
        "d=[]\r\n",
        "for i in range(1,1001):\r\n",
        "  try :\r\n",
        "    m = pd.read_csv(str('/content/Twitter/Negative/negative' + str(i) + '.txt'),header= None,)\r\n",
        "    d.append(m)\r\n",
        "  except:\r\n",
        "    pass\r\n",
        "len(d)"
      ],
      "execution_count": 6,
      "outputs": [
        {
          "output_type": "execute_result",
          "data": {
            "text/plain": [
              "978"
            ]
          },
          "metadata": {
            "tags": []
          },
          "execution_count": 6
        }
      ]
    },
    {
      "cell_type": "code",
      "metadata": {
        "id": "51eMqHsrlGZG"
      },
      "source": [
        "df = pd.concat(d, axis=0, ignore_index=True)\r\n",
        "dfN=pd.DataFrame(df[0])\r\n",
        "#Creat emotion columns for negative emotion and name it 0\r\n",
        "dfN['Emotion']= list([0]*978)\r\n",
        "dfN"
      ],
      "execution_count": null,
      "outputs": []
    },
    {
      "cell_type": "code",
      "metadata": {
        "colab": {
          "base_uri": "https://localhost:8080/",
          "height": 195
        },
        "id": "5montr0Apf4t",
        "outputId": "d357a9c0-5494-494e-fe3e-26a2d157b206"
      },
      "source": [
        "frames=[dfP,dfN]\r\n",
        "df= pd.concat(frames,  axis=0, ignore_index=True)\r\n",
        "df.columns=['tweet','Emotion']\r\n",
        "df.head()"
      ],
      "execution_count": 8,
      "outputs": [
        {
          "output_type": "execute_result",
          "data": {
            "text/html": [
              "<div>\n",
              "<style scoped>\n",
              "    .dataframe tbody tr th:only-of-type {\n",
              "        vertical-align: middle;\n",
              "    }\n",
              "\n",
              "    .dataframe tbody tr th {\n",
              "        vertical-align: top;\n",
              "    }\n",
              "\n",
              "    .dataframe thead th {\n",
              "        text-align: right;\n",
              "    }\n",
              "</style>\n",
              "<table border=\"1\" class=\"dataframe\">\n",
              "  <thead>\n",
              "    <tr style=\"text-align: right;\">\n",
              "      <th></th>\n",
              "      <th>tweet</th>\n",
              "      <th>Emotion</th>\n",
              "    </tr>\n",
              "  </thead>\n",
              "  <tbody>\n",
              "    <tr>\n",
              "      <th>0</th>\n",
              "      <td>حقا</td>\n",
              "      <td>1</td>\n",
              "    </tr>\n",
              "    <tr>\n",
              "      <th>1</th>\n",
              "      <td>الحل الوحيد هو القرب من الله وذكره  (الا بذكر...</td>\n",
              "      <td>1</td>\n",
              "    </tr>\n",
              "    <tr>\n",
              "      <th>2</th>\n",
              "      <td>وهذه من اكبر المشاكل التي تؤرق الشباب في هذه ...</td>\n",
              "      <td>1</td>\n",
              "    </tr>\n",
              "    <tr>\n",
              "      <th>3</th>\n",
              "      <td>الموت مع الناس رحمه..</td>\n",
              "      <td>1</td>\n",
              "    </tr>\n",
              "    <tr>\n",
              "      <th>4</th>\n",
              "      <td>اي صح و حاليا فاقده الاثنين</td>\n",
              "      <td>1</td>\n",
              "    </tr>\n",
              "  </tbody>\n",
              "</table>\n",
              "</div>"
            ],
            "text/plain": [
              "                                               tweet  Emotion\n",
              "0                                                حقا        1\n",
              "1   الحل الوحيد هو القرب من الله وذكره  (الا بذكر...        1\n",
              "2   وهذه من اكبر المشاكل التي تؤرق الشباب في هذه ...        1\n",
              "3                              الموت مع الناس رحمه..        1\n",
              "4                        اي صح و حاليا فاقده الاثنين        1"
            ]
          },
          "metadata": {
            "tags": []
          },
          "execution_count": 8
        }
      ]
    },
    {
      "cell_type": "code",
      "metadata": {
        "id": "CgmHYTj450DF"
      },
      "source": [
        "df.to_csv('2014_Jordanian_Tweets.csv', index=False)"
      ],
      "execution_count": 12,
      "outputs": []
    },
    {
      "cell_type": "code",
      "metadata": {
        "id": "dMXxmWOqbvL-"
      },
      "source": [
        "# Create new folder and name it data\r\n",
        "!mkdir data"
      ],
      "execution_count": null,
      "outputs": []
    },
    {
      "cell_type": "code",
      "metadata": {
        "id": "JfyKIJwmbvL_"
      },
      "source": [
        "# Moving our datasets to the data folder\n",
        "!mv 2014_Jordanian_Tweets.csv data/"
      ],
      "execution_count": 14,
      "outputs": []
    },
    {
      "cell_type": "code",
      "metadata": {
        "id": "NTJK8DDMbvL_",
        "colab": {
          "base_uri": "https://localhost:8080/"
        },
        "outputId": "b3e6f66c-ddac-4751-b37d-2776628dc314"
      },
      "source": [
        "# Showing the first line of the dataset\n",
        "!head -n 1 data/2014_Jordanian_Tweets.csv"
      ],
      "execution_count": 15,
      "outputs": [
        {
          "output_type": "stream",
          "text": [
            "tweet,Emotion\n"
          ],
          "name": "stdout"
        }
      ]
    },
    {
      "cell_type": "code",
      "metadata": {
        "id": "JZgX__FHbvMA",
        "colab": {
          "base_uri": "https://localhost:8080/"
        },
        "outputId": "00747cf8-7f40-4583-beb8-61b1dbb9200d"
      },
      "source": [
        "# Showing the number of lines.\n",
        "!cat data/2014_Jordanian_Tweets.csv | wc -l"
      ],
      "execution_count": 16,
      "outputs": [
        {
          "output_type": "stream",
          "text": [
            "1979\n"
          ],
          "name": "stdout"
        }
      ]
    },
    {
      "cell_type": "markdown",
      "metadata": {
        "id": "i92512qh0_g7"
      },
      "source": [
        "We have 1979 of instances"
      ]
    },
    {
      "cell_type": "markdown",
      "metadata": {
        "id": "ZfOSqX4L1Qvg"
      },
      "source": [
        "# Introduction\r\n",
        "First of all I will use seven classification models to make real comparison between techniques to choose the best for our dataset, in the following shows Classification models names which I will use:\r\n",
        "\r\n",
        "1.Logistic Regression\r\n",
        "\r\n",
        "2.Linear Discriminant Analysis\r\n",
        "\r\n",
        "3.K Neighbors Classifier\r\n",
        "\r\n",
        "4.Decision Tree Classifier\r\n",
        "\r\n",
        "5.Gaussian NB\r\n",
        "\r\n",
        "6.Support Vector Classifier\r\n",
        "\r\n",
        "7.XGBoost Classifier\r\n"
      ]
    },
    {
      "cell_type": "markdown",
      "metadata": {
        "id": "b-UTBiTMbvMB"
      },
      "source": [
        "# Step 2: Exploratory analysis and Check data for problems "
      ]
    },
    {
      "cell_type": "code",
      "metadata": {
        "id": "flwRYhaPbvMB",
        "colab": {
          "base_uri": "https://localhost:8080/"
        },
        "outputId": "b56aeee8-e7c4-418c-e138-558a6367ff31"
      },
      "source": [
        "import pandas as pd\n",
        "import numpy as np\n",
        "from collections import Counter\n",
        "import nltk\n",
        "import pandas as pd\n",
        "#from emoticons import EmoticonDetector\n",
        "import re as regex\n",
        "import numpy as np\n",
        "#import plotly\n",
        "#from plotly import graph_objs\n",
        "from sklearn.metrics import f1_score, precision_score, recall_score, accuracy_score\n",
        "from sklearn.model_selection import train_test_split, cross_val_score, GridSearchCV, RandomizedSearchCV\n",
        "from time import time\n",
        "import matplotlib.pyplot as plt\n",
        "%matplotlib inline\n",
        "#plotly.offline.init_notebook_mode()\n",
        "\n",
        "import seaborn as sns\n",
        "import plotly\n",
        "import cufflinks as cf\n",
        "import re\n",
        "nltk.download('punkt')"
      ],
      "execution_count": 17,
      "outputs": [
        {
          "output_type": "stream",
          "text": [
            "[nltk_data] Downloading package punkt to /root/nltk_data...\n",
            "[nltk_data]   Unzipping tokenizers/punkt.zip.\n"
          ],
          "name": "stdout"
        },
        {
          "output_type": "execute_result",
          "data": {
            "text/plain": [
              "True"
            ]
          },
          "metadata": {
            "tags": []
          },
          "execution_count": 17
        }
      ]
    },
    {
      "cell_type": "code",
      "metadata": {
        "id": "tbc8OXw1D9WW"
      },
      "source": [
        "from sklearn.model_selection import train_test_split\n",
        "from sklearn.metrics import classification_report\n",
        "from sklearn.metrics import confusion_matrix\n",
        "from sklearn.metrics import accuracy_score\n",
        "from sklearn.linear_model import LogisticRegression\n",
        "from sklearn.tree import DecisionTreeClassifier\n",
        "from sklearn.neighbors import KNeighborsClassifier\n",
        "from sklearn.discriminant_analysis import LinearDiscriminantAnalysis\n",
        "from sklearn.naive_bayes import GaussianNB\n",
        "from sklearn.svm import SVC\n",
        "from sklearn.model_selection import cross_val_score\n",
        "from sklearn.model_selection import KFold\n",
        "models = []\n",
        "models.append(('LDA', LinearDiscriminantAnalysis()))\n",
        "models.append(('KNN', KNeighborsClassifier()))\n",
        "models.append(('CART', DecisionTreeClassifier()))\n",
        "models.append(('NB', GaussianNB()))\n",
        "models.append(('SVM', SVC()))"
      ],
      "execution_count": 91,
      "outputs": []
    },
    {
      "cell_type": "code",
      "metadata": {
        "id": "wGrnFN9RnoPs"
      },
      "source": [
        "from sklearn.linear_model import LogisticRegression\r\n",
        "from sklearn.linear_model import RidgeClassifier\r\n",
        "from sklearn.svm import LinearSVC\r\n",
        "from sklearn.linear_model import SGDClassifier\r\n",
        "from sklearn.linear_model import Perceptron\r\n",
        "from sklearn.linear_model import PassiveAggressiveClassifier\r\n",
        "from sklearn.naive_bayes import BernoulliNB, ComplementNB, MultinomialNB\r\n",
        "from sklearn.neighbors import NearestCentroid\r\n",
        "from sklearn.svm import SVC\r\n",
        "\r\n",
        "models_2 = []\r\n",
        "models_2.append(('LR', LogisticRegression()))\r\n",
        "models_2.append(('RC', RidgeClassifier()))\r\n",
        "models_2.append(('LSVC', LinearSVC()))\r\n",
        "models_2.append(('SGDC', SGDClassifier()))\r\n",
        "models_2.append(('P', Perceptron()))\r\n",
        "models_2.append(('PAC', PassiveAggressiveClassifier()))\r\n",
        "models_2.append(('BNB', BernoulliNB()))\r\n",
        "models_2.append(('NC', NearestCentroid()))\r\n",
        "models_2.append(('SVM', SVC()))"
      ],
      "execution_count": 95,
      "outputs": []
    },
    {
      "cell_type": "code",
      "metadata": {
        "id": "xFpUVdMH53j2"
      },
      "source": [
        "df= pd.read_csv('/content/data/2014_Jordanian_Tweets.csv')\n",
        "df"
      ],
      "execution_count": null,
      "outputs": []
    },
    {
      "cell_type": "markdown",
      "metadata": {
        "id": "hdz7decDWj6G"
      },
      "source": [
        "## Check for NaN value exist"
      ]
    },
    {
      "cell_type": "code",
      "metadata": {
        "colab": {
          "base_uri": "https://localhost:8080/"
        },
        "id": "FBNGE2SdCPVg",
        "outputId": "50892abd-8dda-4f7c-84c3-e7dc5cc2ab43"
      },
      "source": [
        "df.isnull().sum().sum()"
      ],
      "execution_count": 17,
      "outputs": [
        {
          "output_type": "execute_result",
          "data": {
            "text/plain": [
              "1"
            ]
          },
          "metadata": {
            "tags": []
          },
          "execution_count": 17
        }
      ]
    },
    {
      "cell_type": "code",
      "metadata": {
        "colab": {
          "base_uri": "https://localhost:8080/"
        },
        "id": "GEBTti8GCxVg",
        "outputId": "e429a24d-5b5b-4acd-d9c8-6c4f9902e798"
      },
      "source": [
        "rows_with_nan = []\r\n",
        "for index, row in df.iterrows():\r\n",
        "    is_nan_series = row.isnull()\r\n",
        "    if is_nan_series.any():\r\n",
        "        rows_with_nan.append(index)\r\n",
        "\r\n",
        "print(rows_with_nan)"
      ],
      "execution_count": 18,
      "outputs": [
        {
          "output_type": "stream",
          "text": [
            "[812]\n"
          ],
          "name": "stdout"
        }
      ]
    },
    {
      "cell_type": "code",
      "metadata": {
        "colab": {
          "base_uri": "https://localhost:8080/",
          "height": 77
        },
        "id": "58bEGjZyJeR4",
        "outputId": "96e95ac0-31d4-4ae8-cea8-c7ded8fe2172"
      },
      "source": [
        "df.loc[[812]]"
      ],
      "execution_count": 17,
      "outputs": [
        {
          "output_type": "execute_result",
          "data": {
            "text/html": [
              "<div>\n",
              "<style scoped>\n",
              "    .dataframe tbody tr th:only-of-type {\n",
              "        vertical-align: middle;\n",
              "    }\n",
              "\n",
              "    .dataframe tbody tr th {\n",
              "        vertical-align: top;\n",
              "    }\n",
              "\n",
              "    .dataframe thead th {\n",
              "        text-align: right;\n",
              "    }\n",
              "</style>\n",
              "<table border=\"1\" class=\"dataframe\">\n",
              "  <thead>\n",
              "    <tr style=\"text-align: right;\">\n",
              "      <th></th>\n",
              "      <th>tweet</th>\n",
              "      <th>Emotion</th>\n",
              "    </tr>\n",
              "  </thead>\n",
              "  <tbody>\n",
              "    <tr>\n",
              "      <th>812</th>\n",
              "      <td>NaN</td>\n",
              "      <td>1</td>\n",
              "    </tr>\n",
              "  </tbody>\n",
              "</table>\n",
              "</div>"
            ],
            "text/plain": [
              "    tweet  Emotion\n",
              "812   NaN        1"
            ]
          },
          "metadata": {
            "tags": []
          },
          "execution_count": 17
        }
      ]
    },
    {
      "cell_type": "code",
      "metadata": {
        "colab": {
          "base_uri": "https://localhost:8080/"
        },
        "id": "ZSS7ZtoiDHFz",
        "outputId": "fa043295-f671-4bd9-ea3d-8b0accf121be"
      },
      "source": [
        "df= df.dropna()\r\n",
        "df.isnull().sum().sum()"
      ],
      "execution_count": 20,
      "outputs": [
        {
          "output_type": "execute_result",
          "data": {
            "text/plain": [
              "0"
            ]
          },
          "metadata": {
            "tags": []
          },
          "execution_count": 20
        }
      ]
    },
    {
      "cell_type": "code",
      "metadata": {
        "id": "_Y-TgXVChKQq",
        "colab": {
          "base_uri": "https://localhost:8080/"
        },
        "outputId": "dee677ff-09b3-4cae-969c-1da6b9fa7afe"
      },
      "source": [
        "df['Emotion'].value_counts()"
      ],
      "execution_count": 21,
      "outputs": [
        {
          "output_type": "execute_result",
          "data": {
            "text/plain": [
              "1    999\n",
              "0    978\n",
              "Name: Emotion, dtype: int64"
            ]
          },
          "metadata": {
            "tags": []
          },
          "execution_count": 21
        }
      ]
    },
    {
      "cell_type": "markdown",
      "metadata": {
        "id": "rKOndG1DIdxT"
      },
      "source": [
        "## Using pie plot\r\n",
        "I used *pie* plot to visualize and compute the difference between the categories"
      ]
    },
    {
      "cell_type": "code",
      "metadata": {
        "colab": {
          "base_uri": "https://localhost:8080/",
          "height": 265
        },
        "id": "CvQoOv_qpIR0",
        "outputId": "02e30473-5638-4271-c745-90cd9df1f255"
      },
      "source": [
        "pd.value_counts(df['Emotion']).plot(kind='pie', autopct='%.2f',fontsize=15)"
      ],
      "execution_count": 20,
      "outputs": [
        {
          "output_type": "execute_result",
          "data": {
            "text/plain": [
              "<matplotlib.axes._subplots.AxesSubplot at 0x7f451ddc9fd0>"
            ]
          },
          "metadata": {
            "tags": []
          },
          "execution_count": 20
        },
        {
          "output_type": "display_data",
          "data": {
            "image/png": "[encoded data removed]",
            "text/plain": [
              "<Figure size 432x288 with 1 Axes>"
            ]
          },
          "metadata": {
            "tags": []
          }
        }
      ]
    },
    {
      "cell_type": "markdown",
      "metadata": {
        "id": "5TE_CdzFNL0E"
      },
      "source": [
        "The classes is almost balanced."
      ]
    },
    {
      "cell_type": "markdown",
      "metadata": {
        "id": "J19ANNv9DX8y"
      },
      "source": [
        "## Using Arabic WordCloud"
      ]
    },
    {
      "cell_type": "code",
      "metadata": {
        "id": "_i_9sKRyIiXZ",
        "colab": {
          "base_uri": "https://localhost:8080/",
          "height": 693
        },
        "outputId": "1760f7e3-06c2-46a7-8d1d-403632d79a3a"
      },
      "source": [
        "!pip install ar_wordcloud"
      ],
      "execution_count": 22,
      "outputs": [
        {
          "output_type": "stream",
          "text": [
            "Collecting ar_wordcloud\n",
            "  Downloading https://files.pythonhosted.org/packages/d8/6f/174754e845e9e9795efdc8b54189ffd4a781ab11b72f539e1525f0a68be9/ar_wordcloud-0.0.4-py3-none-any.whl\n",
            "Collecting wordcloud>=1.7.0\n",
            "\u001b[?25l  Downloading https://files.pythonhosted.org/packages/05/e7/52e4bef8e2e3499f6e96cc8ff7e0902a40b95014143b062acde4ff8b9fc8/wordcloud-1.8.1-cp36-cp36m-manylinux1_x86_64.whl (366kB)\n",
            "\u001b[K     |████████████████████████████████| 368kB 4.3MB/s \n",
            "\u001b[?25hCollecting python-bidi>=0.4.2\n",
            "  Downloading https://files.pythonhosted.org/packages/33/b0/f942d146a2f457233baaafd6bdf624eba8e0f665045b4abd69d1b62d097d/python_bidi-0.4.2-py2.py3-none-any.whl\n",
            "Collecting arabic_reshaper>=2.0.14\n",
            "  Downloading https://files.pythonhosted.org/packages/0a/1e/b78cacd22bd55c43f2711115d67ece3ed9616ba82d2d0e0914db2a6db985/arabic_reshaper-2.1.1.tar.gz\n",
            "Requirement already satisfied: requests in /usr/local/lib/python3.6/dist-packages (from ar_wordcloud) (2.23.0)\n",
            "Requirement already satisfied: matplotlib in /usr/local/lib/python3.6/dist-packages (from wordcloud>=1.7.0->ar_wordcloud) (3.2.2)\n",
            "Requirement already satisfied: numpy>=1.6.1 in /usr/local/lib/python3.6/dist-packages (from wordcloud>=1.7.0->ar_wordcloud) (1.19.5)\n",
            "Requirement already satisfied: pillow in /usr/local/lib/python3.6/dist-packages (from wordcloud>=1.7.0->ar_wordcloud) (7.0.0)\n",
            "Requirement already satisfied: six in /usr/local/lib/python3.6/dist-packages (from python-bidi>=0.4.2->ar_wordcloud) (1.15.0)\n",
            "Requirement already satisfied: future in /usr/local/lib/python3.6/dist-packages (from arabic_reshaper>=2.0.14->ar_wordcloud) (0.16.0)\n",
            "Requirement already satisfied: setuptools in /usr/local/lib/python3.6/dist-packages (from arabic_reshaper>=2.0.14->ar_wordcloud) (51.3.3)\n",
            "Requirement already satisfied: urllib3!=1.25.0,!=1.25.1,<1.26,>=1.21.1 in /usr/local/lib/python3.6/dist-packages (from requests->ar_wordcloud) (1.24.3)\n",
            "Requirement already satisfied: chardet<4,>=3.0.2 in /usr/local/lib/python3.6/dist-packages (from requests->ar_wordcloud) (3.0.4)\n",
            "Requirement already satisfied: certifi>=2017.4.17 in /usr/local/lib/python3.6/dist-packages (from requests->ar_wordcloud) (2020.12.5)\n",
            "Requirement already satisfied: idna<3,>=2.5 in /usr/local/lib/python3.6/dist-packages (from requests->ar_wordcloud) (2.10)\n",
            "Requirement already satisfied: cycler>=0.10 in /usr/local/lib/python3.6/dist-packages (from matplotlib->wordcloud>=1.7.0->ar_wordcloud) (0.10.0)\n",
            "Requirement already satisfied: kiwisolver>=1.0.1 in /usr/local/lib/python3.6/dist-packages (from matplotlib->wordcloud>=1.7.0->ar_wordcloud) (1.3.1)\n",
            "Requirement already satisfied: python-dateutil>=2.1 in /usr/local/lib/python3.6/dist-packages (from matplotlib->wordcloud>=1.7.0->ar_wordcloud) (2.8.1)\n",
            "Requirement already satisfied: pyparsing!=2.0.4,!=2.1.2,!=2.1.6,>=2.0.1 in /usr/local/lib/python3.6/dist-packages (from matplotlib->wordcloud>=1.7.0->ar_wordcloud) (2.4.7)\n",
            "Building wheels for collected packages: arabic-reshaper\n",
            "  Building wheel for arabic-reshaper (setup.py) ... \u001b[?25l\u001b[?25hdone\n",
            "  Created wheel for arabic-reshaper: filename=arabic_reshaper-2.1.1-cp36-none-any.whl size=16504 sha256=dbc642763bdb4a67e6a90d073afc6ddb15945ad7c4561ec477fc02411da4f369\n",
            "  Stored in directory: /root/.cache/pip/wheels/62/52/d8/bd0dcbf00f9e77e3bd0184285ed77dfa9c475dac494a5353d1\n",
            "Successfully built arabic-reshaper\n",
            "Installing collected packages: wordcloud, python-bidi, arabic-reshaper, ar-wordcloud\n",
            "  Found existing installation: wordcloud 1.5.0\n",
            "    Uninstalling wordcloud-1.5.0:\n",
            "      Successfully uninstalled wordcloud-1.5.0\n",
            "Successfully installed ar-wordcloud-0.0.4 arabic-reshaper-2.1.1 python-bidi-0.4.2 wordcloud-1.8.1\n"
          ],
          "name": "stdout"
        },
        {
          "output_type": "display_data",
          "data": {
            "application/vnd.colab-display-data+json": {
              "pip_warning": {
                "packages": [
                  "wordcloud"
                ]
              }
            }
          },
          "metadata": {
            "tags": []
          }
        }
      ]
    },
    {
      "cell_type": "code",
      "metadata": {
        "id": "dciO2TOCGGTK",
        "colab": {
          "base_uri": "https://localhost:8080/"
        },
        "outputId": "774fe5fa-a6ab-4350-f3be-876c99a25bad"
      },
      "source": [
        "!pip install arabic-reshaper"
      ],
      "execution_count": 5,
      "outputs": [
        {
          "output_type": "stream",
          "text": [
            "Requirement already satisfied: arabic-reshaper in /usr/local/lib/python3.6/dist-packages (2.1.1)\n",
            "Requirement already satisfied: setuptools in /usr/local/lib/python3.6/dist-packages (from arabic-reshaper) (51.3.3)\n",
            "Requirement already satisfied: future in /usr/local/lib/python3.6/dist-packages (from arabic-reshaper) (0.16.0)\n"
          ],
          "name": "stdout"
        }
      ]
    },
    {
      "cell_type": "code",
      "metadata": {
        "colab": {
          "base_uri": "https://localhost:8080/",
          "height": 242
        },
        "id": "OaPMyvRjQPff",
        "outputId": "95efaf60-4e02-46a6-d9b5-b8a312564191"
      },
      "source": [
        "from wordcloud import wordcloud\n",
        "from ar_wordcloud import ArabicWordCloud\n",
        "import arabic_reshaper \n",
        "for emotion in df.Emotion.unique():\n",
        "  #emotion='1'\n",
        "  if emotion== 0:\n",
        "    continue\n",
        "  Data=' '.join(df[df['Emotion']==emotion]['tweet'].values)\n",
        "  Data = arabic_reshaper.reshape(Data)\n",
        "  stops=['الذنوب','اجعل','النهاية','عليك','المعاصي','دكتور']\n",
        "  tokens =[word for word in Data.split() if len(word)>=5 and word not in stops ]\n",
        "  Data=' '.join(tokens)\n",
        "\n",
        "\n",
        "  awc = ArabicWordCloud(max_font_size=50, max_words=60, background_color=\"white\")\n",
        "  wc = awc.from_text(Data)\n",
        "  plt.figure(figsize=(7,7))\n",
        "  plt.imshow(wc, interpolation=\"bilinear\")\n",
        "  plt.axis(\"off\")\n",
        "  plt.title('Positive emotion')\n",
        "plt.show()"
      ],
      "execution_count": 11,
      "outputs": [
        {
          "output_type": "display_data",
          "data": {
            "image/png": "[encoded data removed]",
            "text/plain": [
              "<Figure size 504x504 with 1 Axes>"
            ]
          },
          "metadata": {
            "tags": [],
            "needs_background": "light"
          }
        }
      ]
    },
    {
      "cell_type": "markdown",
      "metadata": {
        "id": "8yeYGJ9vNo9N"
      },
      "source": [
        "From the Word Cloud, we can already see some issues with the data set:\r\n",
        "\r\n",
        "1. There are negative words in the positive texts.\r\n",
        "\r\n",
        "2. The meaningful words are mostly equal and bigger than 5 letters."
      ]
    },
    {
      "cell_type": "code",
      "metadata": {
        "id": "IVMoOeK9EJMR",
        "colab": {
          "base_uri": "https://localhost:8080/",
          "height": 242
        },
        "outputId": "90d96d40-5c1e-4308-9284-145d031b9611"
      },
      "source": [
        "from wordcloud import wordcloud\n",
        "from ar_wordcloud import ArabicWordCloud\n",
        "import arabic_reshaper \n",
        "for emotion in df.Emotion.unique():\n",
        "  #emotion='0'\n",
        "  if emotion== 1:\n",
        "    continue\n",
        "  Data=' '.join(df[df['Emotion']==emotion]['tweet'].values)\n",
        "  Data = arabic_reshaper.reshape(Data)\n",
        "  stops=['اجعل','ايضا','يعني','دكتور']\n",
        "  tokens =[word for word in Data.split() if len(word)>=4 and word not in stops ]\n",
        "  Data=' '.join(tokens)\n",
        "\n",
        "\n",
        "  awc = ArabicWordCloud(max_font_size=50, max_words=60, background_color=\"white\")\n",
        "  wc = awc.from_text(Data)\n",
        "  plt.figure(figsize=(7,7))\n",
        "  plt.imshow(wc, interpolation=\"bilinear\")\n",
        "  plt.axis(\"off\")\n",
        "  plt.title('Negative emotion')\n",
        "plt.show()"
      ],
      "execution_count": 579,
      "outputs": [
        {
          "output_type": "display_data",
          "data": {
            "image/png": "[encoded data removed]",
            "text/plain": [
              "<Figure size 504x504 with 1 Axes>"
            ]
          },
          "metadata": {
            "tags": [],
            "needs_background": "light"
          }
        }
      ]
    },
    {
      "cell_type": "markdown",
      "metadata": {
        "id": "vvUHJFGyicLy"
      },
      "source": [
        "## Show the text length Distribution for each emotion"
      ]
    },
    {
      "cell_type": "code",
      "metadata": {
        "id": "LZxC6zCBrFch"
      },
      "source": [
        "df['Text_Len']= df['tweet'].apply(len)"
      ],
      "execution_count": 581,
      "outputs": []
    },
    {
      "cell_type": "code",
      "metadata": {
        "colab": {
          "base_uri": "https://localhost:8080/",
          "height": 683
        },
        "id": "-xF138INqF7F",
        "outputId": "092bccde-44f4-4fbd-f258-88becf5a5f4e"
      },
      "source": [
        "for emotion in df.Emotion.unique():\n",
        "  df[df.Emotion==emotion]['Text_Len'].plot(\n",
        "      kind='hist',\n",
        "      bins=20,\n",
        "      title='Length Distribution')\n",
        "  plt.xlabel(f'Text length for {emotion} emotion')\n",
        "  plt.show()"
      ],
      "execution_count": 584,
      "outputs": [
        {
          "output_type": "display_data",
          "data": {
            "image/png": "[encoded data removed]",
            "text/plain": [
              "<Figure size 720x360 with 1 Axes>"
            ]
          },
          "metadata": {
            "tags": [],
            "needs_background": "light"
          }
        },
        {
          "output_type": "display_data",
          "data": {
            "image/png": "[encoded data removed]",
            "text/plain": [
              "<Figure size 720x360 with 1 Axes>"
            ]
          },
          "metadata": {
            "tags": [],
            "needs_background": "light"
          }
        }
      ]
    },
    {
      "cell_type": "markdown",
      "metadata": {
        "id": "MlMXpuiZQtaK"
      },
      "source": [
        "We seem to use very few words to express our negative feelings."
      ]
    },
    {
      "cell_type": "markdown",
      "metadata": {
        "id": "84rINT2dfK0S"
      },
      "source": [
        "## Show The Most common words."
      ]
    },
    {
      "cell_type": "code",
      "metadata": {
        "id": "W0R0BjNMTvgY"
      },
      "source": [
        "from collections import Counter\r\n",
        "emotion= 1\r\n",
        "Data=' '.join(df[df['Emotion']==emotion]['tweet'].values)\r\n",
        "stops=[]\r\n",
        "tokens =[word for word in Data.split() if len(word)>5 and word.lower() not in stops ]\r\n",
        "dictWords=Counter(tokens).most_common(20)\r\n"
      ],
      "execution_count": 586,
      "outputs": []
    },
    {
      "cell_type": "code",
      "metadata": {
        "id": "v9RfSfidVmVj"
      },
      "source": [
        "Words=[i[0] for i in dictWords]\r\n",
        "Freq=[i[1] for i in dictWords]\r\n",
        "\r\n",
        "DF=pd.DataFrame({'Word':Words,'Freq':Freq})"
      ],
      "execution_count": 588,
      "outputs": []
    },
    {
      "cell_type": "code",
      "metadata": {
        "colab": {
          "base_uri": "https://localhost:8080/",
          "height": 368
        },
        "id": "NwwGH7L6Vy0v",
        "outputId": "4b1d1597-9263-4a84-cad3-8bea1cba19a1"
      },
      "source": [
        "import seaborn as sns\r\n",
        "plt.figure(figsize=(9,5))\r\n",
        "sns.barplot(x=DF['Word'][0:10],y=DF['Freq'][0:10])\r\n",
        "plt.title(f'Most frequent words for {emotion} emaotion')"
      ],
      "execution_count": 589,
      "outputs": [
        {
          "output_type": "execute_result",
          "data": {
            "text/plain": [
              "Text(0.5, 1.0, 'Most frequent words for 1 emaotion')"
            ]
          },
          "metadata": {
            "tags": []
          },
          "execution_count": 589
        },
        {
          "output_type": "display_data",
          "data": {
            "image/png": "[encoded data removed]",
            "text/plain": [
              "<Figure size 648x360 with 1 Axes>"
            ]
          },
          "metadata": {
            "tags": [],
            "needs_background": "light"
          }
        }
      ]
    },
    {
      "cell_type": "code",
      "metadata": {
        "id": "nT4Hf97vUQ0Y"
      },
      "source": [
        "from collections import Counter\r\n",
        "emotion= 0\r\n",
        "Data=' '.join(df[df['Emotion']==emotion]['tweet'].values)\r\n",
        "stops=['وبالتالي', 'الاردن', 'الواحد', 'للأردن', 'سيمتلك', 'الأكبر', 'النووي']\r\n",
        "tokens =[word.lower() for word in Data.split() if len(word)>5 and word.lower() not in stops ]\r\n",
        "dictWords=Counter(tokens).most_common(20)"
      ],
      "execution_count": 590,
      "outputs": []
    },
    {
      "cell_type": "code",
      "metadata": {
        "id": "OK6fxH4DVjwx"
      },
      "source": [
        "Words=[i[0] for i in dictWords]\r\n",
        "Freq=[i[1] for i in dictWords]\r\n",
        "import pandas as pd\r\n",
        "\r\n",
        "DF=pd.DataFrame({'Word':Words,'Freq':Freq})"
      ],
      "execution_count": 591,
      "outputs": []
    },
    {
      "cell_type": "code",
      "metadata": {
        "colab": {
          "base_uri": "https://localhost:8080/",
          "height": 369
        },
        "id": "75CobQyUWOpO",
        "outputId": "f74e3461-63d3-462a-f609-2db691c2f1d2"
      },
      "source": [
        "plt.figure(figsize=(8,5))\r\n",
        "sns.barplot(x=DF['Word'][0:10],y=DF['Freq'][0:10])\r\n",
        "plt.title(f'Most frequent words for {emotion} emaotion')"
      ],
      "execution_count": 592,
      "outputs": [
        {
          "output_type": "execute_result",
          "data": {
            "text/plain": [
              "Text(0.5, 1.0, 'Most frequent words for 0 emaotion')"
            ]
          },
          "metadata": {
            "tags": []
          },
          "execution_count": 592
        },
        {
          "output_type": "display_data",
          "data": {
            "image/png": "[encoded data removed]",
            "text/plain": [
              "<Figure size 576x360 with 1 Axes>"
            ]
          },
          "metadata": {
            "tags": [],
            "needs_background": "light"
          }
        }
      ]
    },
    {
      "cell_type": "markdown",
      "metadata": {
        "id": "YLHSQMB0I2mj"
      },
      "source": [
        "# Step 3: Features Extraction"
      ]
    },
    {
      "cell_type": "markdown",
      "metadata": {
        "id": "M7-KdzzDp3cl"
      },
      "source": [
        "## **1.** Without Arabic stemer"
      ]
    },
    {
      "cell_type": "markdown",
      "metadata": {
        "id": "O17WimagqYCb"
      },
      "source": [
        "### Tokenization & stemming"
      ]
    },
    {
      "cell_type": "code",
      "metadata": {
        "id": "2ZEXf1jHqYCb"
      },
      "source": [
        "# Function which directly tokenize the tweet data\n",
        "from nltk.tokenize import TweetTokenizer\n",
        "\n",
        "tt = TweetTokenizer( )"
      ],
      "execution_count": 22,
      "outputs": []
    },
    {
      "cell_type": "code",
      "metadata": {
        "id": "p4JXkZeTqYCc"
      },
      "source": [
        "from nltk.stem import PorterStemmer\n",
        "from nltk.tokenize import sent_tokenize, word_tokenize\n",
        "\n",
        "ps = PorterStemmer()"
      ],
      "execution_count": 23,
      "outputs": []
    },
    {
      "cell_type": "code",
      "metadata": {
        "id": "zKTmBBCqqYCd"
      },
      "source": [
        "# create tokenize function\n",
        "def tokenize(text):\n",
        "    return word_tokenize(text)\n",
        "# create steming function\n",
        "def stemming(words):\n",
        "    stem_words = []\n",
        "    for w in words:\n",
        "        w = ps.stem(w)\n",
        "        stem_words.append(w)\n",
        "    \n",
        "    return stem_words"
      ],
      "execution_count": 24,
      "outputs": []
    },
    {
      "cell_type": "code",
      "metadata": {
        "id": "2OZgx8pKqYCd"
      },
      "source": [
        "# apply tokenize function\n",
        "df['text'] = df['tweet'].apply(tokenize)"
      ],
      "execution_count": 25,
      "outputs": []
    },
    {
      "cell_type": "code",
      "metadata": {
        "id": "rruYSi08qYCd"
      },
      "source": [
        "# apply steming function\n",
        "df['tokenized'] = df['text'].apply(stemming)"
      ],
      "execution_count": 26,
      "outputs": []
    },
    {
      "cell_type": "code",
      "metadata": {
        "id": "KkjnXN8XqYCe",
        "colab": {
          "base_uri": "https://localhost:8080/",
          "height": 0
        },
        "outputId": "383c11a5-7063-449f-b8db-d2ee379832d2"
      },
      "source": [
        "df.head()"
      ],
      "execution_count": 27,
      "outputs": [
        {
          "output_type": "execute_result",
          "data": {
            "text/html": [
              "<div>\n",
              "<style scoped>\n",
              "    .dataframe tbody tr th:only-of-type {\n",
              "        vertical-align: middle;\n",
              "    }\n",
              "\n",
              "    .dataframe tbody tr th {\n",
              "        vertical-align: top;\n",
              "    }\n",
              "\n",
              "    .dataframe thead th {\n",
              "        text-align: right;\n",
              "    }\n",
              "</style>\n",
              "<table border=\"1\" class=\"dataframe\">\n",
              "  <thead>\n",
              "    <tr style=\"text-align: right;\">\n",
              "      <th></th>\n",
              "      <th>tweet</th>\n",
              "      <th>Emotion</th>\n",
              "      <th>text</th>\n",
              "      <th>tokenized</th>\n",
              "    </tr>\n",
              "  </thead>\n",
              "  <tbody>\n",
              "    <tr>\n",
              "      <th>0</th>\n",
              "      <td>حقا</td>\n",
              "      <td>1</td>\n",
              "      <td>[حقا]</td>\n",
              "      <td>[حقا]</td>\n",
              "    </tr>\n",
              "    <tr>\n",
              "      <th>1</th>\n",
              "      <td>الحل الوحيد هو القرب من الله وذكره  (الا بذكر...</td>\n",
              "      <td>1</td>\n",
              "      <td>[الحل, الوحيد, هو, القرب, من, الله, وذكره, (, ...</td>\n",
              "      <td>[الحل, الوحيد, هو, القرب, من, الله, وذكره, (, ...</td>\n",
              "    </tr>\n",
              "    <tr>\n",
              "      <th>2</th>\n",
              "      <td>وهذه من اكبر المشاكل التي تؤرق الشباب في هذه ...</td>\n",
              "      <td>1</td>\n",
              "      <td>[وهذه, من, اكبر, المشاكل, التي, تؤرق, الشباب, ...</td>\n",
              "      <td>[وهذه, من, اكبر, المشاكل, التي, تؤرق, الشباب, ...</td>\n",
              "    </tr>\n",
              "    <tr>\n",
              "      <th>3</th>\n",
              "      <td>الموت مع الناس رحمه..</td>\n",
              "      <td>1</td>\n",
              "      <td>[الموت, مع, الناس, رحمه..]</td>\n",
              "      <td>[الموت, مع, الناس, رحمه..]</td>\n",
              "    </tr>\n",
              "    <tr>\n",
              "      <th>4</th>\n",
              "      <td>اي صح و حاليا فاقده الاثنين</td>\n",
              "      <td>1</td>\n",
              "      <td>[اي, صح, و, حاليا, فاقده, الاثنين]</td>\n",
              "      <td>[اي, صح, و, حاليا, فاقده, الاثنين]</td>\n",
              "    </tr>\n",
              "  </tbody>\n",
              "</table>\n",
              "</div>"
            ],
            "text/plain": [
              "                                               tweet  ...                                          tokenized\n",
              "0                                                حقا  ...                                              [حقا]\n",
              "1   الحل الوحيد هو القرب من الله وذكره  (الا بذكر...  ...  [الحل, الوحيد, هو, القرب, من, الله, وذكره, (, ...\n",
              "2   وهذه من اكبر المشاكل التي تؤرق الشباب في هذه ...  ...  [وهذه, من, اكبر, المشاكل, التي, تؤرق, الشباب, ...\n",
              "3                              الموت مع الناس رحمه..  ...                         [الموت, مع, الناس, رحمه..]\n",
              "4                        اي صح و حاليا فاقده الاثنين  ...                 [اي, صح, و, حاليا, فاقده, الاثنين]\n",
              "\n",
              "[5 rows x 4 columns]"
            ]
          },
          "metadata": {
            "tags": []
          },
          "execution_count": 27
        }
      ]
    },
    {
      "cell_type": "markdown",
      "metadata": {
        "id": "VeBytoYzqYCe"
      },
      "source": [
        "### Features Word list"
      ]
    },
    {
      "cell_type": "code",
      "metadata": {
        "id": "SqccH4uoqYCe",
        "colab": {
          "base_uri": "https://localhost:8080/"
        },
        "outputId": "e09e3f13-084d-4bf5-9096-810e1337c2af"
      },
      "source": [
        "words = Counter()\n",
        "for idx in df.index:\n",
        "    words.update(df.loc[idx, \"tokenized\"])\n",
        "\n",
        "words.most_common(5)"
      ],
      "execution_count": 28,
      "outputs": [
        {
          "output_type": "execute_result",
          "data": {
            "text/plain": [
              "[('و', 716), ('الله', 385), ('من', 364), ('في', 230), ('يا', 227)]"
            ]
          },
          "metadata": {
            "tags": []
          },
          "execution_count": 28
        }
      ]
    },
    {
      "cell_type": "code",
      "metadata": {
        "colab": {
          "base_uri": "https://localhost:8080/"
        },
        "id": "vt_piP2OtNnV",
        "outputId": "11179734-8384-4072-c173-bdd78e2a23f3"
      },
      "source": [
        "len(words)"
      ],
      "execution_count": 29,
      "outputs": [
        {
          "output_type": "execute_result",
          "data": {
            "text/plain": [
              "7033"
            ]
          },
          "metadata": {
            "tags": []
          },
          "execution_count": 29
        }
      ]
    },
    {
      "cell_type": "code",
      "metadata": {
        "id": "Xaj3vvn3qYCf",
        "colab": {
          "base_uri": "https://localhost:8080/"
        },
        "outputId": "66f7bf4c-b2dd-4a30-af06-aa94d9deea70"
      },
      "source": [
        "nltk.download('stopwords')\n",
        "stopwords= nltk.corpus.stopwords.words(\"arabic\")"
      ],
      "execution_count": 30,
      "outputs": [
        {
          "output_type": "stream",
          "text": [
            "[nltk_data] Downloading package stopwords to /root/nltk_data...\n",
            "[nltk_data]   Unzipping corpora/stopwords.zip.\n"
          ],
          "name": "stdout"
        }
      ]
    },
    {
      "cell_type": "code",
      "metadata": {
        "colab": {
          "base_uri": "https://localhost:8080/"
        },
        "id": "In-PfFvzjU1q",
        "outputId": "60c81e48-a3d6-47f4-fb01-46b9a983ba39"
      },
      "source": [
        "stopwords[:11] "
      ],
      "execution_count": 31,
      "outputs": [
        {
          "output_type": "execute_result",
          "data": {
            "text/plain": [
              "['إذ', 'إذا', 'إذما', 'إذن', 'أف', 'أقل', 'أكثر', 'ألا', 'إلا', 'التي', 'الذي']"
            ]
          },
          "metadata": {
            "tags": []
          },
          "execution_count": 31
        }
      ]
    },
    {
      "cell_type": "markdown",
      "metadata": {
        "id": "KT4feWSOhrTS"
      },
      "source": [
        "Create white list: There is a meaningful words in the nltk stop words list especially in slang."
      ]
    },
    {
      "cell_type": "code",
      "metadata": {
        "id": "pmr6Ug2-jPQ8"
      },
      "source": [
        "whitelist = ['أف', 'آه', 'بلى', 'إيه', 'أم', 'دون', 'حبذا']"
      ],
      "execution_count": 32,
      "outputs": []
    },
    {
      "cell_type": "markdown",
      "metadata": {
        "id": "iS5PWSvLmMpd"
      },
      "source": [
        "Adding some slang stopwords and some punctuation"
      ]
    },
    {
      "cell_type": "code",
      "metadata": {
        "id": "jO0kzNuPRpKZ"
      },
      "source": [
        "stop_words_add=['و', 'ان', 'انا', '.', '..', '...', 'اللي', 'الى', 'فى',\r\n",
        "                'فى', 'لان', 'شي','لان', 'اشي', 'قبل', 'انو','او','هيك',\r\n",
        "                'انت','احنا','اذا']"
      ],
      "execution_count": 33,
      "outputs": []
    },
    {
      "cell_type": "code",
      "metadata": {
        "id": "94PHkFaKTJng"
      },
      "source": [
        "stopwords = stopwords+stop_words_add"
      ],
      "execution_count": 34,
      "outputs": []
    },
    {
      "cell_type": "markdown",
      "metadata": {
        "id": "tfgzCdepckC7"
      },
      "source": [
        "Delete white word  from stopword list"
      ]
    },
    {
      "cell_type": "code",
      "metadata": {
        "id": "x4234p5cqYCf"
      },
      "source": [
        "for idx, stop_word in enumerate(stopwords):\n",
        "    if stop_word not in whitelist:\n",
        "        del words[stop_word]"
      ],
      "execution_count": 35,
      "outputs": []
    },
    {
      "cell_type": "markdown",
      "metadata": {
        "id": "Pk-SYLwpdFB7"
      },
      "source": [
        "Create features word list dataframe of most common words by the word frequency limitation"
      ]
    },
    {
      "cell_type": "code",
      "metadata": {
        "id": "3s1VOGF1qYCg"
      },
      "source": [
        "min_occurrences= 3 \n",
        "max_occurences= 500\n",
        "word_df = pd.DataFrame(data={\"word\":[k for k, v in words.most_common() if min_occurrences < v < max_occurences],\"occurrences\": [v for k, v in words.most_common() if min_occurrences < v < max_occurences]},\n",
        "                       columns=[\"word\", \"occurrences\"])\n",
        "wordlist = [k for k, v in words.most_common() if min_occurrences < v < max_occurences]"
      ],
      "execution_count": 36,
      "outputs": []
    },
    {
      "cell_type": "code",
      "metadata": {
        "colab": {
          "base_uri": "https://localhost:8080/"
        },
        "id": "BB3eRMqTZO6F",
        "outputId": "1ff1c423-e344-4f79-adac-fa03fbf2d195"
      },
      "source": [
        "len(wordlist)"
      ],
      "execution_count": 37,
      "outputs": [
        {
          "output_type": "execute_result",
          "data": {
            "text/plain": [
              "682"
            ]
          },
          "metadata": {
            "tags": []
          },
          "execution_count": 37
        }
      ]
    },
    {
      "cell_type": "code",
      "metadata": {
        "colab": {
          "base_uri": "https://localhost:8080/"
        },
        "id": "Zx9-SUthZBeO",
        "outputId": "cfcb07ab-c675-47b9-bad7-727a87cfbbd2"
      },
      "source": [
        "word_df.shape"
      ],
      "execution_count": 38,
      "outputs": [
        {
          "output_type": "execute_result",
          "data": {
            "text/plain": [
              "(682, 2)"
            ]
          },
          "metadata": {
            "tags": []
          },
          "execution_count": 38
        }
      ]
    },
    {
      "cell_type": "markdown",
      "metadata": {
        "id": "sug0IfgoqYCh"
      },
      "source": [
        "### Creat Data_model Dataframe"
      ]
    },
    {
      "cell_type": "code",
      "metadata": {
        "id": "EOiXnPNTqYCi",
        "colab": {
          "base_uri": "https://localhost:8080/",
          "height": 438
        },
        "outputId": "c8dd0105-9416-4a60-f311-833135fae6e4"
      },
      "source": [
        "label_column = [\"label\"]\n",
        "columns = label_column + list(map(lambda w: w + \"_prs\",wordlist))\n",
        "labels = []\n",
        "rows = []\n",
        "for idx in df.index:\n",
        "    current_row = []\n",
        "    \n",
        "    # add label\n",
        "    current_label = df.loc[idx, \"Emotion\"]\n",
        "    labels.append(current_label)\n",
        "    current_row.append(current_label)\n",
        "\n",
        "    # add bag-of-words\n",
        "    tokens = set(df.loc[idx, \"text\"])\n",
        "    for _, word in enumerate(wordlist):\n",
        "        current_row.append(1 if word in tokens else 0)\n",
        "\n",
        "    rows.append(current_row)\n",
        "\n",
        "data_model = pd.DataFrame(rows, columns=columns)\n",
        "data_labels = pd.Series(labels)\n",
        "\n",
        "\n",
        "data_model"
      ],
      "execution_count": 40,
      "outputs": [
        {
          "output_type": "execute_result",
          "data": {
            "text/html": [
              "<div>\n",
              "<style scoped>\n",
              "    .dataframe tbody tr th:only-of-type {\n",
              "        vertical-align: middle;\n",
              "    }\n",
              "\n",
              "    .dataframe tbody tr th {\n",
              "        vertical-align: top;\n",
              "    }\n",
              "\n",
              "    .dataframe thead th {\n",
              "        text-align: right;\n",
              "    }\n",
              "</style>\n",
              "<table border=\"1\" class=\"dataframe\">\n",
              "  <thead>\n",
              "    <tr style=\"text-align: right;\">\n",
              "      <th></th>\n",
              "      <th>label</th>\n",
              "      <th>الله_prs</th>\n",
              "      <th>اللهم_prs</th>\n",
              "      <th>!_prs</th>\n",
              "      <th>والله_prs</th>\n",
              "      <th>المفاعل_prs</th>\n",
              "      <th>مش_prs</th>\n",
              "      <th>ربنا_prs</th>\n",
              "      <th>النووي_prs</th>\n",
              "      <th>لله_prs</th>\n",
              "      <th>رب_prs</th>\n",
              "      <th>يارب_prs</th>\n",
              "      <th>صباح_prs</th>\n",
              "      <th>يعني_prs</th>\n",
              "      <th>الطاقة_prs</th>\n",
              "      <th>الحمد_prs</th>\n",
              "      <th>الي_prs</th>\n",
              "      <th>المسلمين_prs</th>\n",
              "      <th>شو_prs</th>\n",
              "      <th>واحد_prs</th>\n",
              "      <th>يكون_prs</th>\n",
              "      <th>الناس_prs</th>\n",
              "      <th>الا_prs</th>\n",
              "      <th>فعلا_prs</th>\n",
              "      <th>ارزقنا_prs</th>\n",
              "      <th>علي_prs</th>\n",
              "      <th>)_prs</th>\n",
              "      <th>جدا_prs</th>\n",
              "      <th>،_prs</th>\n",
              "      <th>علينا_prs</th>\n",
              "      <th>الكهرباء_prs</th>\n",
              "      <th>:_prs</th>\n",
              "      <th>انه_prs</th>\n",
              "      <th>``_prs</th>\n",
              "      <th>الأردن_prs</th>\n",
              "      <th>كلام_prs</th>\n",
              "      <th>بالله_prs</th>\n",
              "      <th>فيك_prs</th>\n",
              "      <th>ده_prs</th>\n",
              "      <th>البرنامج_prs</th>\n",
              "      <th>...</th>\n",
              "      <th>الابتعاد_prs</th>\n",
              "      <th>الأكيد_prs</th>\n",
              "      <th>عبر_prs</th>\n",
              "      <th>التجارب_prs</th>\n",
              "      <th>لهذه_prs</th>\n",
              "      <th>ديون_prs</th>\n",
              "      <th>مستقبلا_prs</th>\n",
              "      <th>الحصول_prs</th>\n",
              "      <th>الصخر_prs</th>\n",
              "      <th>الزيتي_prs</th>\n",
              "      <th>رايح_prs</th>\n",
              "      <th>البديلة_prs</th>\n",
              "      <th>صارت_prs</th>\n",
              "      <th>راحت_prs</th>\n",
              "      <th>.و_prs</th>\n",
              "      <th>نوويه_prs</th>\n",
              "      <th>دول_prs</th>\n",
              "      <th>خسارة_prs</th>\n",
              "      <th>اسمه_prs</th>\n",
              "      <th>ﻻ_prs</th>\n",
              "      <th>؟_prs</th>\n",
              "      <th>الاخوان_prs</th>\n",
              "      <th>لايك_prs</th>\n",
              "      <th>الاسد_prs</th>\n",
              "      <th>زبالة_prs</th>\n",
              "      <th>حالك_prs</th>\n",
              "      <th>هبل_prs</th>\n",
              "      <th>القرف_prs</th>\n",
              "      <th>يخرب_prs</th>\n",
              "      <th>مجانين_prs</th>\n",
              "      <th>سخافه_prs</th>\n",
              "      <th>برامج_prs</th>\n",
              "      <th>العاهات_prs</th>\n",
              "      <th>العود_prs</th>\n",
              "      <th>جايين_prs</th>\n",
              "      <th>هذول_prs</th>\n",
              "      <th>ثقيل_prs</th>\n",
              "      <th>المسخره_prs</th>\n",
              "      <th>عاهاتك_prs</th>\n",
              "      <th>يروحون_prs</th>\n",
              "    </tr>\n",
              "  </thead>\n",
              "  <tbody>\n",
              "    <tr>\n",
              "      <th>0</th>\n",
              "      <td>1</td>\n",
              "      <td>0</td>\n",
              "      <td>0</td>\n",
              "      <td>0</td>\n",
              "      <td>0</td>\n",
              "      <td>0</td>\n",
              "      <td>0</td>\n",
              "      <td>0</td>\n",
              "      <td>0</td>\n",
              "      <td>0</td>\n",
              "      <td>0</td>\n",
              "      <td>0</td>\n",
              "      <td>0</td>\n",
              "      <td>0</td>\n",
              "      <td>0</td>\n",
              "      <td>0</td>\n",
              "      <td>0</td>\n",
              "      <td>0</td>\n",
              "      <td>0</td>\n",
              "      <td>0</td>\n",
              "      <td>0</td>\n",
              "      <td>0</td>\n",
              "      <td>0</td>\n",
              "      <td>0</td>\n",
              "      <td>0</td>\n",
              "      <td>0</td>\n",
              "      <td>0</td>\n",
              "      <td>0</td>\n",
              "      <td>0</td>\n",
              "      <td>0</td>\n",
              "      <td>0</td>\n",
              "      <td>0</td>\n",
              "      <td>0</td>\n",
              "      <td>0</td>\n",
              "      <td>0</td>\n",
              "      <td>0</td>\n",
              "      <td>0</td>\n",
              "      <td>0</td>\n",
              "      <td>0</td>\n",
              "      <td>0</td>\n",
              "      <td>...</td>\n",
              "      <td>0</td>\n",
              "      <td>0</td>\n",
              "      <td>0</td>\n",
              "      <td>0</td>\n",
              "      <td>0</td>\n",
              "      <td>0</td>\n",
              "      <td>0</td>\n",
              "      <td>0</td>\n",
              "      <td>0</td>\n",
              "      <td>0</td>\n",
              "      <td>0</td>\n",
              "      <td>0</td>\n",
              "      <td>0</td>\n",
              "      <td>0</td>\n",
              "      <td>0</td>\n",
              "      <td>0</td>\n",
              "      <td>0</td>\n",
              "      <td>0</td>\n",
              "      <td>0</td>\n",
              "      <td>0</td>\n",
              "      <td>0</td>\n",
              "      <td>0</td>\n",
              "      <td>0</td>\n",
              "      <td>0</td>\n",
              "      <td>0</td>\n",
              "      <td>0</td>\n",
              "      <td>0</td>\n",
              "      <td>0</td>\n",
              "      <td>0</td>\n",
              "      <td>0</td>\n",
              "      <td>0</td>\n",
              "      <td>0</td>\n",
              "      <td>0</td>\n",
              "      <td>0</td>\n",
              "      <td>0</td>\n",
              "      <td>0</td>\n",
              "      <td>0</td>\n",
              "      <td>0</td>\n",
              "      <td>0</td>\n",
              "      <td>0</td>\n",
              "    </tr>\n",
              "    <tr>\n",
              "      <th>1</th>\n",
              "      <td>1</td>\n",
              "      <td>1</td>\n",
              "      <td>0</td>\n",
              "      <td>0</td>\n",
              "      <td>0</td>\n",
              "      <td>0</td>\n",
              "      <td>0</td>\n",
              "      <td>0</td>\n",
              "      <td>0</td>\n",
              "      <td>0</td>\n",
              "      <td>0</td>\n",
              "      <td>0</td>\n",
              "      <td>0</td>\n",
              "      <td>0</td>\n",
              "      <td>0</td>\n",
              "      <td>0</td>\n",
              "      <td>0</td>\n",
              "      <td>0</td>\n",
              "      <td>0</td>\n",
              "      <td>0</td>\n",
              "      <td>0</td>\n",
              "      <td>0</td>\n",
              "      <td>1</td>\n",
              "      <td>0</td>\n",
              "      <td>0</td>\n",
              "      <td>0</td>\n",
              "      <td>1</td>\n",
              "      <td>0</td>\n",
              "      <td>0</td>\n",
              "      <td>0</td>\n",
              "      <td>0</td>\n",
              "      <td>0</td>\n",
              "      <td>0</td>\n",
              "      <td>0</td>\n",
              "      <td>0</td>\n",
              "      <td>0</td>\n",
              "      <td>0</td>\n",
              "      <td>0</td>\n",
              "      <td>0</td>\n",
              "      <td>0</td>\n",
              "      <td>...</td>\n",
              "      <td>0</td>\n",
              "      <td>0</td>\n",
              "      <td>0</td>\n",
              "      <td>0</td>\n",
              "      <td>0</td>\n",
              "      <td>0</td>\n",
              "      <td>0</td>\n",
              "      <td>0</td>\n",
              "      <td>0</td>\n",
              "      <td>0</td>\n",
              "      <td>0</td>\n",
              "      <td>0</td>\n",
              "      <td>0</td>\n",
              "      <td>0</td>\n",
              "      <td>0</td>\n",
              "      <td>0</td>\n",
              "      <td>0</td>\n",
              "      <td>0</td>\n",
              "      <td>0</td>\n",
              "      <td>0</td>\n",
              "      <td>0</td>\n",
              "      <td>0</td>\n",
              "      <td>0</td>\n",
              "      <td>0</td>\n",
              "      <td>0</td>\n",
              "      <td>0</td>\n",
              "      <td>0</td>\n",
              "      <td>0</td>\n",
              "      <td>0</td>\n",
              "      <td>0</td>\n",
              "      <td>0</td>\n",
              "      <td>0</td>\n",
              "      <td>0</td>\n",
              "      <td>0</td>\n",
              "      <td>0</td>\n",
              "      <td>0</td>\n",
              "      <td>0</td>\n",
              "      <td>0</td>\n",
              "      <td>0</td>\n",
              "      <td>0</td>\n",
              "    </tr>\n",
              "    <tr>\n",
              "      <th>2</th>\n",
              "      <td>1</td>\n",
              "      <td>0</td>\n",
              "      <td>0</td>\n",
              "      <td>0</td>\n",
              "      <td>0</td>\n",
              "      <td>0</td>\n",
              "      <td>0</td>\n",
              "      <td>0</td>\n",
              "      <td>0</td>\n",
              "      <td>0</td>\n",
              "      <td>0</td>\n",
              "      <td>0</td>\n",
              "      <td>0</td>\n",
              "      <td>0</td>\n",
              "      <td>0</td>\n",
              "      <td>0</td>\n",
              "      <td>0</td>\n",
              "      <td>0</td>\n",
              "      <td>0</td>\n",
              "      <td>0</td>\n",
              "      <td>0</td>\n",
              "      <td>0</td>\n",
              "      <td>0</td>\n",
              "      <td>0</td>\n",
              "      <td>0</td>\n",
              "      <td>0</td>\n",
              "      <td>0</td>\n",
              "      <td>0</td>\n",
              "      <td>0</td>\n",
              "      <td>0</td>\n",
              "      <td>0</td>\n",
              "      <td>0</td>\n",
              "      <td>0</td>\n",
              "      <td>0</td>\n",
              "      <td>0</td>\n",
              "      <td>0</td>\n",
              "      <td>0</td>\n",
              "      <td>0</td>\n",
              "      <td>0</td>\n",
              "      <td>0</td>\n",
              "      <td>...</td>\n",
              "      <td>0</td>\n",
              "      <td>0</td>\n",
              "      <td>0</td>\n",
              "      <td>0</td>\n",
              "      <td>0</td>\n",
              "      <td>0</td>\n",
              "      <td>0</td>\n",
              "      <td>0</td>\n",
              "      <td>0</td>\n",
              "      <td>0</td>\n",
              "      <td>0</td>\n",
              "      <td>0</td>\n",
              "      <td>0</td>\n",
              "      <td>0</td>\n",
              "      <td>0</td>\n",
              "      <td>0</td>\n",
              "      <td>0</td>\n",
              "      <td>0</td>\n",
              "      <td>0</td>\n",
              "      <td>0</td>\n",
              "      <td>0</td>\n",
              "      <td>0</td>\n",
              "      <td>0</td>\n",
              "      <td>0</td>\n",
              "      <td>0</td>\n",
              "      <td>0</td>\n",
              "      <td>0</td>\n",
              "      <td>0</td>\n",
              "      <td>0</td>\n",
              "      <td>0</td>\n",
              "      <td>0</td>\n",
              "      <td>0</td>\n",
              "      <td>0</td>\n",
              "      <td>0</td>\n",
              "      <td>0</td>\n",
              "      <td>0</td>\n",
              "      <td>0</td>\n",
              "      <td>0</td>\n",
              "      <td>0</td>\n",
              "      <td>0</td>\n",
              "    </tr>\n",
              "    <tr>\n",
              "      <th>3</th>\n",
              "      <td>1</td>\n",
              "      <td>0</td>\n",
              "      <td>0</td>\n",
              "      <td>0</td>\n",
              "      <td>0</td>\n",
              "      <td>0</td>\n",
              "      <td>0</td>\n",
              "      <td>0</td>\n",
              "      <td>0</td>\n",
              "      <td>0</td>\n",
              "      <td>0</td>\n",
              "      <td>0</td>\n",
              "      <td>0</td>\n",
              "      <td>0</td>\n",
              "      <td>0</td>\n",
              "      <td>0</td>\n",
              "      <td>0</td>\n",
              "      <td>0</td>\n",
              "      <td>0</td>\n",
              "      <td>0</td>\n",
              "      <td>0</td>\n",
              "      <td>1</td>\n",
              "      <td>0</td>\n",
              "      <td>0</td>\n",
              "      <td>0</td>\n",
              "      <td>0</td>\n",
              "      <td>0</td>\n",
              "      <td>0</td>\n",
              "      <td>0</td>\n",
              "      <td>0</td>\n",
              "      <td>0</td>\n",
              "      <td>0</td>\n",
              "      <td>0</td>\n",
              "      <td>0</td>\n",
              "      <td>0</td>\n",
              "      <td>0</td>\n",
              "      <td>0</td>\n",
              "      <td>0</td>\n",
              "      <td>0</td>\n",
              "      <td>0</td>\n",
              "      <td>...</td>\n",
              "      <td>0</td>\n",
              "      <td>0</td>\n",
              "      <td>0</td>\n",
              "      <td>0</td>\n",
              "      <td>0</td>\n",
              "      <td>0</td>\n",
              "      <td>0</td>\n",
              "      <td>0</td>\n",
              "      <td>0</td>\n",
              "      <td>0</td>\n",
              "      <td>0</td>\n",
              "      <td>0</td>\n",
              "      <td>0</td>\n",
              "      <td>0</td>\n",
              "      <td>0</td>\n",
              "      <td>0</td>\n",
              "      <td>0</td>\n",
              "      <td>0</td>\n",
              "      <td>0</td>\n",
              "      <td>0</td>\n",
              "      <td>0</td>\n",
              "      <td>0</td>\n",
              "      <td>0</td>\n",
              "      <td>0</td>\n",
              "      <td>0</td>\n",
              "      <td>0</td>\n",
              "      <td>0</td>\n",
              "      <td>0</td>\n",
              "      <td>0</td>\n",
              "      <td>0</td>\n",
              "      <td>0</td>\n",
              "      <td>0</td>\n",
              "      <td>0</td>\n",
              "      <td>0</td>\n",
              "      <td>0</td>\n",
              "      <td>0</td>\n",
              "      <td>0</td>\n",
              "      <td>0</td>\n",
              "      <td>0</td>\n",
              "      <td>0</td>\n",
              "    </tr>\n",
              "    <tr>\n",
              "      <th>4</th>\n",
              "      <td>1</td>\n",
              "      <td>0</td>\n",
              "      <td>0</td>\n",
              "      <td>0</td>\n",
              "      <td>0</td>\n",
              "      <td>0</td>\n",
              "      <td>0</td>\n",
              "      <td>0</td>\n",
              "      <td>0</td>\n",
              "      <td>0</td>\n",
              "      <td>0</td>\n",
              "      <td>0</td>\n",
              "      <td>0</td>\n",
              "      <td>0</td>\n",
              "      <td>0</td>\n",
              "      <td>0</td>\n",
              "      <td>0</td>\n",
              "      <td>0</td>\n",
              "      <td>0</td>\n",
              "      <td>0</td>\n",
              "      <td>0</td>\n",
              "      <td>0</td>\n",
              "      <td>0</td>\n",
              "      <td>0</td>\n",
              "      <td>0</td>\n",
              "      <td>0</td>\n",
              "      <td>0</td>\n",
              "      <td>0</td>\n",
              "      <td>0</td>\n",
              "      <td>0</td>\n",
              "      <td>0</td>\n",
              "      <td>0</td>\n",
              "      <td>0</td>\n",
              "      <td>0</td>\n",
              "      <td>0</td>\n",
              "      <td>0</td>\n",
              "      <td>0</td>\n",
              "      <td>0</td>\n",
              "      <td>0</td>\n",
              "      <td>0</td>\n",
              "      <td>...</td>\n",
              "      <td>0</td>\n",
              "      <td>0</td>\n",
              "      <td>0</td>\n",
              "      <td>0</td>\n",
              "      <td>0</td>\n",
              "      <td>0</td>\n",
              "      <td>0</td>\n",
              "      <td>0</td>\n",
              "      <td>0</td>\n",
              "      <td>0</td>\n",
              "      <td>0</td>\n",
              "      <td>0</td>\n",
              "      <td>0</td>\n",
              "      <td>0</td>\n",
              "      <td>0</td>\n",
              "      <td>0</td>\n",
              "      <td>0</td>\n",
              "      <td>0</td>\n",
              "      <td>0</td>\n",
              "      <td>0</td>\n",
              "      <td>0</td>\n",
              "      <td>0</td>\n",
              "      <td>0</td>\n",
              "      <td>0</td>\n",
              "      <td>0</td>\n",
              "      <td>0</td>\n",
              "      <td>0</td>\n",
              "      <td>0</td>\n",
              "      <td>0</td>\n",
              "      <td>0</td>\n",
              "      <td>0</td>\n",
              "      <td>0</td>\n",
              "      <td>0</td>\n",
              "      <td>0</td>\n",
              "      <td>0</td>\n",
              "      <td>0</td>\n",
              "      <td>0</td>\n",
              "      <td>0</td>\n",
              "      <td>0</td>\n",
              "      <td>0</td>\n",
              "    </tr>\n",
              "    <tr>\n",
              "      <th>...</th>\n",
              "      <td>...</td>\n",
              "      <td>...</td>\n",
              "      <td>...</td>\n",
              "      <td>...</td>\n",
              "      <td>...</td>\n",
              "      <td>...</td>\n",
              "      <td>...</td>\n",
              "      <td>...</td>\n",
              "      <td>...</td>\n",
              "      <td>...</td>\n",
              "      <td>...</td>\n",
              "      <td>...</td>\n",
              "      <td>...</td>\n",
              "      <td>...</td>\n",
              "      <td>...</td>\n",
              "      <td>...</td>\n",
              "      <td>...</td>\n",
              "      <td>...</td>\n",
              "      <td>...</td>\n",
              "      <td>...</td>\n",
              "      <td>...</td>\n",
              "      <td>...</td>\n",
              "      <td>...</td>\n",
              "      <td>...</td>\n",
              "      <td>...</td>\n",
              "      <td>...</td>\n",
              "      <td>...</td>\n",
              "      <td>...</td>\n",
              "      <td>...</td>\n",
              "      <td>...</td>\n",
              "      <td>...</td>\n",
              "      <td>...</td>\n",
              "      <td>...</td>\n",
              "      <td>...</td>\n",
              "      <td>...</td>\n",
              "      <td>...</td>\n",
              "      <td>...</td>\n",
              "      <td>...</td>\n",
              "      <td>...</td>\n",
              "      <td>...</td>\n",
              "      <td>...</td>\n",
              "      <td>...</td>\n",
              "      <td>...</td>\n",
              "      <td>...</td>\n",
              "      <td>...</td>\n",
              "      <td>...</td>\n",
              "      <td>...</td>\n",
              "      <td>...</td>\n",
              "      <td>...</td>\n",
              "      <td>...</td>\n",
              "      <td>...</td>\n",
              "      <td>...</td>\n",
              "      <td>...</td>\n",
              "      <td>...</td>\n",
              "      <td>...</td>\n",
              "      <td>...</td>\n",
              "      <td>...</td>\n",
              "      <td>...</td>\n",
              "      <td>...</td>\n",
              "      <td>...</td>\n",
              "      <td>...</td>\n",
              "      <td>...</td>\n",
              "      <td>...</td>\n",
              "      <td>...</td>\n",
              "      <td>...</td>\n",
              "      <td>...</td>\n",
              "      <td>...</td>\n",
              "      <td>...</td>\n",
              "      <td>...</td>\n",
              "      <td>...</td>\n",
              "      <td>...</td>\n",
              "      <td>...</td>\n",
              "      <td>...</td>\n",
              "      <td>...</td>\n",
              "      <td>...</td>\n",
              "      <td>...</td>\n",
              "      <td>...</td>\n",
              "      <td>...</td>\n",
              "      <td>...</td>\n",
              "      <td>...</td>\n",
              "      <td>...</td>\n",
              "    </tr>\n",
              "    <tr>\n",
              "      <th>1972</th>\n",
              "      <td>0</td>\n",
              "      <td>0</td>\n",
              "      <td>0</td>\n",
              "      <td>0</td>\n",
              "      <td>0</td>\n",
              "      <td>0</td>\n",
              "      <td>0</td>\n",
              "      <td>0</td>\n",
              "      <td>0</td>\n",
              "      <td>0</td>\n",
              "      <td>0</td>\n",
              "      <td>0</td>\n",
              "      <td>0</td>\n",
              "      <td>0</td>\n",
              "      <td>0</td>\n",
              "      <td>0</td>\n",
              "      <td>0</td>\n",
              "      <td>0</td>\n",
              "      <td>0</td>\n",
              "      <td>0</td>\n",
              "      <td>0</td>\n",
              "      <td>0</td>\n",
              "      <td>1</td>\n",
              "      <td>0</td>\n",
              "      <td>0</td>\n",
              "      <td>0</td>\n",
              "      <td>0</td>\n",
              "      <td>0</td>\n",
              "      <td>0</td>\n",
              "      <td>0</td>\n",
              "      <td>0</td>\n",
              "      <td>0</td>\n",
              "      <td>0</td>\n",
              "      <td>0</td>\n",
              "      <td>0</td>\n",
              "      <td>0</td>\n",
              "      <td>0</td>\n",
              "      <td>0</td>\n",
              "      <td>0</td>\n",
              "      <td>0</td>\n",
              "      <td>...</td>\n",
              "      <td>0</td>\n",
              "      <td>0</td>\n",
              "      <td>0</td>\n",
              "      <td>0</td>\n",
              "      <td>0</td>\n",
              "      <td>0</td>\n",
              "      <td>0</td>\n",
              "      <td>0</td>\n",
              "      <td>0</td>\n",
              "      <td>0</td>\n",
              "      <td>0</td>\n",
              "      <td>0</td>\n",
              "      <td>0</td>\n",
              "      <td>0</td>\n",
              "      <td>0</td>\n",
              "      <td>0</td>\n",
              "      <td>0</td>\n",
              "      <td>0</td>\n",
              "      <td>1</td>\n",
              "      <td>0</td>\n",
              "      <td>0</td>\n",
              "      <td>0</td>\n",
              "      <td>0</td>\n",
              "      <td>0</td>\n",
              "      <td>0</td>\n",
              "      <td>0</td>\n",
              "      <td>0</td>\n",
              "      <td>0</td>\n",
              "      <td>0</td>\n",
              "      <td>0</td>\n",
              "      <td>0</td>\n",
              "      <td>0</td>\n",
              "      <td>0</td>\n",
              "      <td>0</td>\n",
              "      <td>0</td>\n",
              "      <td>0</td>\n",
              "      <td>0</td>\n",
              "      <td>0</td>\n",
              "      <td>0</td>\n",
              "      <td>0</td>\n",
              "    </tr>\n",
              "    <tr>\n",
              "      <th>1973</th>\n",
              "      <td>0</td>\n",
              "      <td>1</td>\n",
              "      <td>0</td>\n",
              "      <td>0</td>\n",
              "      <td>0</td>\n",
              "      <td>0</td>\n",
              "      <td>0</td>\n",
              "      <td>0</td>\n",
              "      <td>0</td>\n",
              "      <td>0</td>\n",
              "      <td>0</td>\n",
              "      <td>0</td>\n",
              "      <td>0</td>\n",
              "      <td>0</td>\n",
              "      <td>0</td>\n",
              "      <td>0</td>\n",
              "      <td>0</td>\n",
              "      <td>0</td>\n",
              "      <td>0</td>\n",
              "      <td>0</td>\n",
              "      <td>0</td>\n",
              "      <td>0</td>\n",
              "      <td>0</td>\n",
              "      <td>0</td>\n",
              "      <td>0</td>\n",
              "      <td>0</td>\n",
              "      <td>0</td>\n",
              "      <td>0</td>\n",
              "      <td>0</td>\n",
              "      <td>0</td>\n",
              "      <td>0</td>\n",
              "      <td>0</td>\n",
              "      <td>0</td>\n",
              "      <td>0</td>\n",
              "      <td>0</td>\n",
              "      <td>0</td>\n",
              "      <td>0</td>\n",
              "      <td>0</td>\n",
              "      <td>0</td>\n",
              "      <td>0</td>\n",
              "      <td>...</td>\n",
              "      <td>0</td>\n",
              "      <td>0</td>\n",
              "      <td>0</td>\n",
              "      <td>0</td>\n",
              "      <td>0</td>\n",
              "      <td>0</td>\n",
              "      <td>0</td>\n",
              "      <td>0</td>\n",
              "      <td>0</td>\n",
              "      <td>0</td>\n",
              "      <td>0</td>\n",
              "      <td>0</td>\n",
              "      <td>0</td>\n",
              "      <td>0</td>\n",
              "      <td>0</td>\n",
              "      <td>0</td>\n",
              "      <td>0</td>\n",
              "      <td>0</td>\n",
              "      <td>0</td>\n",
              "      <td>0</td>\n",
              "      <td>0</td>\n",
              "      <td>0</td>\n",
              "      <td>0</td>\n",
              "      <td>0</td>\n",
              "      <td>0</td>\n",
              "      <td>0</td>\n",
              "      <td>0</td>\n",
              "      <td>0</td>\n",
              "      <td>0</td>\n",
              "      <td>0</td>\n",
              "      <td>0</td>\n",
              "      <td>0</td>\n",
              "      <td>0</td>\n",
              "      <td>0</td>\n",
              "      <td>0</td>\n",
              "      <td>0</td>\n",
              "      <td>0</td>\n",
              "      <td>0</td>\n",
              "      <td>0</td>\n",
              "      <td>0</td>\n",
              "    </tr>\n",
              "    <tr>\n",
              "      <th>1974</th>\n",
              "      <td>0</td>\n",
              "      <td>0</td>\n",
              "      <td>0</td>\n",
              "      <td>0</td>\n",
              "      <td>0</td>\n",
              "      <td>0</td>\n",
              "      <td>0</td>\n",
              "      <td>0</td>\n",
              "      <td>0</td>\n",
              "      <td>0</td>\n",
              "      <td>0</td>\n",
              "      <td>0</td>\n",
              "      <td>0</td>\n",
              "      <td>0</td>\n",
              "      <td>0</td>\n",
              "      <td>0</td>\n",
              "      <td>0</td>\n",
              "      <td>0</td>\n",
              "      <td>0</td>\n",
              "      <td>0</td>\n",
              "      <td>0</td>\n",
              "      <td>0</td>\n",
              "      <td>0</td>\n",
              "      <td>0</td>\n",
              "      <td>0</td>\n",
              "      <td>0</td>\n",
              "      <td>0</td>\n",
              "      <td>0</td>\n",
              "      <td>0</td>\n",
              "      <td>0</td>\n",
              "      <td>0</td>\n",
              "      <td>0</td>\n",
              "      <td>0</td>\n",
              "      <td>0</td>\n",
              "      <td>0</td>\n",
              "      <td>0</td>\n",
              "      <td>0</td>\n",
              "      <td>0</td>\n",
              "      <td>0</td>\n",
              "      <td>0</td>\n",
              "      <td>...</td>\n",
              "      <td>0</td>\n",
              "      <td>0</td>\n",
              "      <td>0</td>\n",
              "      <td>0</td>\n",
              "      <td>0</td>\n",
              "      <td>0</td>\n",
              "      <td>0</td>\n",
              "      <td>0</td>\n",
              "      <td>0</td>\n",
              "      <td>0</td>\n",
              "      <td>0</td>\n",
              "      <td>0</td>\n",
              "      <td>0</td>\n",
              "      <td>0</td>\n",
              "      <td>0</td>\n",
              "      <td>0</td>\n",
              "      <td>0</td>\n",
              "      <td>0</td>\n",
              "      <td>0</td>\n",
              "      <td>0</td>\n",
              "      <td>0</td>\n",
              "      <td>0</td>\n",
              "      <td>0</td>\n",
              "      <td>0</td>\n",
              "      <td>0</td>\n",
              "      <td>0</td>\n",
              "      <td>0</td>\n",
              "      <td>0</td>\n",
              "      <td>0</td>\n",
              "      <td>0</td>\n",
              "      <td>0</td>\n",
              "      <td>0</td>\n",
              "      <td>0</td>\n",
              "      <td>0</td>\n",
              "      <td>0</td>\n",
              "      <td>0</td>\n",
              "      <td>0</td>\n",
              "      <td>0</td>\n",
              "      <td>0</td>\n",
              "      <td>0</td>\n",
              "    </tr>\n",
              "    <tr>\n",
              "      <th>1975</th>\n",
              "      <td>0</td>\n",
              "      <td>0</td>\n",
              "      <td>0</td>\n",
              "      <td>0</td>\n",
              "      <td>1</td>\n",
              "      <td>0</td>\n",
              "      <td>0</td>\n",
              "      <td>0</td>\n",
              "      <td>0</td>\n",
              "      <td>0</td>\n",
              "      <td>0</td>\n",
              "      <td>0</td>\n",
              "      <td>0</td>\n",
              "      <td>0</td>\n",
              "      <td>0</td>\n",
              "      <td>0</td>\n",
              "      <td>0</td>\n",
              "      <td>0</td>\n",
              "      <td>0</td>\n",
              "      <td>0</td>\n",
              "      <td>0</td>\n",
              "      <td>0</td>\n",
              "      <td>0</td>\n",
              "      <td>0</td>\n",
              "      <td>0</td>\n",
              "      <td>0</td>\n",
              "      <td>0</td>\n",
              "      <td>0</td>\n",
              "      <td>0</td>\n",
              "      <td>0</td>\n",
              "      <td>0</td>\n",
              "      <td>0</td>\n",
              "      <td>0</td>\n",
              "      <td>0</td>\n",
              "      <td>0</td>\n",
              "      <td>0</td>\n",
              "      <td>0</td>\n",
              "      <td>0</td>\n",
              "      <td>0</td>\n",
              "      <td>0</td>\n",
              "      <td>...</td>\n",
              "      <td>0</td>\n",
              "      <td>0</td>\n",
              "      <td>0</td>\n",
              "      <td>0</td>\n",
              "      <td>0</td>\n",
              "      <td>0</td>\n",
              "      <td>0</td>\n",
              "      <td>0</td>\n",
              "      <td>0</td>\n",
              "      <td>0</td>\n",
              "      <td>0</td>\n",
              "      <td>0</td>\n",
              "      <td>0</td>\n",
              "      <td>0</td>\n",
              "      <td>0</td>\n",
              "      <td>0</td>\n",
              "      <td>0</td>\n",
              "      <td>0</td>\n",
              "      <td>0</td>\n",
              "      <td>0</td>\n",
              "      <td>0</td>\n",
              "      <td>0</td>\n",
              "      <td>0</td>\n",
              "      <td>0</td>\n",
              "      <td>0</td>\n",
              "      <td>0</td>\n",
              "      <td>0</td>\n",
              "      <td>0</td>\n",
              "      <td>0</td>\n",
              "      <td>0</td>\n",
              "      <td>0</td>\n",
              "      <td>0</td>\n",
              "      <td>0</td>\n",
              "      <td>0</td>\n",
              "      <td>0</td>\n",
              "      <td>0</td>\n",
              "      <td>0</td>\n",
              "      <td>0</td>\n",
              "      <td>0</td>\n",
              "      <td>0</td>\n",
              "    </tr>\n",
              "    <tr>\n",
              "      <th>1976</th>\n",
              "      <td>0</td>\n",
              "      <td>0</td>\n",
              "      <td>0</td>\n",
              "      <td>1</td>\n",
              "      <td>0</td>\n",
              "      <td>0</td>\n",
              "      <td>0</td>\n",
              "      <td>0</td>\n",
              "      <td>0</td>\n",
              "      <td>0</td>\n",
              "      <td>0</td>\n",
              "      <td>0</td>\n",
              "      <td>0</td>\n",
              "      <td>0</td>\n",
              "      <td>0</td>\n",
              "      <td>0</td>\n",
              "      <td>0</td>\n",
              "      <td>0</td>\n",
              "      <td>1</td>\n",
              "      <td>0</td>\n",
              "      <td>0</td>\n",
              "      <td>0</td>\n",
              "      <td>0</td>\n",
              "      <td>0</td>\n",
              "      <td>0</td>\n",
              "      <td>0</td>\n",
              "      <td>0</td>\n",
              "      <td>0</td>\n",
              "      <td>0</td>\n",
              "      <td>0</td>\n",
              "      <td>0</td>\n",
              "      <td>0</td>\n",
              "      <td>0</td>\n",
              "      <td>0</td>\n",
              "      <td>0</td>\n",
              "      <td>0</td>\n",
              "      <td>0</td>\n",
              "      <td>0</td>\n",
              "      <td>0</td>\n",
              "      <td>1</td>\n",
              "      <td>...</td>\n",
              "      <td>0</td>\n",
              "      <td>0</td>\n",
              "      <td>0</td>\n",
              "      <td>0</td>\n",
              "      <td>0</td>\n",
              "      <td>0</td>\n",
              "      <td>0</td>\n",
              "      <td>0</td>\n",
              "      <td>0</td>\n",
              "      <td>0</td>\n",
              "      <td>0</td>\n",
              "      <td>0</td>\n",
              "      <td>0</td>\n",
              "      <td>0</td>\n",
              "      <td>0</td>\n",
              "      <td>0</td>\n",
              "      <td>0</td>\n",
              "      <td>0</td>\n",
              "      <td>0</td>\n",
              "      <td>0</td>\n",
              "      <td>0</td>\n",
              "      <td>0</td>\n",
              "      <td>0</td>\n",
              "      <td>0</td>\n",
              "      <td>0</td>\n",
              "      <td>0</td>\n",
              "      <td>0</td>\n",
              "      <td>0</td>\n",
              "      <td>0</td>\n",
              "      <td>0</td>\n",
              "      <td>0</td>\n",
              "      <td>0</td>\n",
              "      <td>0</td>\n",
              "      <td>0</td>\n",
              "      <td>0</td>\n",
              "      <td>0</td>\n",
              "      <td>0</td>\n",
              "      <td>0</td>\n",
              "      <td>0</td>\n",
              "      <td>0</td>\n",
              "    </tr>\n",
              "  </tbody>\n",
              "</table>\n",
              "<p>1977 rows × 683 columns</p>\n",
              "</div>"
            ],
            "text/plain": [
              "      label  الله_prs  اللهم_prs  ...  المسخره_prs  عاهاتك_prs  يروحون_prs\n",
              "0         1         0          0  ...            0           0           0\n",
              "1         1         1          0  ...            0           0           0\n",
              "2         1         0          0  ...            0           0           0\n",
              "3         1         0          0  ...            0           0           0\n",
              "4         1         0          0  ...            0           0           0\n",
              "...     ...       ...        ...  ...          ...         ...         ...\n",
              "1972      0         0          0  ...            0           0           0\n",
              "1973      0         1          0  ...            0           0           0\n",
              "1974      0         0          0  ...            0           0           0\n",
              "1975      0         0          0  ...            0           0           0\n",
              "1976      0         0          0  ...            0           0           0\n",
              "\n",
              "[1977 rows x 683 columns]"
            ]
          },
          "metadata": {
            "tags": []
          },
          "execution_count": 40
        }
      ]
    },
    {
      "cell_type": "code",
      "metadata": {
        "colab": {
          "base_uri": "https://localhost:8080/"
        },
        "id": "OcRaMMURHcAZ",
        "outputId": "016508a6-bd0d-40c5-e8ca-4efa3fabfe74"
      },
      "source": [
        "data_model.shape"
      ],
      "execution_count": 41,
      "outputs": [
        {
          "output_type": "execute_result",
          "data": {
            "text/plain": [
              "(1977, 683)"
            ]
          },
          "metadata": {
            "tags": []
          },
          "execution_count": 41
        }
      ]
    },
    {
      "cell_type": "markdown",
      "metadata": {
        "id": "bm7ikHBwhHaQ"
      },
      "source": [
        "## Accureccy Evaluation"
      ]
    },
    {
      "cell_type": "code",
      "metadata": {
        "colab": {
          "base_uri": "https://localhost:8080/"
        },
        "id": "lEYEw5GSmpFx",
        "outputId": "a5d6ebb5-30a0-4cd8-97a9-26e321e12a6f"
      },
      "source": [
        "from sklearn.neighbors import NearestCentroid\r\n",
        "all_inputs = data_model[data_model.columns[1:]].values\r\n",
        "all_labels = data_model['label'].values\r\n",
        "\r\n",
        "(X_train, X_test, y_train, y_test) = train_test_split(all_inputs, all_labels, test_size=0.1, random_state=1)\r\n",
        "from sklearn.preprocessing import StandardScaler\r\n",
        "sc = StandardScaler()\r\n",
        "X_train = sc.fit_transform(X_train)\r\n",
        "X_test = sc.transform(X_test)\r\n",
        "\r\n",
        "# Train the classifier on the training set\r\n",
        "cls = NearestCentroid()\r\n",
        "cls.fit(X_train,y_train)\r\n",
        "cls.score(X_test, y_test)"
      ],
      "execution_count": 87,
      "outputs": [
        {
          "output_type": "execute_result",
          "data": {
            "text/plain": [
              "0.7878787878787878"
            ]
          },
          "metadata": {
            "tags": []
          },
          "execution_count": 87
        }
      ]
    },
    {
      "cell_type": "code",
      "metadata": {
        "id": "83ZcYGSi-GKW"
      },
      "source": [
        "data_model.to_csv('to_classification_df.csv',index=False)"
      ],
      "execution_count": 43,
      "outputs": []
    },
    {
      "cell_type": "markdown",
      "metadata": {
        "id": "xsmJfEzpCHAw"
      },
      "source": [
        "## **2.** Using ISRI Stemmer to stem arabic words"
      ]
    },
    {
      "cell_type": "code",
      "metadata": {
        "colab": {
          "base_uri": "https://localhost:8080/",
          "height": 35
        },
        "id": "-5Z41FmsCHAy",
        "outputId": "aad93c53-35b5-42cd-a767-f0943a93751e"
      },
      "source": [
        "from nltk.stem.isri import ISRIStemmer\r\n",
        "st = ISRIStemmer()\r\n",
        "\r\n",
        "w = 'حركات' \r\n",
        "st.stem(w)"
      ],
      "execution_count": null,
      "outputs": [
        {
          "output_type": "execute_result",
          "data": {
            "application/vnd.google.colaboratory.intrinsic+json": {
              "type": "string"
            },
            "text/plain": [
              "'حرك'"
            ]
          },
          "metadata": {
            "tags": []
          },
          "execution_count": 36
        }
      ]
    },
    {
      "cell_type": "markdown",
      "metadata": {
        "id": "lZ5vfyWNqYrp"
      },
      "source": [
        "### Tokenization & stemming"
      ]
    },
    {
      "cell_type": "code",
      "metadata": {
        "id": "EwAyqkZmqYrr"
      },
      "source": [
        "# Function which directly tokenize the tweet data\n",
        "from nltk.tokenize import TweetTokenizer\n",
        "\n",
        "tt = TweetTokenizer( )"
      ],
      "execution_count": 50,
      "outputs": []
    },
    {
      "cell_type": "code",
      "metadata": {
        "id": "Wzu_PsxHqYrt"
      },
      "source": [
        "from nltk.stem.isri import ISRIStemmer\n",
        "from nltk.tokenize import sent_tokenize, word_tokenize\n",
        "\n",
        "ps = ISRIStemmer()"
      ],
      "execution_count": 51,
      "outputs": []
    },
    {
      "cell_type": "code",
      "metadata": {
        "id": "3FAhmz0VqYru"
      },
      "source": [
        "# create tokenize function\n",
        "def tokenize(text):\n",
        "    return word_tokenize(text)\n",
        "# create steming function\n",
        "def stemming(words):\n",
        "    stem_words = []\n",
        "    for w in words:\n",
        "        w = ps.stem(w)\n",
        "        stem_words.append(w)\n",
        "    \n",
        "    return stem_words"
      ],
      "execution_count": 52,
      "outputs": []
    },
    {
      "cell_type": "code",
      "metadata": {
        "id": "ghkWKkb6qYrw"
      },
      "source": [
        "# apply tokenize function\n",
        "df['text'] = df['tweet'].apply(tokenize)"
      ],
      "execution_count": 53,
      "outputs": []
    },
    {
      "cell_type": "code",
      "metadata": {
        "id": "4mztEr6XqYrx"
      },
      "source": [
        "# apply steming function\n",
        "df['tokenized'] = df['text'].apply(stemming)"
      ],
      "execution_count": 54,
      "outputs": []
    },
    {
      "cell_type": "code",
      "metadata": {
        "colab": {
          "base_uri": "https://localhost:8080/",
          "height": 0
        },
        "id": "XLQ8wfeYqYry",
        "outputId": "da872df8-d516-4ccc-cf48-5b5ab3385d79"
      },
      "source": [
        "df.head()"
      ],
      "execution_count": 55,
      "outputs": [
        {
          "output_type": "execute_result",
          "data": {
            "text/html": [
              "<div>\n",
              "<style scoped>\n",
              "    .dataframe tbody tr th:only-of-type {\n",
              "        vertical-align: middle;\n",
              "    }\n",
              "\n",
              "    .dataframe tbody tr th {\n",
              "        vertical-align: top;\n",
              "    }\n",
              "\n",
              "    .dataframe thead th {\n",
              "        text-align: right;\n",
              "    }\n",
              "</style>\n",
              "<table border=\"1\" class=\"dataframe\">\n",
              "  <thead>\n",
              "    <tr style=\"text-align: right;\">\n",
              "      <th></th>\n",
              "      <th>tweet</th>\n",
              "      <th>Emotion</th>\n",
              "      <th>text</th>\n",
              "      <th>tokenized</th>\n",
              "    </tr>\n",
              "  </thead>\n",
              "  <tbody>\n",
              "    <tr>\n",
              "      <th>0</th>\n",
              "      <td>حقا</td>\n",
              "      <td>1</td>\n",
              "      <td>[حقا]</td>\n",
              "      <td>[حقا]</td>\n",
              "    </tr>\n",
              "    <tr>\n",
              "      <th>1</th>\n",
              "      <td>الحل الوحيد هو القرب من الله وذكره  (الا بذكر...</td>\n",
              "      <td>1</td>\n",
              "      <td>[الحل, الوحيد, هو, القرب, من, الله, وذكره, (, ...</td>\n",
              "      <td>[لحل, وحد, هو, قرب, من, الل, ذكر, (, الا, ذكر,...</td>\n",
              "    </tr>\n",
              "    <tr>\n",
              "      <th>2</th>\n",
              "      <td>وهذه من اكبر المشاكل التي تؤرق الشباب في هذه ...</td>\n",
              "      <td>1</td>\n",
              "      <td>[وهذه, من, اكبر, المشاكل, التي, تؤرق, الشباب, ...</td>\n",
              "      <td>[وهذ, من, كبر, شكل, التي, ؤرق, شبب, في, هذه, ايم]</td>\n",
              "    </tr>\n",
              "    <tr>\n",
              "      <th>3</th>\n",
              "      <td>الموت مع الناس رحمه..</td>\n",
              "      <td>1</td>\n",
              "      <td>[الموت, مع, الناس, رحمه..]</td>\n",
              "      <td>[موت, مع, ناس, رحمه..]</td>\n",
              "    </tr>\n",
              "    <tr>\n",
              "      <th>4</th>\n",
              "      <td>اي صح و حاليا فاقده الاثنين</td>\n",
              "      <td>1</td>\n",
              "      <td>[اي, صح, و, حاليا, فاقده, الاثنين]</td>\n",
              "      <td>[اي, صح, و, حال, فقد, اثن]</td>\n",
              "    </tr>\n",
              "  </tbody>\n",
              "</table>\n",
              "</div>"
            ],
            "text/plain": [
              "                                               tweet  ...                                          tokenized\n",
              "0                                                حقا  ...                                              [حقا]\n",
              "1   الحل الوحيد هو القرب من الله وذكره  (الا بذكر...  ...  [لحل, وحد, هو, قرب, من, الل, ذكر, (, الا, ذكر,...\n",
              "2   وهذه من اكبر المشاكل التي تؤرق الشباب في هذه ...  ...  [وهذ, من, كبر, شكل, التي, ؤرق, شبب, في, هذه, ايم]\n",
              "3                              الموت مع الناس رحمه..  ...                             [موت, مع, ناس, رحمه..]\n",
              "4                        اي صح و حاليا فاقده الاثنين  ...                         [اي, صح, و, حال, فقد, اثن]\n",
              "\n",
              "[5 rows x 4 columns]"
            ]
          },
          "metadata": {
            "tags": []
          },
          "execution_count": 55
        }
      ]
    },
    {
      "cell_type": "markdown",
      "metadata": {
        "id": "Pe8r_JR7qYry"
      },
      "source": [
        "### Features Word list"
      ]
    },
    {
      "cell_type": "code",
      "metadata": {
        "colab": {
          "base_uri": "https://localhost:8080/"
        },
        "id": "SJPoZJJ2qYrz",
        "outputId": "650f4ed5-5cc7-4ae6-84af-dfbebd2faaf7"
      },
      "source": [
        "words = Counter()\n",
        "for idx in df.index:\n",
        "    words.update(df.loc[idx, \"tokenized\"])\n",
        "\n",
        "words.most_common(5)"
      ],
      "execution_count": 56,
      "outputs": [
        {
          "output_type": "execute_result",
          "data": {
            "text/plain": [
              "[('و', 716), ('الل', 456), ('من', 365), ('في', 231), ('يا', 227)]"
            ]
          },
          "metadata": {
            "tags": []
          },
          "execution_count": 56
        }
      ]
    },
    {
      "cell_type": "code",
      "metadata": {
        "colab": {
          "base_uri": "https://localhost:8080/"
        },
        "id": "FjM6vfgaqYr3",
        "outputId": "01946247-5452-4149-c03c-5f163792be69"
      },
      "source": [
        "len(words)"
      ],
      "execution_count": 57,
      "outputs": [
        {
          "output_type": "execute_result",
          "data": {
            "text/plain": [
              "3422"
            ]
          },
          "metadata": {
            "tags": []
          },
          "execution_count": 57
        }
      ]
    },
    {
      "cell_type": "code",
      "metadata": {
        "colab": {
          "base_uri": "https://localhost:8080/"
        },
        "id": "XocPXzS0qYr4",
        "outputId": "997e3e0c-91c9-4272-860c-55769ed708ca"
      },
      "source": [
        "nltk.download('stopwords')\n",
        "stopwords= nltk.corpus.stopwords.words(\"arabic\")"
      ],
      "execution_count": 58,
      "outputs": [
        {
          "output_type": "stream",
          "text": [
            "[nltk_data] Downloading package stopwords to /root/nltk_data...\n",
            "[nltk_data]   Package stopwords is already up-to-date!\n"
          ],
          "name": "stdout"
        }
      ]
    },
    {
      "cell_type": "code",
      "metadata": {
        "colab": {
          "base_uri": "https://localhost:8080/"
        },
        "id": "sB91s6mZqYr5",
        "outputId": "58885523-a443-4940-d418-03b77b11cecc"
      },
      "source": [
        "stopwords[:11] "
      ],
      "execution_count": 59,
      "outputs": [
        {
          "output_type": "execute_result",
          "data": {
            "text/plain": [
              "['إذ', 'إذا', 'إذما', 'إذن', 'أف', 'أقل', 'أكثر', 'ألا', 'إلا', 'التي', 'الذي']"
            ]
          },
          "metadata": {
            "tags": []
          },
          "execution_count": 59
        }
      ]
    },
    {
      "cell_type": "markdown",
      "metadata": {
        "id": "prW-nAevqYr6"
      },
      "source": [
        "Create white list: There is a meaningful words in the nltk stop words list especially in slang."
      ]
    },
    {
      "cell_type": "code",
      "metadata": {
        "id": "l5g9ofdZqYr7"
      },
      "source": [
        "whitelist = ['أف', 'آه', 'بلى', 'إيه', 'أم', 'دون', 'حبذا']"
      ],
      "execution_count": 60,
      "outputs": []
    },
    {
      "cell_type": "markdown",
      "metadata": {
        "id": "rG7jSZpuqYr8"
      },
      "source": [
        "Adding some slang stopwords and some punctuation"
      ]
    },
    {
      "cell_type": "code",
      "metadata": {
        "id": "iuV3b-pQqYr8"
      },
      "source": [
        "stop_words_add=['و', 'ان', 'انا', '.', '..', '...', 'اللي', 'الى', 'فى',\r\n",
        "                'فى', 'لان', 'شي','لان', 'اشي', 'قبل', 'انو','او','هيك',\r\n",
        "                'انت','احنا','اذا']"
      ],
      "execution_count": 61,
      "outputs": []
    },
    {
      "cell_type": "code",
      "metadata": {
        "id": "me-iqs7RqYr9"
      },
      "source": [
        "stopwords = stopwords+stop_words_add"
      ],
      "execution_count": 62,
      "outputs": []
    },
    {
      "cell_type": "markdown",
      "metadata": {
        "id": "AKctxknOqYr-"
      },
      "source": [
        "Delete white word  from stopword list"
      ]
    },
    {
      "cell_type": "code",
      "metadata": {
        "id": "-mG6BiMdqYr-"
      },
      "source": [
        "for idx, stop_word in enumerate(stopwords):\n",
        "    if stop_word not in whitelist:\n",
        "        del words[stop_word]"
      ],
      "execution_count": 63,
      "outputs": []
    },
    {
      "cell_type": "markdown",
      "metadata": {
        "id": "nl-72zWuqYr_"
      },
      "source": [
        "Create features word list dataframe of most common words by the word frequency limitation"
      ]
    },
    {
      "cell_type": "code",
      "metadata": {
        "id": "AXWgX8KZqYr_"
      },
      "source": [
        "min_occurrences= 3 \n",
        "max_occurences= 500\n",
        "word_df = pd.DataFrame(data={\"word\":[k for k, v in words.most_common() if min_occurrences < v < max_occurences],\"occurrences\": [v for k, v in words.most_common() if min_occurrences < v < max_occurences]},\n",
        "                       columns=[\"word\", \"occurrences\"])\n",
        "wordlist = [k for k, v in words.most_common() if min_occurrences < v < max_occurences]"
      ],
      "execution_count": 64,
      "outputs": []
    },
    {
      "cell_type": "code",
      "metadata": {
        "colab": {
          "base_uri": "https://localhost:8080/"
        },
        "id": "PueVp3TeqYsA",
        "outputId": "6fa064f7-7fcc-4890-e9a8-01a326b8414c"
      },
      "source": [
        "len(wordlist)"
      ],
      "execution_count": 65,
      "outputs": [
        {
          "output_type": "execute_result",
          "data": {
            "text/plain": [
              "811"
            ]
          },
          "metadata": {
            "tags": []
          },
          "execution_count": 65
        }
      ]
    },
    {
      "cell_type": "code",
      "metadata": {
        "colab": {
          "base_uri": "https://localhost:8080/"
        },
        "id": "9IEiBghgqYsC",
        "outputId": "af0b7c7e-2b6b-45b3-9091-f0de6cb6cf3a"
      },
      "source": [
        "word_df.shape"
      ],
      "execution_count": 66,
      "outputs": [
        {
          "output_type": "execute_result",
          "data": {
            "text/plain": [
              "(811, 2)"
            ]
          },
          "metadata": {
            "tags": []
          },
          "execution_count": 66
        }
      ]
    },
    {
      "cell_type": "markdown",
      "metadata": {
        "id": "PGAYBMfXqYsE"
      },
      "source": [
        "### Creat Data_model Dataframe"
      ]
    },
    {
      "cell_type": "code",
      "metadata": {
        "colab": {
          "base_uri": "https://localhost:8080/",
          "height": 261
        },
        "id": "_YrlMCKkqYsF",
        "outputId": "78980722-02a0-44b2-9355-1eaf02949349"
      },
      "source": [
        "label_column = [\"label\"]\n",
        "columns = label_column + list(map(lambda w: w + \"_prs\",wordlist))\n",
        "labels = []\n",
        "rows = []\n",
        "for idx in df.index:\n",
        "    current_row = []\n",
        "    \n",
        "    # add label\n",
        "    current_label = df.loc[idx, \"Emotion\"]\n",
        "    labels.append(current_label)\n",
        "    current_row.append(current_label)\n",
        "\n",
        "    # add bag-of-words\n",
        "    tokens = set(df.loc[idx, \"text\"])\n",
        "    for _, word in enumerate(wordlist):\n",
        "        current_row.append(1 if word in tokens else 0)\n",
        "\n",
        "    rows.append(current_row)\n",
        "\n",
        "data_model_2 = pd.DataFrame(rows, columns=columns)\n",
        "data_labels_2 = pd.Series(labels)\n",
        "\n",
        "\n",
        "data_model_2.head()"
      ],
      "execution_count": 88,
      "outputs": [
        {
          "output_type": "execute_result",
          "data": {
            "text/html": [
              "<div>\n",
              "<style scoped>\n",
              "    .dataframe tbody tr th:only-of-type {\n",
              "        vertical-align: middle;\n",
              "    }\n",
              "\n",
              "    .dataframe tbody tr th {\n",
              "        vertical-align: top;\n",
              "    }\n",
              "\n",
              "    .dataframe thead th {\n",
              "        text-align: right;\n",
              "    }\n",
              "</style>\n",
              "<table border=\"1\" class=\"dataframe\">\n",
              "  <thead>\n",
              "    <tr style=\"text-align: right;\">\n",
              "      <th></th>\n",
              "      <th>label</th>\n",
              "      <th>الل_prs</th>\n",
              "      <th>فعل_prs</th>\n",
              "      <th>سلم_prs</th>\n",
              "      <th>نوي_prs</th>\n",
              "      <th>!_prs</th>\n",
              "      <th>ارد_prs</th>\n",
              "      <th>ولل_prs</th>\n",
              "      <th>علي_prs</th>\n",
              "      <th>صبح_prs</th>\n",
              "      <th>مش_prs</th>\n",
              "      <th>نفس_prs</th>\n",
              "      <th>علم_prs</th>\n",
              "      <th>خير_prs</th>\n",
              "      <th>ربن_prs</th>\n",
              "      <th>رزق_prs</th>\n",
              "      <th>كلم_prs</th>\n",
              "      <th>وحد_prs</th>\n",
              "      <th>طقة_prs</th>\n",
              "      <th>قلب_prs</th>\n",
              "      <th>حمد_prs</th>\n",
              "      <th>ناس_prs</th>\n",
              "      <th>لله_prs</th>\n",
              "      <th>عمل_prs</th>\n",
              "      <th>صلح_prs</th>\n",
              "      <th>يرب_prs</th>\n",
              "      <th>حرم_prs</th>\n",
              "      <th>جمل_prs</th>\n",
              "      <th>يعن_prs</th>\n",
              "      <th>جمع_prs</th>\n",
              "      <th>رب_prs</th>\n",
              "      <th>شكل_prs</th>\n",
              "      <th>كبر_prs</th>\n",
              "      <th>دين_prs</th>\n",
              "      <th>جعل_prs</th>\n",
              "      <th>كثر_prs</th>\n",
              "      <th>الي_prs</th>\n",
              "      <th>عرف_prs</th>\n",
              "      <th>سعد_prs</th>\n",
              "      <th>رحم_prs</th>\n",
              "      <th>...</th>\n",
              "      <th>طقت_prs</th>\n",
              "      <th>قمح_prs</th>\n",
              "      <th>صفه_prs</th>\n",
              "      <th>فكه_prs</th>\n",
              "      <th>واد_prs</th>\n",
              "      <th>كيماو_prs</th>\n",
              "      <th>صان_prs</th>\n",
              "      <th>مطب_prs</th>\n",
              "      <th>.لخ_prs</th>\n",
              "      <th>لهذ_prs</th>\n",
              "      <th>حيط_prs</th>\n",
              "      <th>لمن_prs</th>\n",
              "      <th>رحت_prs</th>\n",
              "      <th>.و_prs</th>\n",
              "      <th>بتح_prs</th>\n",
              "      <th>باع_prs</th>\n",
              "      <th>وبل_prs</th>\n",
              "      <th>نقص_prs</th>\n",
              "      <th>ﻻ_prs</th>\n",
              "      <th>؟_prs</th>\n",
              "      <th>قرد_prs</th>\n",
              "      <th>نذل_prs</th>\n",
              "      <th>لعن_prs</th>\n",
              "      <th>ادب_prs</th>\n",
              "      <th>اعند_prs</th>\n",
              "      <th>ليك_prs</th>\n",
              "      <th>يضح_prs</th>\n",
              "      <th>صحف_prs</th>\n",
              "      <th>جزم_prs</th>\n",
              "      <th>حطم_prs</th>\n",
              "      <th>حلك_prs</th>\n",
              "      <th>اغا_prs</th>\n",
              "      <th>صير_prs</th>\n",
              "      <th>حثل_prs</th>\n",
              "      <th>فضح_prs</th>\n",
              "      <th>خيس_prs</th>\n",
              "      <th>لبن_prs</th>\n",
              "      <th>كوميد_prs</th>\n",
              "      <th>عوق_prs</th>\n",
              "      <th>عها_prs</th>\n",
              "    </tr>\n",
              "  </thead>\n",
              "  <tbody>\n",
              "    <tr>\n",
              "      <th>0</th>\n",
              "      <td>1</td>\n",
              "      <td>0</td>\n",
              "      <td>0</td>\n",
              "      <td>0</td>\n",
              "      <td>0</td>\n",
              "      <td>0</td>\n",
              "      <td>0</td>\n",
              "      <td>0</td>\n",
              "      <td>0</td>\n",
              "      <td>0</td>\n",
              "      <td>0</td>\n",
              "      <td>0</td>\n",
              "      <td>0</td>\n",
              "      <td>0</td>\n",
              "      <td>0</td>\n",
              "      <td>0</td>\n",
              "      <td>0</td>\n",
              "      <td>0</td>\n",
              "      <td>0</td>\n",
              "      <td>0</td>\n",
              "      <td>0</td>\n",
              "      <td>0</td>\n",
              "      <td>0</td>\n",
              "      <td>0</td>\n",
              "      <td>0</td>\n",
              "      <td>0</td>\n",
              "      <td>0</td>\n",
              "      <td>0</td>\n",
              "      <td>0</td>\n",
              "      <td>0</td>\n",
              "      <td>0</td>\n",
              "      <td>0</td>\n",
              "      <td>0</td>\n",
              "      <td>0</td>\n",
              "      <td>0</td>\n",
              "      <td>0</td>\n",
              "      <td>0</td>\n",
              "      <td>0</td>\n",
              "      <td>0</td>\n",
              "      <td>0</td>\n",
              "      <td>...</td>\n",
              "      <td>0</td>\n",
              "      <td>0</td>\n",
              "      <td>0</td>\n",
              "      <td>0</td>\n",
              "      <td>0</td>\n",
              "      <td>0</td>\n",
              "      <td>0</td>\n",
              "      <td>0</td>\n",
              "      <td>0</td>\n",
              "      <td>0</td>\n",
              "      <td>0</td>\n",
              "      <td>0</td>\n",
              "      <td>0</td>\n",
              "      <td>0</td>\n",
              "      <td>0</td>\n",
              "      <td>0</td>\n",
              "      <td>0</td>\n",
              "      <td>0</td>\n",
              "      <td>0</td>\n",
              "      <td>0</td>\n",
              "      <td>0</td>\n",
              "      <td>0</td>\n",
              "      <td>0</td>\n",
              "      <td>0</td>\n",
              "      <td>0</td>\n",
              "      <td>0</td>\n",
              "      <td>0</td>\n",
              "      <td>0</td>\n",
              "      <td>0</td>\n",
              "      <td>0</td>\n",
              "      <td>0</td>\n",
              "      <td>0</td>\n",
              "      <td>0</td>\n",
              "      <td>0</td>\n",
              "      <td>0</td>\n",
              "      <td>0</td>\n",
              "      <td>0</td>\n",
              "      <td>0</td>\n",
              "      <td>0</td>\n",
              "      <td>0</td>\n",
              "    </tr>\n",
              "    <tr>\n",
              "      <th>1</th>\n",
              "      <td>1</td>\n",
              "      <td>0</td>\n",
              "      <td>0</td>\n",
              "      <td>0</td>\n",
              "      <td>0</td>\n",
              "      <td>0</td>\n",
              "      <td>0</td>\n",
              "      <td>0</td>\n",
              "      <td>0</td>\n",
              "      <td>0</td>\n",
              "      <td>0</td>\n",
              "      <td>0</td>\n",
              "      <td>0</td>\n",
              "      <td>0</td>\n",
              "      <td>0</td>\n",
              "      <td>0</td>\n",
              "      <td>0</td>\n",
              "      <td>0</td>\n",
              "      <td>0</td>\n",
              "      <td>0</td>\n",
              "      <td>0</td>\n",
              "      <td>0</td>\n",
              "      <td>0</td>\n",
              "      <td>0</td>\n",
              "      <td>0</td>\n",
              "      <td>0</td>\n",
              "      <td>0</td>\n",
              "      <td>0</td>\n",
              "      <td>0</td>\n",
              "      <td>0</td>\n",
              "      <td>0</td>\n",
              "      <td>0</td>\n",
              "      <td>0</td>\n",
              "      <td>0</td>\n",
              "      <td>0</td>\n",
              "      <td>0</td>\n",
              "      <td>0</td>\n",
              "      <td>0</td>\n",
              "      <td>0</td>\n",
              "      <td>0</td>\n",
              "      <td>...</td>\n",
              "      <td>0</td>\n",
              "      <td>0</td>\n",
              "      <td>0</td>\n",
              "      <td>0</td>\n",
              "      <td>0</td>\n",
              "      <td>0</td>\n",
              "      <td>0</td>\n",
              "      <td>0</td>\n",
              "      <td>0</td>\n",
              "      <td>0</td>\n",
              "      <td>0</td>\n",
              "      <td>0</td>\n",
              "      <td>0</td>\n",
              "      <td>0</td>\n",
              "      <td>0</td>\n",
              "      <td>0</td>\n",
              "      <td>0</td>\n",
              "      <td>0</td>\n",
              "      <td>0</td>\n",
              "      <td>0</td>\n",
              "      <td>0</td>\n",
              "      <td>0</td>\n",
              "      <td>0</td>\n",
              "      <td>0</td>\n",
              "      <td>0</td>\n",
              "      <td>0</td>\n",
              "      <td>0</td>\n",
              "      <td>0</td>\n",
              "      <td>0</td>\n",
              "      <td>0</td>\n",
              "      <td>0</td>\n",
              "      <td>0</td>\n",
              "      <td>0</td>\n",
              "      <td>0</td>\n",
              "      <td>0</td>\n",
              "      <td>0</td>\n",
              "      <td>0</td>\n",
              "      <td>0</td>\n",
              "      <td>0</td>\n",
              "      <td>0</td>\n",
              "    </tr>\n",
              "    <tr>\n",
              "      <th>2</th>\n",
              "      <td>1</td>\n",
              "      <td>0</td>\n",
              "      <td>0</td>\n",
              "      <td>0</td>\n",
              "      <td>0</td>\n",
              "      <td>0</td>\n",
              "      <td>0</td>\n",
              "      <td>0</td>\n",
              "      <td>0</td>\n",
              "      <td>0</td>\n",
              "      <td>0</td>\n",
              "      <td>0</td>\n",
              "      <td>0</td>\n",
              "      <td>0</td>\n",
              "      <td>0</td>\n",
              "      <td>0</td>\n",
              "      <td>0</td>\n",
              "      <td>0</td>\n",
              "      <td>0</td>\n",
              "      <td>0</td>\n",
              "      <td>0</td>\n",
              "      <td>0</td>\n",
              "      <td>0</td>\n",
              "      <td>0</td>\n",
              "      <td>0</td>\n",
              "      <td>0</td>\n",
              "      <td>0</td>\n",
              "      <td>0</td>\n",
              "      <td>0</td>\n",
              "      <td>0</td>\n",
              "      <td>0</td>\n",
              "      <td>0</td>\n",
              "      <td>0</td>\n",
              "      <td>0</td>\n",
              "      <td>0</td>\n",
              "      <td>0</td>\n",
              "      <td>0</td>\n",
              "      <td>0</td>\n",
              "      <td>0</td>\n",
              "      <td>0</td>\n",
              "      <td>...</td>\n",
              "      <td>0</td>\n",
              "      <td>0</td>\n",
              "      <td>0</td>\n",
              "      <td>0</td>\n",
              "      <td>0</td>\n",
              "      <td>0</td>\n",
              "      <td>0</td>\n",
              "      <td>0</td>\n",
              "      <td>0</td>\n",
              "      <td>0</td>\n",
              "      <td>0</td>\n",
              "      <td>0</td>\n",
              "      <td>0</td>\n",
              "      <td>0</td>\n",
              "      <td>0</td>\n",
              "      <td>0</td>\n",
              "      <td>0</td>\n",
              "      <td>0</td>\n",
              "      <td>0</td>\n",
              "      <td>0</td>\n",
              "      <td>0</td>\n",
              "      <td>0</td>\n",
              "      <td>0</td>\n",
              "      <td>0</td>\n",
              "      <td>0</td>\n",
              "      <td>0</td>\n",
              "      <td>0</td>\n",
              "      <td>0</td>\n",
              "      <td>0</td>\n",
              "      <td>0</td>\n",
              "      <td>0</td>\n",
              "      <td>0</td>\n",
              "      <td>0</td>\n",
              "      <td>0</td>\n",
              "      <td>0</td>\n",
              "      <td>0</td>\n",
              "      <td>0</td>\n",
              "      <td>0</td>\n",
              "      <td>0</td>\n",
              "      <td>0</td>\n",
              "    </tr>\n",
              "    <tr>\n",
              "      <th>3</th>\n",
              "      <td>1</td>\n",
              "      <td>0</td>\n",
              "      <td>0</td>\n",
              "      <td>0</td>\n",
              "      <td>0</td>\n",
              "      <td>0</td>\n",
              "      <td>0</td>\n",
              "      <td>0</td>\n",
              "      <td>0</td>\n",
              "      <td>0</td>\n",
              "      <td>0</td>\n",
              "      <td>0</td>\n",
              "      <td>0</td>\n",
              "      <td>0</td>\n",
              "      <td>0</td>\n",
              "      <td>0</td>\n",
              "      <td>0</td>\n",
              "      <td>0</td>\n",
              "      <td>0</td>\n",
              "      <td>0</td>\n",
              "      <td>0</td>\n",
              "      <td>0</td>\n",
              "      <td>0</td>\n",
              "      <td>0</td>\n",
              "      <td>0</td>\n",
              "      <td>0</td>\n",
              "      <td>0</td>\n",
              "      <td>0</td>\n",
              "      <td>0</td>\n",
              "      <td>0</td>\n",
              "      <td>0</td>\n",
              "      <td>0</td>\n",
              "      <td>0</td>\n",
              "      <td>0</td>\n",
              "      <td>0</td>\n",
              "      <td>0</td>\n",
              "      <td>0</td>\n",
              "      <td>0</td>\n",
              "      <td>0</td>\n",
              "      <td>0</td>\n",
              "      <td>...</td>\n",
              "      <td>0</td>\n",
              "      <td>0</td>\n",
              "      <td>0</td>\n",
              "      <td>0</td>\n",
              "      <td>0</td>\n",
              "      <td>0</td>\n",
              "      <td>0</td>\n",
              "      <td>0</td>\n",
              "      <td>0</td>\n",
              "      <td>0</td>\n",
              "      <td>0</td>\n",
              "      <td>0</td>\n",
              "      <td>0</td>\n",
              "      <td>0</td>\n",
              "      <td>0</td>\n",
              "      <td>0</td>\n",
              "      <td>0</td>\n",
              "      <td>0</td>\n",
              "      <td>0</td>\n",
              "      <td>0</td>\n",
              "      <td>0</td>\n",
              "      <td>0</td>\n",
              "      <td>0</td>\n",
              "      <td>0</td>\n",
              "      <td>0</td>\n",
              "      <td>0</td>\n",
              "      <td>0</td>\n",
              "      <td>0</td>\n",
              "      <td>0</td>\n",
              "      <td>0</td>\n",
              "      <td>0</td>\n",
              "      <td>0</td>\n",
              "      <td>0</td>\n",
              "      <td>0</td>\n",
              "      <td>0</td>\n",
              "      <td>0</td>\n",
              "      <td>0</td>\n",
              "      <td>0</td>\n",
              "      <td>0</td>\n",
              "      <td>0</td>\n",
              "    </tr>\n",
              "    <tr>\n",
              "      <th>4</th>\n",
              "      <td>1</td>\n",
              "      <td>0</td>\n",
              "      <td>0</td>\n",
              "      <td>0</td>\n",
              "      <td>0</td>\n",
              "      <td>0</td>\n",
              "      <td>0</td>\n",
              "      <td>0</td>\n",
              "      <td>0</td>\n",
              "      <td>0</td>\n",
              "      <td>0</td>\n",
              "      <td>0</td>\n",
              "      <td>0</td>\n",
              "      <td>0</td>\n",
              "      <td>0</td>\n",
              "      <td>0</td>\n",
              "      <td>0</td>\n",
              "      <td>0</td>\n",
              "      <td>0</td>\n",
              "      <td>0</td>\n",
              "      <td>0</td>\n",
              "      <td>0</td>\n",
              "      <td>0</td>\n",
              "      <td>0</td>\n",
              "      <td>0</td>\n",
              "      <td>0</td>\n",
              "      <td>0</td>\n",
              "      <td>0</td>\n",
              "      <td>0</td>\n",
              "      <td>0</td>\n",
              "      <td>0</td>\n",
              "      <td>0</td>\n",
              "      <td>0</td>\n",
              "      <td>0</td>\n",
              "      <td>0</td>\n",
              "      <td>0</td>\n",
              "      <td>0</td>\n",
              "      <td>0</td>\n",
              "      <td>0</td>\n",
              "      <td>0</td>\n",
              "      <td>...</td>\n",
              "      <td>0</td>\n",
              "      <td>0</td>\n",
              "      <td>0</td>\n",
              "      <td>0</td>\n",
              "      <td>0</td>\n",
              "      <td>0</td>\n",
              "      <td>0</td>\n",
              "      <td>0</td>\n",
              "      <td>0</td>\n",
              "      <td>0</td>\n",
              "      <td>0</td>\n",
              "      <td>0</td>\n",
              "      <td>0</td>\n",
              "      <td>0</td>\n",
              "      <td>0</td>\n",
              "      <td>0</td>\n",
              "      <td>0</td>\n",
              "      <td>0</td>\n",
              "      <td>0</td>\n",
              "      <td>0</td>\n",
              "      <td>0</td>\n",
              "      <td>0</td>\n",
              "      <td>0</td>\n",
              "      <td>0</td>\n",
              "      <td>0</td>\n",
              "      <td>0</td>\n",
              "      <td>0</td>\n",
              "      <td>0</td>\n",
              "      <td>0</td>\n",
              "      <td>0</td>\n",
              "      <td>0</td>\n",
              "      <td>0</td>\n",
              "      <td>0</td>\n",
              "      <td>0</td>\n",
              "      <td>0</td>\n",
              "      <td>0</td>\n",
              "      <td>0</td>\n",
              "      <td>0</td>\n",
              "      <td>0</td>\n",
              "      <td>0</td>\n",
              "    </tr>\n",
              "  </tbody>\n",
              "</table>\n",
              "<p>5 rows × 812 columns</p>\n",
              "</div>"
            ],
            "text/plain": [
              "   label  الل_prs  فعل_prs  سلم_prs  ...  لبن_prs  كوميد_prs  عوق_prs  عها_prs\n",
              "0      1        0        0        0  ...        0          0        0        0\n",
              "1      1        0        0        0  ...        0          0        0        0\n",
              "2      1        0        0        0  ...        0          0        0        0\n",
              "3      1        0        0        0  ...        0          0        0        0\n",
              "4      1        0        0        0  ...        0          0        0        0\n",
              "\n",
              "[5 rows x 812 columns]"
            ]
          },
          "metadata": {
            "tags": []
          },
          "execution_count": 88
        }
      ]
    },
    {
      "cell_type": "code",
      "metadata": {
        "colab": {
          "base_uri": "https://localhost:8080/"
        },
        "id": "nJTUzty7qYsH",
        "outputId": "16f706ce-10f0-42d2-f2f4-147c23a4ccc3"
      },
      "source": [
        "data_model_2.shape"
      ],
      "execution_count": 69,
      "outputs": [
        {
          "output_type": "execute_result",
          "data": {
            "text/plain": [
              "(1977, 812)"
            ]
          },
          "metadata": {
            "tags": []
          },
          "execution_count": 69
        }
      ]
    },
    {
      "cell_type": "code",
      "metadata": {
        "colab": {
          "base_uri": "https://localhost:8080/"
        },
        "id": "Vpy9clukqYsI",
        "outputId": "9f7556dc-b549-4bfd-b3d4-aa61173336bc"
      },
      "source": [
        "from sklearn.neighbors import NearestCentroid\r\n",
        "all_inputs_2 = data_model_2[data_model_2.columns[1:]].values\r\n",
        "all_labels_2 = data_model_2['label'].values\r\n",
        "\r\n",
        "(X_train_2, X_test_2, y_train_2, y_test_2) = train_test_split(all_inputs_2, all_labels_2,\r\n",
        "                                                              test_size=0.1, random_state=1)\r\n",
        "from sklearn.preprocessing import StandardScaler\r\n",
        "sc = StandardScaler()\r\n",
        "X_train_2 = sc.fit_transform(X_train_2)\r\n",
        "X_test_2 = sc.transform(X_test_2)\r\n",
        "\r\n",
        "# Train the classifier on the training set\r\n",
        "cls = NearestCentroid()\r\n",
        "cls.fit(X_train_2, y_train_2)\r\n",
        "cls.score(X_test_2, y_test_2)"
      ],
      "execution_count": 86,
      "outputs": [
        {
          "output_type": "execute_result",
          "data": {
            "text/plain": [
              "0.6666666666666666"
            ]
          },
          "metadata": {
            "tags": []
          },
          "execution_count": 86
        }
      ]
    },
    {
      "cell_type": "markdown",
      "metadata": {
        "id": "AvY2tsUbrobm"
      },
      "source": [
        "ِArabic stemmer model accuracy is lower tan without stimming model"
      ]
    },
    {
      "cell_type": "markdown",
      "metadata": {
        "id": "kAX6eU2_EnP2"
      },
      "source": [
        "# Feature Selection Methods Comparison"
      ]
    },
    {
      "cell_type": "markdown",
      "metadata": {
        "id": "mhzg9m6TEsSB"
      },
      "source": [
        "## **1.** Removing features with low variance"
      ]
    },
    {
      "cell_type": "markdown",
      "metadata": {
        "id": "eee2Q4xtLD6M"
      },
      "source": [
        "**VarianceThreshold** is a simple baseline approach to feature selection. It removes all features whose variance doesn’t meet some threshold. By default, it removes all zero-variance features, i.e. features that have the same value in all samples.*italicised text*"
      ]
    },
    {
      "cell_type": "code",
      "metadata": {
        "colab": {
          "base_uri": "https://localhost:8080/"
        },
        "id": "0KZe_syuZiBK",
        "outputId": "1aeb9623-485f-4491-e752-db6dadc9bd08"
      },
      "source": [
        "data_model.var()"
      ],
      "execution_count": 73,
      "outputs": [
        {
          "output_type": "execute_result",
          "data": {
            "text/plain": [
              "label         0.25\n",
              "الله_prs      0.14\n",
              "اللهم_prs     0.07\n",
              "!_prs         0.02\n",
              "والله_prs     0.04\n",
              "              ... \n",
              "هذول_prs      0.00\n",
              "ثقيل_prs      0.00\n",
              "المسخره_prs   0.00\n",
              "عاهاتك_prs    0.00\n",
              "يروحون_prs    0.00\n",
              "Length: 683, dtype: float64"
            ]
          },
          "metadata": {
            "tags": []
          },
          "execution_count": 73
        }
      ]
    },
    {
      "cell_type": "code",
      "metadata": {
        "colab": {
          "base_uri": "https://localhost:8080/",
          "height": 283
        },
        "id": "OGCHWinWKe81",
        "outputId": "6b107b33-437c-4d45-94cb-ce48b91ffa8f"
      },
      "source": [
        "data_model.var().hist()"
      ],
      "execution_count": 74,
      "outputs": [
        {
          "output_type": "execute_result",
          "data": {
            "text/plain": [
              "<matplotlib.axes._subplots.AxesSubplot at 0x7f37d6518860>"
            ]
          },
          "metadata": {
            "tags": []
          },
          "execution_count": 74
        },
        {
          "output_type": "display_data",
          "data": {
            "image/png": "[encoded data removed]",
            "text/plain": [
              "<Figure size 432x288 with 1 Axes>"
            ]
          },
          "metadata": {
            "tags": [],
            "needs_background": "light"
          }
        }
      ]
    },
    {
      "cell_type": "code",
      "metadata": {
        "colab": {
          "base_uri": "https://localhost:8080/"
        },
        "id": "HOoHyT6fH7pp",
        "outputId": "653bf91a-8eb0-4516-db54-65b1d7e38a27"
      },
      "source": [
        "all_inputs = data_model[data_model.columns[1:]].values\n",
        "all_labels = data_model['label'].values\n",
        "all_inputs.shape"
      ],
      "execution_count": 108,
      "outputs": [
        {
          "output_type": "execute_result",
          "data": {
            "text/plain": [
              "(1977, 682)"
            ]
          },
          "metadata": {
            "tags": []
          },
          "execution_count": 108
        }
      ]
    },
    {
      "cell_type": "code",
      "metadata": {
        "colab": {
          "base_uri": "https://localhost:8080/"
        },
        "id": "dLMxSPSvEzxI",
        "outputId": "d6931bad-ae9f-4c74-df1c-a9ca2086380d"
      },
      "source": [
        "from sklearn.feature_selection import VarianceThreshold\n",
        "sel = VarianceThreshold(threshold=.003, )\n",
        "all_inputs = sel.fit_transform(all_inputs)\n",
        "all_inputs.shape"
      ],
      "execution_count": 109,
      "outputs": [
        {
          "output_type": "execute_result",
          "data": {
            "text/plain": [
              "(1977, 331)"
            ]
          },
          "metadata": {
            "tags": []
          },
          "execution_count": 109
        }
      ]
    },
    {
      "cell_type": "code",
      "metadata": {
        "colab": {
          "base_uri": "https://localhost:8080/"
        },
        "id": "GRDVNXWMLeV8",
        "outputId": "55b6c6ee-812d-47d3-a377-a4abba98c0ed"
      },
      "source": [
        "from sklearn.model_selection import train_test_split\n",
        "(X_train, X_test, y_train, y_test) = train_test_split(all_inputs, all_labels, test_size=0.25, random_state=1)\n",
        "# Feature Scaling\n",
        "from sklearn.preprocessing import StandardScaler\n",
        "sc = StandardScaler()\n",
        "X_train = sc.fit_transform(X_train)\n",
        "X_test = sc.transform(X_test)\n",
        " \n",
        "results_1 = []; names = []; seed=42\n",
        "for name, model in models_2:\n",
        "    kfold = KFold(n_splits=20, random_state=seed, shuffle=True)\n",
        "    cv_results_1 = cross_val_score(model, X_train, y_train, cv=kfold, scoring='accuracy')\n",
        "    results_1.append(cv_results_1)\n",
        "    names.append(name)\n",
        "    print(f\"{name}, {cv_results_1.mean()}, {cv_results_1.std()}))\")"
      ],
      "execution_count": 110,
      "outputs": [
        {
          "output_type": "stream",
          "text": [
            "LR, 0.7881171171171173, 0.04969124620775182))\n",
            "RC, 0.7826936936936938, 0.051189771869929714))\n",
            "LSVC, 0.7786936936936937, 0.04580185407670623))\n",
            "SGDC, 0.7712252252252252, 0.04275615691124125))\n",
            "P, 0.7482612612612612, 0.056759996332541786))\n",
            "PAC, 0.7529819819819819, 0.0516768088571144))\n",
            "BNB, 0.7401891891891892, 0.04429070998884122))\n",
            "NC, 0.7422162162162163, 0.047079398541871396))\n",
            "SVM, 0.8056486486486486, 0.045765456301713164))\n"
          ],
          "name": "stdout"
        }
      ]
    },
    {
      "cell_type": "markdown",
      "metadata": {
        "id": "CQwuRuOLM0rW"
      },
      "source": [
        "## **2.** UFS SelectKBest Select K Best\r\n",
        "it removes all but the highest scoring features"
      ]
    },
    {
      "cell_type": "code",
      "metadata": {
        "colab": {
          "base_uri": "https://localhost:8080/"
        },
        "id": "V3AE7Zf1Nztr",
        "outputId": "b68bea78-a070-4558-dd67-284e98388974"
      },
      "source": [
        "all_inputs = data_model[data_model.columns[1:]].values\n",
        "all_labels = data_model['label'].values\n",
        "all_inputs.shape"
      ],
      "execution_count": 111,
      "outputs": [
        {
          "output_type": "execute_result",
          "data": {
            "text/plain": [
              "(1977, 682)"
            ]
          },
          "metadata": {
            "tags": []
          },
          "execution_count": 111
        }
      ]
    },
    {
      "cell_type": "code",
      "metadata": {
        "colab": {
          "base_uri": "https://localhost:8080/"
        },
        "id": "zTDK2t_kNiW1",
        "outputId": "b3cafb2a-7f8a-4409-8f93-eb4188bbb6f7"
      },
      "source": [
        "from sklearn.feature_selection import SelectKBest\n",
        "from sklearn.feature_selection import chi2\n",
        " \n",
        "all_inputs = SelectKBest(chi2, k=400).fit_transform(all_inputs, all_labels)\n",
        "all_inputs.shape"
      ],
      "execution_count": 112,
      "outputs": [
        {
          "output_type": "execute_result",
          "data": {
            "text/plain": [
              "(1977, 400)"
            ]
          },
          "metadata": {
            "tags": []
          },
          "execution_count": 112
        }
      ]
    },
    {
      "cell_type": "code",
      "metadata": {
        "colab": {
          "base_uri": "https://localhost:8080/"
        },
        "id": "uj1_IocJRrV1",
        "outputId": "bbf6d29e-b176-4ac2-9f62-91734470684a"
      },
      "source": [
        "from sklearn.model_selection import train_test_split\n",
        "(X_train, X_test, y_train, y_test) = train_test_split(all_inputs, all_labels, test_size=0.25, random_state=1)\n",
        "# Feature Scaling\n",
        "from sklearn.preprocessing import StandardScaler\n",
        "sc = StandardScaler()\n",
        "X_train = sc.fit_transform(X_train)\n",
        "X_test = sc.transform(X_test)\n",
        " \n",
        "results_2 = []; names = []; seed=42\n",
        "for name, model in models_2:\n",
        "    kfold = KFold(n_splits=20, random_state=seed, shuffle=True)\n",
        "    cv_results_2 = cross_val_score(model, X_train, y_train, cv=kfold, scoring='accuracy')\n",
        "    results_2.append(cv_results_2)\n",
        "    names.append(name)\n",
        "    print(f\"{name}, {cv_results_2.mean()}, {cv_results_2.std()}))\")"
      ],
      "execution_count": 113,
      "outputs": [
        {
          "output_type": "stream",
          "text": [
            "LR, 0.8238378378378378, 0.0445909398811805))\n",
            "RC, 0.7914504504504505, 0.0542417304986636))\n",
            "LSVC, 0.8123603603603604, 0.043691015056743415))\n",
            "SGDC, 0.7873873873873874, 0.046776627900936264))\n",
            "P, 0.7746126126126127, 0.048948256595261995))\n",
            "PAC, 0.7888468468468468, 0.04926730094716265))\n",
            "BNB, 0.7806486486486487, 0.049988048242847936))\n",
            "NC, 0.7833513513513515, 0.04879156185653716))\n",
            "SVM, 0.8150450450450452, 0.0608376584044751))\n"
          ],
          "name": "stdout"
        }
      ]
    },
    {
      "cell_type": "markdown",
      "metadata": {
        "id": "dZCo0W0bUUzw"
      },
      "source": [
        "## **3.** `UFS `SelectFpr` False Positive Rate test.\r\n",
        "Filter: Select the p values below alpha based on a FPR test. a smaller p-value bears more significance as it can tell you that the hypothesis may not explain the observation fairly. If one or more of these probabilities turn out to be less than or equal to α, the level of significance, we reject the null hypothesis. For a true null hypothesis, p can take on any value between 0 and 1 with equal likeliness. For a true alternative hypothesis, p-values likely fall closer to 0."
      ]
    },
    {
      "cell_type": "code",
      "metadata": {
        "colab": {
          "base_uri": "https://localhost:8080/"
        },
        "id": "MhPAyIRaWUMP",
        "outputId": "fe0d6c8f-1032-4ad8-b5bc-0e76058c7a11"
      },
      "source": [
        "all_inputs = data_model[data_model.columns[1:]].values\n",
        "all_labels = data_model['label'].values\n",
        "all_inputs.shape"
      ],
      "execution_count": 115,
      "outputs": [
        {
          "output_type": "execute_result",
          "data": {
            "text/plain": [
              "(1977, 682)"
            ]
          },
          "metadata": {
            "tags": []
          },
          "execution_count": 115
        }
      ]
    },
    {
      "cell_type": "code",
      "metadata": {
        "colab": {
          "base_uri": "https://localhost:8080/"
        },
        "id": "JWpASl9pUY39",
        "outputId": "fee801ea-0a4c-45d7-f67e-06870c82b44b"
      },
      "source": [
        "from sklearn.feature_selection import SelectFpr, chi2\n",
        "all_inputs = SelectFpr(chi2, alpha= 0.1\n",
        "                       ).fit_transform(all_inputs, all_labels)\n",
        "all_inputs.shape"
      ],
      "execution_count": 116,
      "outputs": [
        {
          "output_type": "execute_result",
          "data": {
            "text/plain": [
              "(1977, 449)"
            ]
          },
          "metadata": {
            "tags": []
          },
          "execution_count": 116
        }
      ]
    },
    {
      "cell_type": "code",
      "metadata": {
        "colab": {
          "base_uri": "https://localhost:8080/"
        },
        "id": "qCPqGLtEX_2I",
        "outputId": "662cead7-9357-41a1-e8d8-136679f18334"
      },
      "source": [
        "from sklearn.model_selection import train_test_split\n",
        "(X_train, X_test, y_train, y_test) = train_test_split(all_inputs, all_labels, test_size=0.25, random_state=1)\n",
        "# Feature Scaling\n",
        "from sklearn.preprocessing import StandardScaler\n",
        "sc = StandardScaler()\n",
        "X_train = sc.fit_transform(X_train)\n",
        "X_test = sc.transform(X_test)\n",
        " \n",
        "results_3 = []; names = []; seed=42\n",
        "for name, model in models_2:\n",
        "    kfold = KFold(n_splits=20, random_state=seed, shuffle=True)\n",
        "    cv_results_3 = cross_val_score(model, X_train, y_train, cv=kfold, scoring='accuracy')\n",
        "    results_3.append(cv_results_3)\n",
        "    names.append(name)\n",
        "    print(f\"{name}, {cv_results_3.mean()}, {cv_results_3.std()}))\")"
      ],
      "execution_count": 117,
      "outputs": [
        {
          "output_type": "stream",
          "text": [
            "LR, 0.8366576576576576, 0.038581851809092176))\n",
            "RC, 0.806972972972973, 0.04517498735124215))\n",
            "LSVC, 0.8197927927927928, 0.04207831328979548))\n",
            "SGDC, 0.8252612612612612, 0.05094218528269583))\n",
            "P, 0.7935495495495495, 0.055786751789190084))\n",
            "PAC, 0.7557477477477477, 0.06313333022225677))\n",
            "BNB, 0.7806666666666666, 0.04470088706546632))\n",
            "NC, 0.7840450450450451, 0.04408970627591881))\n",
            "SVM, 0.8427297297297297, 0.040517441868014814))\n"
          ],
          "name": "stdout"
        }
      ]
    },
    {
      "cell_type": "markdown",
      "metadata": {
        "id": "M2O2cX-CFv8g"
      },
      "source": [
        "## **4.** Feature selection using SelectFromModel\r\n",
        "L1-based feature selection\r\n",
        "Meta-transformer for selecting features based on importance weights."
      ]
    },
    {
      "cell_type": "code",
      "metadata": {
        "colab": {
          "base_uri": "https://localhost:8080/"
        },
        "id": "KRneSMQhfOEo",
        "outputId": "8867e48e-afc6-42cd-d50e-2d76ed8a0160"
      },
      "source": [
        "all_inputs = data_model[data_model.columns[1:]].values\n",
        "all_labels = data_model['label'].values\n",
        "all_inputs.shape"
      ],
      "execution_count": 118,
      "outputs": [
        {
          "output_type": "execute_result",
          "data": {
            "text/plain": [
              "(1977, 682)"
            ]
          },
          "metadata": {
            "tags": []
          },
          "execution_count": 118
        }
      ]
    },
    {
      "cell_type": "code",
      "metadata": {
        "colab": {
          "base_uri": "https://localhost:8080/"
        },
        "id": "XjCITtVrtKWg",
        "outputId": "de1cf711-5b8f-4e0a-9cd9-04c16fcd7bed"
      },
      "source": [
        "from sklearn.svm import LinearSVC\n",
        "from sklearn.feature_selection import SelectFromModel\n",
        " \n",
        "lsvc = LinearSVC(C=1, penalty=\"l1\", dual=False ).fit(all_inputs, all_labels)\n",
        "model = SelectFromModel(lsvc, prefit=True )\n",
        "all_inputs = model.transform(all_inputs)\n",
        "all_inputs.shape"
      ],
      "execution_count": 119,
      "outputs": [
        {
          "output_type": "execute_result",
          "data": {
            "text/plain": [
              "(1977, 419)"
            ]
          },
          "metadata": {
            "tags": []
          },
          "execution_count": 119
        }
      ]
    },
    {
      "cell_type": "code",
      "metadata": {
        "colab": {
          "base_uri": "https://localhost:8080/"
        },
        "id": "HOaPINNIu8_k",
        "outputId": "27f3474f-b08c-4c77-e0b9-423858c01c4e"
      },
      "source": [
        "from sklearn.model_selection import train_test_split\n",
        "(X_train, X_test, y_train, y_test) = train_test_split(all_inputs, all_labels, test_size=0.25, random_state=1)\n",
        "# Feature Scaling\n",
        "from sklearn.preprocessing import StandardScaler\n",
        "sc = StandardScaler()\n",
        "X_train = sc.fit_transform(X_train)\n",
        "X_test = sc.transform(X_test)\n",
        " \n",
        "results_4 = []; names = []; seed=42\n",
        "for name, model in models_2:\n",
        "    kfold = KFold(n_splits=20, random_state=seed, shuffle=True)\n",
        "    cv_results_4 = cross_val_score(model, X_train, y_train, cv=kfold, scoring='accuracy')\n",
        "    results_4.append(cv_results_4)\n",
        "    names.append(name)\n",
        "    print(f\"{name}, {cv_results_4.mean()}, {cv_results_4.std()}))\")"
      ],
      "execution_count": 120,
      "outputs": [
        {
          "output_type": "stream",
          "text": [
            "LR, 0.834, 0.04013741917242849))\n",
            "RC, 0.8131081081081082, 0.04751159944488863))\n",
            "LSVC, 0.8123873873873875, 0.04194244261863086))\n",
            "SGDC, 0.800918918918919, 0.039478785016236896))\n",
            "P, 0.7982612612612613, 0.044623551432214636))\n",
            "PAC, 0.7934504504504505, 0.05097297854588386))\n",
            "BNB, 0.8009279279279278, 0.05073383329455481))\n",
            "NC, 0.8069009009009009, 0.05706932664030927))\n",
            "SVM, 0.8245495495495495, 0.05131311600079994))\n"
          ],
          "name": "stdout"
        }
      ]
    },
    {
      "cell_type": "markdown",
      "metadata": {
        "id": "yD3ygi-KvhaD"
      },
      "source": [
        "## **5.** Sequential Feature Selection \r\n",
        "(Selecting features based on importance)\r\n",
        "The features with the highest absolute coef_ value are considered the most important. "
      ]
    },
    {
      "cell_type": "code",
      "metadata": {
        "colab": {
          "base_uri": "https://localhost:8080/"
        },
        "id": "TwyuIRwRzhb-",
        "outputId": "68e62b3a-d472-4194-c846-1fcc78f1c843"
      },
      "source": [
        "all_inputs = data_model[data_model.columns[1:]].values\n",
        "all_labels = data_model['label'].values\n",
        "all_inputs.shape"
      ],
      "execution_count": 121,
      "outputs": [
        {
          "output_type": "execute_result",
          "data": {
            "text/plain": [
              "(1977, 682)"
            ]
          },
          "metadata": {
            "tags": []
          },
          "execution_count": 121
        }
      ]
    },
    {
      "cell_type": "markdown",
      "metadata": {
        "id": "mZNl8uG6I4MO"
      },
      "source": [
        "Feature importance from coefficients"
      ]
    },
    {
      "cell_type": "code",
      "metadata": {
        "colab": {
          "base_uri": "https://localhost:8080/",
          "height": 219
        },
        "id": "JE7iSRcyzhcC",
        "outputId": "b4df352e-1184-4baa-e38e-198a43b05ac1"
      },
      "source": [
        "from sklearn.linear_model import LassoCV\n",
        " \n",
        "lasso = LassoCV().fit(all_inputs, all_labels)\n",
        "importance = np.abs(lasso.coef_)\n",
        "feature_names = np.array(all_labels)\n",
        "plt.figure(figsize=(20, 5))\n",
        "plt.bar(height=importance, x=data_model.columns[1:])\n",
        "plt.title(\"Feature importances via coefficients\")\n",
        "plt.xticks([])\n",
        "plt.show()"
      ],
      "execution_count": 123,
      "outputs": [
        {
          "output_type": "display_data",
          "data": {
            "image/png": "[encoded data removed]",
            "text/plain": [
              "<Figure size 1440x360 with 1 Axes>"
            ]
          },
          "metadata": {
            "tags": [],
            "needs_background": "light"
          }
        }
      ]
    },
    {
      "cell_type": "code",
      "metadata": {
        "colab": {
          "base_uri": "https://localhost:8080/"
        },
        "id": "oKgaYWtP6pEX",
        "outputId": "118b5b34-461c-4ddf-c62c-662bdad24da3"
      },
      "source": [
        "np.sort(importance)"
      ],
      "execution_count": 124,
      "outputs": [
        {
          "output_type": "execute_result",
          "data": {
            "text/plain": [
              "array([0.00000000e+00, 0.00000000e+00, 0.00000000e+00, 0.00000000e+00,\n",
              "       0.00000000e+00, 0.00000000e+00, 0.00000000e+00, 0.00000000e+00,\n",
              "       0.00000000e+00, 0.00000000e+00, 0.00000000e+00, 0.00000000e+00,\n",
              "       0.00000000e+00, 0.00000000e+00, 0.00000000e+00, 0.00000000e+00,\n",
              "       0.00000000e+00, 0.00000000e+00, 0.00000000e+00, 0.00000000e+00,\n",
              "       0.00000000e+00, 0.00000000e+00, 0.00000000e+00, 0.00000000e+00,\n",
              "       0.00000000e+00, 0.00000000e+00, 0.00000000e+00, 0.00000000e+00,\n",
              "       0.00000000e+00, 0.00000000e+00, 0.00000000e+00, 0.00000000e+00,\n",
              "       0.00000000e+00, 0.00000000e+00, 0.00000000e+00, 0.00000000e+00,\n",
              "       0.00000000e+00, 0.00000000e+00, 0.00000000e+00, 0.00000000e+00,\n",
              "       0.00000000e+00, 0.00000000e+00, 0.00000000e+00, 0.00000000e+00,\n",
              "       0.00000000e+00, 0.00000000e+00, 0.00000000e+00, 0.00000000e+00,\n",
              "       0.00000000e+00, 0.00000000e+00, 0.00000000e+00, 0.00000000e+00,\n",
              "       0.00000000e+00, 0.00000000e+00, 0.00000000e+00, 0.00000000e+00,\n",
              "       0.00000000e+00, 0.00000000e+00, 0.00000000e+00, 0.00000000e+00,\n",
              "       0.00000000e+00, 0.00000000e+00, 0.00000000e+00, 0.00000000e+00,\n",
              "       0.00000000e+00, 0.00000000e+00, 0.00000000e+00, 0.00000000e+00,\n",
              "       0.00000000e+00, 0.00000000e+00, 0.00000000e+00, 0.00000000e+00,\n",
              "       0.00000000e+00, 0.00000000e+00, 0.00000000e+00, 0.00000000e+00,\n",
              "       0.00000000e+00, 0.00000000e+00, 0.00000000e+00, 0.00000000e+00,\n",
              "       0.00000000e+00, 0.00000000e+00, 0.00000000e+00, 0.00000000e+00,\n",
              "       0.00000000e+00, 0.00000000e+00, 0.00000000e+00, 0.00000000e+00,\n",
              "       0.00000000e+00, 0.00000000e+00, 0.00000000e+00, 0.00000000e+00,\n",
              "       0.00000000e+00, 0.00000000e+00, 0.00000000e+00, 0.00000000e+00,\n",
              "       0.00000000e+00, 0.00000000e+00, 0.00000000e+00, 0.00000000e+00,\n",
              "       0.00000000e+00, 0.00000000e+00, 0.00000000e+00, 0.00000000e+00,\n",
              "       0.00000000e+00, 0.00000000e+00, 0.00000000e+00, 0.00000000e+00,\n",
              "       0.00000000e+00, 0.00000000e+00, 0.00000000e+00, 0.00000000e+00,\n",
              "       0.00000000e+00, 0.00000000e+00, 0.00000000e+00, 0.00000000e+00,\n",
              "       0.00000000e+00, 0.00000000e+00, 0.00000000e+00, 0.00000000e+00,\n",
              "       0.00000000e+00, 0.00000000e+00, 0.00000000e+00, 0.00000000e+00,\n",
              "       0.00000000e+00, 0.00000000e+00, 0.00000000e+00, 0.00000000e+00,\n",
              "       0.00000000e+00, 0.00000000e+00, 0.00000000e+00, 0.00000000e+00,\n",
              "       0.00000000e+00, 0.00000000e+00, 0.00000000e+00, 0.00000000e+00,\n",
              "       0.00000000e+00, 0.00000000e+00, 0.00000000e+00, 0.00000000e+00,\n",
              "       0.00000000e+00, 0.00000000e+00, 0.00000000e+00, 0.00000000e+00,\n",
              "       0.00000000e+00, 0.00000000e+00, 0.00000000e+00, 0.00000000e+00,\n",
              "       0.00000000e+00, 0.00000000e+00, 0.00000000e+00, 0.00000000e+00,\n",
              "       0.00000000e+00, 0.00000000e+00, 0.00000000e+00, 0.00000000e+00,\n",
              "       0.00000000e+00, 0.00000000e+00, 0.00000000e+00, 0.00000000e+00,\n",
              "       0.00000000e+00, 0.00000000e+00, 0.00000000e+00, 0.00000000e+00,\n",
              "       0.00000000e+00, 0.00000000e+00, 0.00000000e+00, 0.00000000e+00,\n",
              "       0.00000000e+00, 0.00000000e+00, 0.00000000e+00, 0.00000000e+00,\n",
              "       0.00000000e+00, 0.00000000e+00, 0.00000000e+00, 0.00000000e+00,\n",
              "       0.00000000e+00, 0.00000000e+00, 0.00000000e+00, 0.00000000e+00,\n",
              "       0.00000000e+00, 0.00000000e+00, 0.00000000e+00, 0.00000000e+00,\n",
              "       0.00000000e+00, 0.00000000e+00, 0.00000000e+00, 0.00000000e+00,\n",
              "       0.00000000e+00, 0.00000000e+00, 0.00000000e+00, 0.00000000e+00,\n",
              "       0.00000000e+00, 0.00000000e+00, 0.00000000e+00, 0.00000000e+00,\n",
              "       0.00000000e+00, 0.00000000e+00, 0.00000000e+00, 0.00000000e+00,\n",
              "       0.00000000e+00, 0.00000000e+00, 0.00000000e+00, 0.00000000e+00,\n",
              "       0.00000000e+00, 0.00000000e+00, 0.00000000e+00, 0.00000000e+00,\n",
              "       0.00000000e+00, 0.00000000e+00, 0.00000000e+00, 0.00000000e+00,\n",
              "       0.00000000e+00, 0.00000000e+00, 0.00000000e+00, 0.00000000e+00,\n",
              "       0.00000000e+00, 0.00000000e+00, 0.00000000e+00, 0.00000000e+00,\n",
              "       0.00000000e+00, 0.00000000e+00, 0.00000000e+00, 0.00000000e+00,\n",
              "       0.00000000e+00, 0.00000000e+00, 0.00000000e+00, 0.00000000e+00,\n",
              "       0.00000000e+00, 0.00000000e+00, 0.00000000e+00, 0.00000000e+00,\n",
              "       0.00000000e+00, 0.00000000e+00, 0.00000000e+00, 0.00000000e+00,\n",
              "       0.00000000e+00, 0.00000000e+00, 0.00000000e+00, 0.00000000e+00,\n",
              "       0.00000000e+00, 0.00000000e+00, 0.00000000e+00, 0.00000000e+00,\n",
              "       0.00000000e+00, 0.00000000e+00, 0.00000000e+00, 0.00000000e+00,\n",
              "       0.00000000e+00, 0.00000000e+00, 0.00000000e+00, 0.00000000e+00,\n",
              "       0.00000000e+00, 0.00000000e+00, 0.00000000e+00, 0.00000000e+00,\n",
              "       0.00000000e+00, 0.00000000e+00, 0.00000000e+00, 0.00000000e+00,\n",
              "       0.00000000e+00, 0.00000000e+00, 0.00000000e+00, 0.00000000e+00,\n",
              "       0.00000000e+00, 0.00000000e+00, 0.00000000e+00, 0.00000000e+00,\n",
              "       0.00000000e+00, 0.00000000e+00, 0.00000000e+00, 0.00000000e+00,\n",
              "       0.00000000e+00, 0.00000000e+00, 0.00000000e+00, 0.00000000e+00,\n",
              "       0.00000000e+00, 0.00000000e+00, 0.00000000e+00, 0.00000000e+00,\n",
              "       0.00000000e+00, 0.00000000e+00, 0.00000000e+00, 0.00000000e+00,\n",
              "       0.00000000e+00, 0.00000000e+00, 0.00000000e+00, 0.00000000e+00,\n",
              "       0.00000000e+00, 0.00000000e+00, 0.00000000e+00, 0.00000000e+00,\n",
              "       0.00000000e+00, 0.00000000e+00, 0.00000000e+00, 0.00000000e+00,\n",
              "       0.00000000e+00, 0.00000000e+00, 0.00000000e+00, 0.00000000e+00,\n",
              "       0.00000000e+00, 0.00000000e+00, 0.00000000e+00, 0.00000000e+00,\n",
              "       0.00000000e+00, 0.00000000e+00, 0.00000000e+00, 0.00000000e+00,\n",
              "       0.00000000e+00, 0.00000000e+00, 0.00000000e+00, 0.00000000e+00,\n",
              "       0.00000000e+00, 0.00000000e+00, 0.00000000e+00, 0.00000000e+00,\n",
              "       0.00000000e+00, 0.00000000e+00, 0.00000000e+00, 0.00000000e+00,\n",
              "       0.00000000e+00, 0.00000000e+00, 0.00000000e+00, 0.00000000e+00,\n",
              "       0.00000000e+00, 0.00000000e+00, 0.00000000e+00, 0.00000000e+00,\n",
              "       0.00000000e+00, 0.00000000e+00, 0.00000000e+00, 0.00000000e+00,\n",
              "       0.00000000e+00, 0.00000000e+00, 0.00000000e+00, 0.00000000e+00,\n",
              "       0.00000000e+00, 0.00000000e+00, 0.00000000e+00, 0.00000000e+00,\n",
              "       0.00000000e+00, 0.00000000e+00, 0.00000000e+00, 0.00000000e+00,\n",
              "       0.00000000e+00, 0.00000000e+00, 0.00000000e+00, 0.00000000e+00,\n",
              "       0.00000000e+00, 0.00000000e+00, 0.00000000e+00, 0.00000000e+00,\n",
              "       0.00000000e+00, 0.00000000e+00, 0.00000000e+00, 0.00000000e+00,\n",
              "       0.00000000e+00, 0.00000000e+00, 0.00000000e+00, 0.00000000e+00,\n",
              "       0.00000000e+00, 0.00000000e+00, 0.00000000e+00, 0.00000000e+00,\n",
              "       0.00000000e+00, 0.00000000e+00, 0.00000000e+00, 0.00000000e+00,\n",
              "       0.00000000e+00, 0.00000000e+00, 0.00000000e+00, 0.00000000e+00,\n",
              "       0.00000000e+00, 0.00000000e+00, 0.00000000e+00, 0.00000000e+00,\n",
              "       0.00000000e+00, 0.00000000e+00, 0.00000000e+00, 0.00000000e+00,\n",
              "       0.00000000e+00, 0.00000000e+00, 0.00000000e+00, 0.00000000e+00,\n",
              "       0.00000000e+00, 2.15929370e-15, 2.30818100e-04, 4.06809086e-04,\n",
              "       8.25444407e-04, 1.22559074e-03, 1.81498429e-03, 2.00013538e-03,\n",
              "       2.22408421e-03, 3.27593242e-03, 7.01015503e-03, 7.14806400e-03,\n",
              "       8.35488984e-03, 8.65178302e-03, 9.37255779e-03, 1.01291108e-02,\n",
              "       1.07173417e-02, 1.24253276e-02, 1.25379166e-02, 1.29623243e-02,\n",
              "       1.39897985e-02, 1.50731691e-02, 1.50785046e-02, 1.57411360e-02,\n",
              "       1.57760083e-02, 1.74090790e-02, 1.77860744e-02, 1.82132559e-02,\n",
              "       1.97510005e-02, 2.11385615e-02, 2.21826247e-02, 2.25911404e-02,\n",
              "       2.40214015e-02, 2.53308266e-02, 2.61576087e-02, 2.65073028e-02,\n",
              "       2.73212150e-02, 2.73869149e-02, 2.94500134e-02, 2.95192931e-02,\n",
              "       2.99614869e-02, 3.01328880e-02, 3.11764161e-02, 3.21092686e-02,\n",
              "       3.56387288e-02, 3.57443485e-02, 3.59844146e-02, 3.74817692e-02,\n",
              "       3.76403378e-02, 3.78712501e-02, 3.78782454e-02, 3.80229199e-02,\n",
              "       3.86380956e-02, 3.96592936e-02, 4.05333974e-02, 4.16826995e-02,\n",
              "       4.26224439e-02, 4.26280981e-02, 4.27151851e-02, 4.49722803e-02,\n",
              "       4.49956759e-02, 4.51832680e-02, 4.69512034e-02, 4.74347885e-02,\n",
              "       4.77063585e-02, 5.05508870e-02, 5.15140433e-02, 5.19408456e-02,\n",
              "       5.23923203e-02, 5.36640270e-02, 5.38825546e-02, 5.57225748e-02,\n",
              "       5.66070478e-02, 5.70784794e-02, 5.72769868e-02, 5.85821648e-02,\n",
              "       6.04143310e-02, 6.05311904e-02, 6.06683726e-02, 6.07338795e-02,\n",
              "       6.15076395e-02, 6.20080673e-02, 6.39621929e-02, 6.54017862e-02,\n",
              "       6.59066249e-02, 6.71544794e-02, 6.81603942e-02, 6.89293314e-02,\n",
              "       6.91025185e-02, 6.94950056e-02, 6.99245375e-02, 7.07628769e-02,\n",
              "       7.12734391e-02, 7.21531476e-02, 7.32175290e-02, 7.33676277e-02,\n",
              "       7.34560274e-02, 7.48666257e-02, 7.54497488e-02, 7.67663431e-02,\n",
              "       7.93402806e-02, 8.04019159e-02, 8.05695528e-02, 8.09226625e-02,\n",
              "       8.11093582e-02, 8.15353512e-02, 8.33685065e-02, 8.35206317e-02,\n",
              "       8.37179070e-02, 8.45708949e-02, 8.47730271e-02, 8.58572621e-02,\n",
              "       8.64814669e-02, 8.70724334e-02, 8.79754915e-02, 8.87977100e-02,\n",
              "       8.89936883e-02, 9.09582373e-02, 9.22989073e-02, 9.28911473e-02,\n",
              "       9.35026083e-02, 9.41883320e-02, 9.42935225e-02, 9.45139978e-02,\n",
              "       9.51738919e-02, 9.60150181e-02, 9.67952277e-02, 9.79381067e-02,\n",
              "       9.81962050e-02, 9.83846778e-02, 9.90194712e-02, 9.98026481e-02,\n",
              "       1.06846524e-01, 1.07066598e-01, 1.07716808e-01, 1.10068811e-01,\n",
              "       1.10464763e-01, 1.13432482e-01, 1.13983706e-01, 1.15622398e-01,\n",
              "       1.15979148e-01, 1.18391720e-01, 1.18723873e-01, 1.20857090e-01,\n",
              "       1.21016794e-01, 1.22470972e-01, 1.23077940e-01, 1.23182545e-01,\n",
              "       1.23418666e-01, 1.24506378e-01, 1.24983495e-01, 1.26674520e-01,\n",
              "       1.27017413e-01, 1.29037097e-01, 1.30241416e-01, 1.30740353e-01,\n",
              "       1.31200308e-01, 1.32260072e-01, 1.34067370e-01, 1.34098057e-01,\n",
              "       1.35320084e-01, 1.39035169e-01, 1.39661722e-01, 1.40781311e-01,\n",
              "       1.41034576e-01, 1.42043156e-01, 1.43363200e-01, 1.43687056e-01,\n",
              "       1.44662937e-01, 1.44669479e-01, 1.47670224e-01, 1.47904895e-01,\n",
              "       1.48594924e-01, 1.48871763e-01, 1.48892974e-01, 1.49783733e-01,\n",
              "       1.50520907e-01, 1.50594970e-01, 1.52078165e-01, 1.54395129e-01,\n",
              "       1.54589120e-01, 1.54669033e-01, 1.55178560e-01, 1.55807523e-01,\n",
              "       1.57413718e-01, 1.58764193e-01, 1.60640218e-01, 1.62837817e-01,\n",
              "       1.63242872e-01, 1.63400615e-01, 1.63606848e-01, 1.63765796e-01,\n",
              "       1.64311514e-01, 1.66069623e-01, 1.66937966e-01, 1.67221579e-01,\n",
              "       1.72638516e-01, 1.73023610e-01, 1.73736192e-01, 1.76444275e-01,\n",
              "       1.79631782e-01, 1.80239184e-01, 1.81597220e-01, 1.81625292e-01,\n",
              "       1.82083170e-01, 1.83156811e-01, 1.86058436e-01, 1.86581359e-01,\n",
              "       1.86697092e-01, 1.89129535e-01, 1.89654906e-01, 1.91598801e-01,\n",
              "       1.91816165e-01, 1.93039154e-01, 1.93300343e-01, 1.94152355e-01,\n",
              "       1.94183620e-01, 1.95663309e-01, 1.96157686e-01, 1.97762603e-01,\n",
              "       1.99000556e-01, 1.99536109e-01, 2.00642816e-01, 2.01067410e-01,\n",
              "       2.01673996e-01, 2.03932225e-01, 2.05672963e-01, 2.05717785e-01,\n",
              "       2.06187170e-01, 2.06980885e-01, 2.08121472e-01, 2.15928701e-01,\n",
              "       2.16890102e-01, 2.17267412e-01, 2.17869618e-01, 2.18097189e-01,\n",
              "       2.19022874e-01, 2.22099311e-01, 2.23987894e-01, 2.23987910e-01,\n",
              "       2.23987915e-01, 2.24430734e-01, 2.24943754e-01, 2.27096294e-01,\n",
              "       2.28175430e-01, 2.31648220e-01, 2.33900409e-01, 2.33902734e-01,\n",
              "       2.35009861e-01, 2.35415611e-01, 2.37195041e-01, 2.40010797e-01,\n",
              "       2.42955313e-01, 2.44441941e-01, 2.44994795e-01, 2.46020797e-01,\n",
              "       2.48003734e-01, 2.56071658e-01, 2.60746127e-01, 2.67203284e-01,\n",
              "       2.67443848e-01, 2.74031696e-01, 2.75926450e-01, 2.76377143e-01,\n",
              "       2.80373548e-01, 2.88303000e-01, 2.89140260e-01, 2.90690161e-01,\n",
              "       2.97196247e-01, 2.97196252e-01, 3.06914370e-01, 3.11702499e-01,\n",
              "       3.16246926e-01, 3.22319307e-01, 3.22593708e-01, 3.23928893e-01,\n",
              "       3.27438278e-01, 3.29614169e-01, 3.32360329e-01, 3.38315707e-01,\n",
              "       3.38933013e-01, 3.44278775e-01, 3.56656516e-01, 3.60012365e-01,\n",
              "       3.66848365e-01, 3.74966026e-01, 3.75069863e-01, 3.81938367e-01,\n",
              "       3.85556462e-01, 3.88500107e-01, 3.88827177e-01, 3.92168955e-01,\n",
              "       4.01020167e-01, 4.05160596e-01, 4.05282706e-01, 4.23958642e-01,\n",
              "       4.38315552e-01, 4.71539891e-01])"
            ]
          },
          "metadata": {
            "tags": []
          },
          "execution_count": 124
        }
      ]
    },
    {
      "cell_type": "code",
      "metadata": {
        "colab": {
          "base_uri": "https://localhost:8080/"
        },
        "id": "0j_RdqnwACJN",
        "outputId": "41f29280-a3c2-49b8-9cc1-7354e17a622c"
      },
      "source": [
        "importance = [i for i in importance if i != 0]\r\n",
        "len(importance)"
      ],
      "execution_count": 206,
      "outputs": [
        {
          "output_type": "execute_result",
          "data": {
            "text/plain": [
              "297"
            ]
          },
          "metadata": {
            "tags": []
          },
          "execution_count": 206
        }
      ]
    },
    {
      "cell_type": "code",
      "metadata": {
        "colab": {
          "base_uri": "https://localhost:8080/"
        },
        "id": "84zWvLMNuo1o",
        "outputId": "5a789d1f-431a-4131-b4b8-6ec4c48bdec0"
      },
      "source": [
        "all_inputs = data_model[data_model.columns[1:]].values\n",
        "all_labels = data_model['label'].values\n",
        "all_inputs.shape"
      ],
      "execution_count": 226,
      "outputs": [
        {
          "output_type": "execute_result",
          "data": {
            "text/plain": [
              "(1977, 682)"
            ]
          },
          "metadata": {
            "tags": []
          },
          "execution_count": 226
        }
      ]
    },
    {
      "cell_type": "code",
      "metadata": {
        "id": "KxtXO2rR12E4"
      },
      "source": [
        "from sklearn.feature_selection import SelectFromModel\n",
        "\n",
        "threshold = np.sort(importance)[-200] \n",
        " \n",
        " \n",
        "sfm = SelectFromModel(lasso, threshold=threshold).fit(all_inputs, all_labels)\n",
        "selected_Features = data_model.columns[1:][sfm.get_support()]"
      ],
      "execution_count": 227,
      "outputs": []
    },
    {
      "cell_type": "code",
      "metadata": {
        "colab": {
          "base_uri": "https://localhost:8080/"
        },
        "id": "n2m939RV7DCj",
        "outputId": "0f779425-eafd-4c84-bfdc-446918ca0624"
      },
      "source": [
        "all_inputs = data_model[selected_Features].values\n",
        "all_labels = data_model['label'].values\n",
        "all_inputs.shape"
      ],
      "execution_count": 228,
      "outputs": [
        {
          "output_type": "execute_result",
          "data": {
            "text/plain": [
              "(1977, 200)"
            ]
          },
          "metadata": {
            "tags": []
          },
          "execution_count": 228
        }
      ]
    },
    {
      "cell_type": "code",
      "metadata": {
        "colab": {
          "base_uri": "https://localhost:8080/"
        },
        "id": "iXVNTGGGW0Vw",
        "outputId": "760c0877-547d-4f26-b90d-28ba2c0a6af7"
      },
      "source": [
        "from sklearn.model_selection import train_test_split\n",
        "(X_train, X_test, y_train, y_test) = train_test_split(all_inputs, all_labels, test_size=0.25, random_state=1)\n",
        "from sklearn.preprocessing import StandardScaler\n",
        "sc = StandardScaler()\n",
        "X_train = sc.fit_transform(X_train)\n",
        "X_test = sc.transform(X_test)\n",
        "\n",
        "results_5 = []\n",
        "names = []\n",
        "seed=42\n",
        "for name, model in models_2:\n",
        "    kfold = KFold(n_splits=20, random_state=seed, shuffle=True)\n",
        "    cv_results_5 = cross_val_score(model, X_train, y_train, cv=kfold,          scoring='accuracy')\n",
        "    results_5.append(cv_results_5)\n",
        "    names.append(name)\n",
        "    print(f\"{name}, {cv_results_5.mean()}, {cv_results_5.std()}))\")"
      ],
      "execution_count": 229,
      "outputs": [
        {
          "output_type": "stream",
          "text": [
            "LR, 0.8521801801801802, 0.03773690527806847))\n",
            "RC, 0.84609009009009, 0.04254269639022997))\n",
            "LSVC, 0.8420630630630631, 0.033785464222470925))\n",
            "SGDC, 0.8279189189189189, 0.03872312591308302))\n",
            "P, 0.7948738738738739, 0.05812036954230517))\n",
            "PAC, 0.8049729729729729, 0.04598300572160949))\n",
            "BNB, 0.8508108108108108, 0.038741001400503815))\n",
            "NC, 0.8514864864864864, 0.03718116904056562))\n",
            "SVM, 0.8393513513513515, 0.04264984754934616))\n"
          ],
          "name": "stdout"
        }
      ]
    },
    {
      "cell_type": "markdown",
      "metadata": {
        "id": "THnU_4FnF72E"
      },
      "source": [
        "##  **6.** Principal Component Analysis"
      ]
    },
    {
      "cell_type": "code",
      "metadata": {
        "id": "zHuSZkDGF72a",
        "colab": {
          "base_uri": "https://localhost:8080/"
        },
        "outputId": "6694395c-02cd-4029-fd7c-d6ce0a0bb458"
      },
      "source": [
        "all_inputs = data_model[data_model.columns[1:]].values\n",
        "all_labels = data_model['label'].values\n",
        "all_inputs.shape"
      ],
      "execution_count": 231,
      "outputs": [
        {
          "output_type": "execute_result",
          "data": {
            "text/plain": [
              "(1977, 682)"
            ]
          },
          "metadata": {
            "tags": []
          },
          "execution_count": 231
        }
      ]
    },
    {
      "cell_type": "code",
      "metadata": {
        "colab": {
          "base_uri": "https://localhost:8080/"
        },
        "id": "B3iHYVz3F72b",
        "outputId": "33c8c9bb-01b5-4e75-aa1a-0c003ed12efd"
      },
      "source": [
        "from sklearn.decomposition import PCA\n",
        "pca = PCA(n_components=200)\n",
        "pca.fit(all_inputs)"
      ],
      "execution_count": 232,
      "outputs": [
        {
          "output_type": "execute_result",
          "data": {
            "text/plain": [
              "PCA(copy=True, iterated_power='auto', n_components=200, random_state=None,\n",
              "    svd_solver='auto', tol=0.0, whiten=False)"
            ]
          },
          "metadata": {
            "tags": []
          },
          "execution_count": 232
        }
      ]
    },
    {
      "cell_type": "code",
      "metadata": {
        "id": "JS9im1FeqMrQ"
      },
      "source": [
        "#print(pca.explained_variance_)"
      ],
      "execution_count": 338,
      "outputs": []
    },
    {
      "cell_type": "code",
      "metadata": {
        "colab": {
          "base_uri": "https://localhost:8080/"
        },
        "id": "myx_LqSKF72c",
        "outputId": "303c60fe-54ed-4f17-842c-5e294287f6e9"
      },
      "source": [
        "all_inputs = pca.transform(all_inputs)\r\n",
        "all_inputs.shape"
      ],
      "execution_count": 233,
      "outputs": [
        {
          "output_type": "execute_result",
          "data": {
            "text/plain": [
              "(1977, 200)"
            ]
          },
          "metadata": {
            "tags": []
          },
          "execution_count": 233
        }
      ]
    },
    {
      "cell_type": "code",
      "metadata": {
        "colab": {
          "base_uri": "https://localhost:8080/"
        },
        "id": "Wo2iYBSWF72d",
        "outputId": "9bce452d-93c4-4170-9bd1-1f9ecd78010b"
      },
      "source": [
        "from sklearn.model_selection import train_test_split\n",
        "(X_train, X_test, y_train, y_test) = train_test_split(all_inputs, all_labels, test_size=0.25, random_state=1)\n",
        "from sklearn.preprocessing import StandardScaler\n",
        "sc = StandardScaler()\n",
        "X_train = sc.fit_transform(X_train)\n",
        "X_test = sc.transform(X_test)\n",
        "results_6 = []\n",
        "names = []\n",
        "seed=42\n",
        "for name, model in models_2:\n",
        "    kfold = KFold(n_splits=20, random_state=seed, shuffle=True)\n",
        "    cv_results_6 = cross_val_score(model, X_train, y_train, cv=kfold,          scoring='accuracy')\n",
        "    results_6.append(cv_results_6)\n",
        "    names.append(name)\n",
        "    print(f\"{name}, {cv_results_6.mean()}, {cv_results_6.std()}))\")"
      ],
      "execution_count": 234,
      "outputs": [
        {
          "output_type": "stream",
          "text": [
            "LR, 0.786018018018018, 0.05244628156779206))\n",
            "RC, 0.7867117117117117, 0.053640213858756045))\n",
            "LSVC, 0.7752432432432432, 0.04449857348231378))\n",
            "SGDC, 0.7624054054054054, 0.053518556955894685))\n",
            "P, 0.7388828828828827, 0.05820984459375622))\n",
            "PAC, 0.7308018018018018, 0.06376997547383954))\n",
            "BNB, 0.6242522522522522, 0.06004025379125711))\n",
            "NC, 0.782, 0.04586609914088785))\n",
            "SVM, 0.7786396396396398, 0.04542686733587984))\n"
          ],
          "name": "stdout"
        }
      ]
    },
    {
      "cell_type": "markdown",
      "metadata": {
        "id": "UKpvUh1mEI7d"
      },
      "source": [
        "## Classification Comparison of Feature Selection Methods"
      ]
    },
    {
      "cell_type": "code",
      "metadata": {
        "id": "ww9yAikjAhV8"
      },
      "source": [
        "classification_comparison= pd.DataFrame(index=[i for i in names])"
      ],
      "execution_count": 235,
      "outputs": []
    },
    {
      "cell_type": "code",
      "metadata": {
        "id": "m4XD5E-hAhV-"
      },
      "source": [
        "dfresults = pd.DataFrame(results_1)\r\n",
        "dfresults=dfresults.T\r\n",
        "dfresults.columns=names\r\n",
        "df_mean=[]\r\n",
        "df_sd=[]\r\n",
        "for i in dfresults.columns:\r\n",
        "  d= dfresults[i].mean()\r\n",
        "  df_mean.append(d)\r\n",
        "df_mean= [round(num, 4) for num in df_mean]\r\n",
        "for i in dfresults.columns:\r\n",
        "  n= dfresults[i].std()\r\n",
        "  df_sd.append(n)\r\n",
        "df_sd= [round(num, 4) for num in df_sd]\r\n",
        "\r\n",
        "classification_comparison['Accuracy']= df_mean\r\n",
        "classification_comparison['sd']= df_sd\r\n"
      ],
      "execution_count": 236,
      "outputs": []
    },
    {
      "cell_type": "code",
      "metadata": {
        "id": "G2mGjyjGAhWA"
      },
      "source": [
        "dfresults = pd.DataFrame(results_2)\r\n",
        "dfresults=dfresults.T\r\n",
        "dfresults.columns=names\r\n",
        "df_mean=[]\r\n",
        "df_sd=[]\r\n",
        "for i in dfresults.columns:\r\n",
        "  d= dfresults[i].mean()\r\n",
        "  df_mean.append(d)\r\n",
        "df_mean= [round(num, 4) for num in df_mean]\r\n",
        "for i in dfresults.columns:\r\n",
        "  n= dfresults[i].std()\r\n",
        "  df_sd.append(n)\r\n",
        "df_sd= [round(num, 4) for num in df_sd]\r\n",
        "\r\n",
        "classification_comparison['Accuracy_2']= df_mean\r\n",
        "classification_comparison['sd_2']= df_sd"
      ],
      "execution_count": 237,
      "outputs": []
    },
    {
      "cell_type": "code",
      "metadata": {
        "id": "VjQuUxZPAhWB"
      },
      "source": [
        "dfresults = pd.DataFrame(results_3)\r\n",
        "dfresults=dfresults.T\r\n",
        "dfresults.columns=names\r\n",
        "df_mean=[]\r\n",
        "df_sd=[]\r\n",
        "for i in dfresults.columns:\r\n",
        "  d= dfresults[i].mean()\r\n",
        "  df_mean.append(d)\r\n",
        "df_mean= [round(num, 4) for num in df_mean]\r\n",
        "for i in dfresults.columns:\r\n",
        "  n= dfresults[i].std()\r\n",
        "  df_sd.append(n)\r\n",
        "df_sd= [round(num, 4) for num in df_sd]\r\n",
        "\r\n",
        "classification_comparison['Accuracy_3']= df_mean\r\n",
        "classification_comparison['sd_3']= df_sd"
      ],
      "execution_count": 238,
      "outputs": []
    },
    {
      "cell_type": "code",
      "metadata": {
        "id": "7KJPELFPAhWC"
      },
      "source": [
        "dfresults = pd.DataFrame(results_4)\r\n",
        "dfresults=dfresults.T\r\n",
        "dfresults.columns=names\r\n",
        "df_mean=[]\r\n",
        "df_sd=[]\r\n",
        "for i in dfresults.columns:\r\n",
        "  d= dfresults[i].mean()\r\n",
        "  df_mean.append(d)\r\n",
        "df_mean= [round(num, 4) for num in df_mean]\r\n",
        "for i in dfresults.columns:\r\n",
        "  n= dfresults[i].std()\r\n",
        "  df_sd.append(n)\r\n",
        "df_sd= [round(num, 4) for num in df_sd]\r\n",
        "\r\n",
        "classification_comparison['Accuracy_4']= df_mean\r\n",
        "classification_comparison['sd_4']= df_sd"
      ],
      "execution_count": 239,
      "outputs": []
    },
    {
      "cell_type": "code",
      "metadata": {
        "id": "r1cHpc1qAhWE"
      },
      "source": [
        "dfresults = pd.DataFrame(results_5)\r\n",
        "dfresults=dfresults.T\r\n",
        "dfresults.columns=names\r\n",
        "df_mean=[]\r\n",
        "df_sd=[]\r\n",
        "for i in dfresults.columns:\r\n",
        "  d= dfresults[i].mean()\r\n",
        "  df_mean.append(d)\r\n",
        "df_mean= [round(num, 4) for num in df_mean]\r\n",
        "for i in dfresults.columns:\r\n",
        "  n= dfresults[i].std()\r\n",
        "  df_sd.append(n)\r\n",
        "df_sd= [round(num, 4) for num in df_sd]\r\n",
        "\r\n",
        "classification_comparison['Accuracy_5']= df_mean\r\n",
        "classification_comparison['sd_5']= df_sd"
      ],
      "execution_count": 240,
      "outputs": []
    },
    {
      "cell_type": "code",
      "metadata": {
        "id": "bqCOpRdhso1Y"
      },
      "source": [
        "dfresults = pd.DataFrame(results_6)\r\n",
        "dfresults=dfresults.T\r\n",
        "dfresults.columns=names\r\n",
        "df_mean=[]\r\n",
        "df_sd=[]\r\n",
        "for i in dfresults.columns:\r\n",
        "  d= dfresults[i].mean()\r\n",
        "  df_mean.append(d)\r\n",
        "df_mean= [round(num, 4) for num in df_mean]\r\n",
        "for i in dfresults.columns:\r\n",
        "  n= dfresults[i].std()\r\n",
        "  df_sd.append(n)\r\n",
        "df_sd= [round(num, 4) for num in df_sd]\r\n",
        "\r\n",
        "classification_comparison['Accuracy_6']= df_mean\r\n",
        "classification_comparison['sd_6']= df_sd"
      ],
      "execution_count": 241,
      "outputs": []
    },
    {
      "cell_type": "code",
      "metadata": {
        "id": "nljGHBpBBVUk"
      },
      "source": [
        "values= ['Acc', 'SD']"
      ],
      "execution_count": 242,
      "outputs": []
    },
    {
      "cell_type": "code",
      "metadata": {
        "id": "rV3keEwuBVUm"
      },
      "source": [
        "FS_Methods=['1_RFLVar', '2_UFSKBest','3_UFSFpr',\r\n",
        "     '4_FSU', '5_SFS', '6_PCA']"
      ],
      "execution_count": 243,
      "outputs": []
    },
    {
      "cell_type": "code",
      "metadata": {
        "id": "cJgdEJkTBVUm",
        "colab": {
          "base_uri": "https://localhost:8080/",
          "height": 343
        },
        "outputId": "fe2a4cf3-240b-48a8-900f-3a200f5cbe1f"
      },
      "source": [
        "idx = pd.MultiIndex.from_product([FS_Methods, values],\r\n",
        "                                 names=['FS_Methods', 'values'])\r\n",
        "\r\n",
        "classification_comparison.columns = idx\r\n",
        "classification_comparison"
      ],
      "execution_count": 244,
      "outputs": [
        {
          "output_type": "execute_result",
          "data": {
            "text/html": [
              "<div>\n",
              "<style scoped>\n",
              "    .dataframe tbody tr th:only-of-type {\n",
              "        vertical-align: middle;\n",
              "    }\n",
              "\n",
              "    .dataframe tbody tr th {\n",
              "        vertical-align: top;\n",
              "    }\n",
              "\n",
              "    .dataframe thead tr th {\n",
              "        text-align: left;\n",
              "    }\n",
              "</style>\n",
              "<table border=\"1\" class=\"dataframe\">\n",
              "  <thead>\n",
              "    <tr>\n",
              "      <th>FS_Methods</th>\n",
              "      <th colspan=\"2\" halign=\"left\">1_RFLVar</th>\n",
              "      <th colspan=\"2\" halign=\"left\">2_UFSKBest</th>\n",
              "      <th colspan=\"2\" halign=\"left\">3_UFSFpr</th>\n",
              "      <th colspan=\"2\" halign=\"left\">4_FSU</th>\n",
              "      <th colspan=\"2\" halign=\"left\">5_SFS</th>\n",
              "      <th colspan=\"2\" halign=\"left\">6_PCA</th>\n",
              "    </tr>\n",
              "    <tr>\n",
              "      <th>values</th>\n",
              "      <th>Acc</th>\n",
              "      <th>SD</th>\n",
              "      <th>Acc</th>\n",
              "      <th>SD</th>\n",
              "      <th>Acc</th>\n",
              "      <th>SD</th>\n",
              "      <th>Acc</th>\n",
              "      <th>SD</th>\n",
              "      <th>Acc</th>\n",
              "      <th>SD</th>\n",
              "      <th>Acc</th>\n",
              "      <th>SD</th>\n",
              "    </tr>\n",
              "  </thead>\n",
              "  <tbody>\n",
              "    <tr>\n",
              "      <th>LR</th>\n",
              "      <td>0.79</td>\n",
              "      <td>0.05</td>\n",
              "      <td>0.82</td>\n",
              "      <td>0.05</td>\n",
              "      <td>0.84</td>\n",
              "      <td>0.04</td>\n",
              "      <td>0.83</td>\n",
              "      <td>0.04</td>\n",
              "      <td>0.85</td>\n",
              "      <td>0.04</td>\n",
              "      <td>0.79</td>\n",
              "      <td>0.05</td>\n",
              "    </tr>\n",
              "    <tr>\n",
              "      <th>RC</th>\n",
              "      <td>0.78</td>\n",
              "      <td>0.05</td>\n",
              "      <td>0.79</td>\n",
              "      <td>0.06</td>\n",
              "      <td>0.81</td>\n",
              "      <td>0.05</td>\n",
              "      <td>0.81</td>\n",
              "      <td>0.05</td>\n",
              "      <td>0.85</td>\n",
              "      <td>0.04</td>\n",
              "      <td>0.79</td>\n",
              "      <td>0.06</td>\n",
              "    </tr>\n",
              "    <tr>\n",
              "      <th>LSVC</th>\n",
              "      <td>0.78</td>\n",
              "      <td>0.05</td>\n",
              "      <td>0.81</td>\n",
              "      <td>0.04</td>\n",
              "      <td>0.82</td>\n",
              "      <td>0.04</td>\n",
              "      <td>0.81</td>\n",
              "      <td>0.04</td>\n",
              "      <td>0.84</td>\n",
              "      <td>0.03</td>\n",
              "      <td>0.78</td>\n",
              "      <td>0.05</td>\n",
              "    </tr>\n",
              "    <tr>\n",
              "      <th>SGDC</th>\n",
              "      <td>0.77</td>\n",
              "      <td>0.04</td>\n",
              "      <td>0.79</td>\n",
              "      <td>0.05</td>\n",
              "      <td>0.83</td>\n",
              "      <td>0.05</td>\n",
              "      <td>0.80</td>\n",
              "      <td>0.04</td>\n",
              "      <td>0.83</td>\n",
              "      <td>0.04</td>\n",
              "      <td>0.76</td>\n",
              "      <td>0.05</td>\n",
              "    </tr>\n",
              "    <tr>\n",
              "      <th>P</th>\n",
              "      <td>0.75</td>\n",
              "      <td>0.06</td>\n",
              "      <td>0.77</td>\n",
              "      <td>0.05</td>\n",
              "      <td>0.79</td>\n",
              "      <td>0.06</td>\n",
              "      <td>0.80</td>\n",
              "      <td>0.05</td>\n",
              "      <td>0.79</td>\n",
              "      <td>0.06</td>\n",
              "      <td>0.74</td>\n",
              "      <td>0.06</td>\n",
              "    </tr>\n",
              "    <tr>\n",
              "      <th>PAC</th>\n",
              "      <td>0.75</td>\n",
              "      <td>0.05</td>\n",
              "      <td>0.79</td>\n",
              "      <td>0.05</td>\n",
              "      <td>0.76</td>\n",
              "      <td>0.06</td>\n",
              "      <td>0.79</td>\n",
              "      <td>0.05</td>\n",
              "      <td>0.81</td>\n",
              "      <td>0.05</td>\n",
              "      <td>0.73</td>\n",
              "      <td>0.07</td>\n",
              "    </tr>\n",
              "    <tr>\n",
              "      <th>BNB</th>\n",
              "      <td>0.74</td>\n",
              "      <td>0.05</td>\n",
              "      <td>0.78</td>\n",
              "      <td>0.05</td>\n",
              "      <td>0.78</td>\n",
              "      <td>0.05</td>\n",
              "      <td>0.80</td>\n",
              "      <td>0.05</td>\n",
              "      <td>0.85</td>\n",
              "      <td>0.04</td>\n",
              "      <td>0.62</td>\n",
              "      <td>0.06</td>\n",
              "    </tr>\n",
              "    <tr>\n",
              "      <th>NC</th>\n",
              "      <td>0.74</td>\n",
              "      <td>0.05</td>\n",
              "      <td>0.78</td>\n",
              "      <td>0.05</td>\n",
              "      <td>0.78</td>\n",
              "      <td>0.05</td>\n",
              "      <td>0.81</td>\n",
              "      <td>0.06</td>\n",
              "      <td>0.85</td>\n",
              "      <td>0.04</td>\n",
              "      <td>0.78</td>\n",
              "      <td>0.05</td>\n",
              "    </tr>\n",
              "    <tr>\n",
              "      <th>SVM</th>\n",
              "      <td>0.81</td>\n",
              "      <td>0.05</td>\n",
              "      <td>0.81</td>\n",
              "      <td>0.06</td>\n",
              "      <td>0.84</td>\n",
              "      <td>0.04</td>\n",
              "      <td>0.82</td>\n",
              "      <td>0.05</td>\n",
              "      <td>0.84</td>\n",
              "      <td>0.04</td>\n",
              "      <td>0.78</td>\n",
              "      <td>0.05</td>\n",
              "    </tr>\n",
              "  </tbody>\n",
              "</table>\n",
              "</div>"
            ],
            "text/plain": [
              "FS_Methods 1_RFLVar      2_UFSKBest      3_UFSFpr  ... 4_FSU 5_SFS      6_PCA     \n",
              "values          Acc   SD        Acc   SD      Acc  ...    SD   Acc   SD   Acc   SD\n",
              "LR             0.79 0.05       0.82 0.05     0.84  ...  0.04  0.85 0.04  0.79 0.05\n",
              "RC             0.78 0.05       0.79 0.06     0.81  ...  0.05  0.85 0.04  0.79 0.06\n",
              "LSVC           0.78 0.05       0.81 0.04     0.82  ...  0.04  0.84 0.03  0.78 0.05\n",
              "SGDC           0.77 0.04       0.79 0.05     0.83  ...  0.04  0.83 0.04  0.76 0.05\n",
              "P              0.75 0.06       0.77 0.05     0.79  ...  0.05  0.79 0.06  0.74 0.06\n",
              "PAC            0.75 0.05       0.79 0.05     0.76  ...  0.05  0.81 0.05  0.73 0.07\n",
              "BNB            0.74 0.05       0.78 0.05     0.78  ...  0.05  0.85 0.04  0.62 0.06\n",
              "NC             0.74 0.05       0.78 0.05     0.78  ...  0.06  0.85 0.04  0.78 0.05\n",
              "SVM            0.81 0.05       0.81 0.06     0.84  ...  0.05  0.84 0.04  0.78 0.05\n",
              "\n",
              "[9 rows x 12 columns]"
            ]
          },
          "metadata": {
            "tags": []
          },
          "execution_count": 244
        }
      ]
    },
    {
      "cell_type": "code",
      "metadata": {
        "id": "Q36rHFEyBVUp"
      },
      "source": [
        "classification_comparison.to_csv('Classification Comparison of Feature Selection Methods.csv', index= False)"
      ],
      "execution_count": 245,
      "outputs": []
    },
    {
      "cell_type": "code",
      "metadata": {
        "id": "pROrdfWYBVUp",
        "colab": {
          "base_uri": "https://localhost:8080/",
          "height": 513
        },
        "outputId": "23d3498d-822a-4da9-d701-1f7d315a8bf1"
      },
      "source": [
        "plt.figure(figsize=(10,7))\n",
        "ax = plt.subplot(211)\n",
        "classification_comparison.xs('Acc', axis=1, level='values').plot( ax=ax)\n",
        "plt.title(\"Accuracy\")\n",
        "plt.legend(shadow=True, frameon=True, fancybox=True, title='FS_Methods', bbox_to_anchor=(1.05, 1), loc='upper left')\n",
        "ax = plt.subplot(212)\n",
        "classification_comparison.xs('SD', axis=1, level='values').plot( ax=ax)\n",
        "plt.title(\"Standard Deviation\")\n",
        "plt.xlabel(\"Classifcation Algorithms\")\n",
        "plt.legend(shadow=True, frameon=True, fancybox=True, title='FS_Methods', bbox_to_anchor=(1.05, 1), loc='upper left')\n",
        "plt.tight_layout()"
      ],
      "execution_count": 246,
      "outputs": [
        {
          "output_type": "display_data",
          "data": {
            "image/png": "[encoded data removed]",
            "text/plain": [
              "<Figure size 720x504 with 2 Axes>"
            ]
          },
          "metadata": {
            "tags": [],
            "needs_background": "light"
          }
        }
      ]
    },
    {
      "cell_type": "code",
      "metadata": {
        "id": "MD-nMxKuFgPv",
        "colab": {
          "base_uri": "https://localhost:8080/"
        },
        "outputId": "6f911a0a-7aa3-4531-b0e2-5d691a7a363b"
      },
      "source": [
        "classification_comparison.T.max()"
      ],
      "execution_count": 247,
      "outputs": [
        {
          "output_type": "execute_result",
          "data": {
            "text/plain": [
              "LR     0.85\n",
              "RC     0.85\n",
              "LSVC   0.84\n",
              "SGDC   0.83\n",
              "P      0.80\n",
              "PAC    0.81\n",
              "BNB    0.85\n",
              "NC     0.85\n",
              "SVM    0.84\n",
              "dtype: float64"
            ]
          },
          "metadata": {
            "tags": []
          },
          "execution_count": 247
        }
      ]
    },
    {
      "cell_type": "code",
      "metadata": {
        "id": "C2mrj3nJF9xM",
        "colab": {
          "base_uri": "https://localhost:8080/"
        },
        "outputId": "ee09ea54-cbde-4bda-8bc7-0f8d5cfa936e"
      },
      "source": [
        "classification_comparison.T['LR']"
      ],
      "execution_count": 248,
      "outputs": [
        {
          "output_type": "execute_result",
          "data": {
            "text/plain": [
              "FS_Methods  values\n",
              "1_RFLVar    Acc      0.79\n",
              "            SD       0.05\n",
              "2_UFSKBest  Acc      0.82\n",
              "            SD       0.05\n",
              "3_UFSFpr    Acc      0.84\n",
              "            SD       0.04\n",
              "4_FSU       Acc      0.83\n",
              "            SD       0.04\n",
              "5_SFS       Acc      0.85\n",
              "            SD       0.04\n",
              "6_PCA       Acc      0.79\n",
              "            SD       0.05\n",
              "Name: LR, dtype: float64"
            ]
          },
          "metadata": {
            "tags": []
          },
          "execution_count": 248
        }
      ]
    },
    {
      "cell_type": "code",
      "metadata": {
        "colab": {
          "base_uri": "https://localhost:8080/"
        },
        "id": "qxxBNuiXFfEd",
        "outputId": "6b2288a7-1925-4a2e-be59-619251ffe788"
      },
      "source": [
        "classification_comparison.T['RC']"
      ],
      "execution_count": 249,
      "outputs": [
        {
          "output_type": "execute_result",
          "data": {
            "text/plain": [
              "FS_Methods  values\n",
              "1_RFLVar    Acc      0.78\n",
              "            SD       0.05\n",
              "2_UFSKBest  Acc      0.79\n",
              "            SD       0.06\n",
              "3_UFSFpr    Acc      0.81\n",
              "            SD       0.05\n",
              "4_FSU       Acc      0.81\n",
              "            SD       0.05\n",
              "5_SFS       Acc      0.85\n",
              "            SD       0.04\n",
              "6_PCA       Acc      0.79\n",
              "            SD       0.06\n",
              "Name: RC, dtype: float64"
            ]
          },
          "metadata": {
            "tags": []
          },
          "execution_count": 249
        }
      ]
    },
    {
      "cell_type": "markdown",
      "metadata": {
        "id": "tAliTkM1GWd9"
      },
      "source": [
        "The max accuracy was by using Sequential Feature Selection"
      ]
    },
    {
      "cell_type": "markdown",
      "metadata": {
        "id": "VIqIoTcPJ1RA"
      },
      "source": [
        "##  Selected Feature"
      ]
    },
    {
      "cell_type": "code",
      "metadata": {
        "colab": {
          "base_uri": "https://localhost:8080/"
        },
        "id": "XGMIx6gyF5Fs",
        "outputId": "5c0b0c91-a8b4-4743-df1c-708812e2306a"
      },
      "source": [
        "all_inputs = data_model[selected_Features].values\r\n",
        "all_labels = data_model['label'].values\r\n",
        "all_inputs.shape"
      ],
      "execution_count": 250,
      "outputs": [
        {
          "output_type": "execute_result",
          "data": {
            "text/plain": [
              "(1977, 200)"
            ]
          },
          "metadata": {
            "tags": []
          },
          "execution_count": 250
        }
      ]
    },
    {
      "cell_type": "code",
      "metadata": {
        "colab": {
          "base_uri": "https://localhost:8080/",
          "height": 35
        },
        "id": "RozKwPMeGtej",
        "outputId": "827377bb-01b3-4c75-f3d6-67847ace869b"
      },
      "source": [
        "selected_Features_list=list(selected_Features)\r\n",
        "selected_Features_list.append('label')\r\n",
        "selected_Features_list[-1]"
      ],
      "execution_count": 251,
      "outputs": [
        {
          "output_type": "execute_result",
          "data": {
            "application/vnd.google.colaboratory.intrinsic+json": {
              "type": "string"
            },
            "text/plain": [
              "'label'"
            ]
          },
          "metadata": {
            "tags": []
          },
          "execution_count": 251
        }
      ]
    },
    {
      "cell_type": "code",
      "metadata": {
        "id": "K07BSCA9NNhh"
      },
      "source": [
        "data_model= data_model[selected_Features_list]"
      ],
      "execution_count": 258,
      "outputs": []
    },
    {
      "cell_type": "code",
      "metadata": {
        "colab": {
          "base_uri": "https://localhost:8080/"
        },
        "id": "O-3WDZE0w0-Y",
        "outputId": "d8a10f18-051b-4c4d-dae2-c0dcb413434d"
      },
      "source": [
        "data_model.shape"
      ],
      "execution_count": 259,
      "outputs": [
        {
          "output_type": "execute_result",
          "data": {
            "text/plain": [
              "(1977, 201)"
            ]
          },
          "metadata": {
            "tags": []
          },
          "execution_count": 259
        }
      ]
    },
    {
      "cell_type": "code",
      "metadata": {
        "colab": {
          "base_uri": "https://localhost:8080/"
        },
        "id": "v0Pjn97E2a7P",
        "outputId": "818beafe-4d09-4ab7-c2bc-7355baa04d03"
      },
      "source": [
        "data_model['label'].value_counts()"
      ],
      "execution_count": 260,
      "outputs": [
        {
          "output_type": "execute_result",
          "data": {
            "text/plain": [
              "1    999\n",
              "0    978\n",
              "Name: label, dtype: int64"
            ]
          },
          "metadata": {
            "tags": []
          },
          "execution_count": 260
        }
      ]
    },
    {
      "cell_type": "code",
      "metadata": {
        "id": "zyuIs-Y36FH2"
      },
      "source": [
        "data_model.to_csv('New_df.csv', index= False)"
      ],
      "execution_count": 254,
      "outputs": []
    },
    {
      "cell_type": "code",
      "metadata": {
        "id": "6Ok1C2c-6FIF"
      },
      "source": [
        "!mv New_df.csv data/"
      ],
      "execution_count": 361,
      "outputs": []
    },
    {
      "cell_type": "markdown",
      "metadata": {
        "id": "DB2Vrxa3bvMD"
      },
      "source": [
        "# Step 5:  Building the classifier"
      ]
    },
    {
      "cell_type": "markdown",
      "metadata": {
        "id": "joDkLRpiAQ19"
      },
      "source": [
        "## Using lazy predict"
      ]
    },
    {
      "cell_type": "code",
      "metadata": {
        "id": "swvn6BE-xlKr"
      },
      "source": [
        "!pip install lazypredict"
      ],
      "execution_count": null,
      "outputs": []
    },
    {
      "cell_type": "code",
      "metadata": {
        "colab": {
          "base_uri": "https://localhost:8080/"
        },
        "id": "cu5JWv-PxOxy",
        "outputId": "02e193c7-2a8c-4e88-8065-5f7a3ec95bf0"
      },
      "source": [
        "all_inputs = data_model[data_model.columns[:-1]].values\n",
        "all_labels = data_model['label'].values\n",
        "all_inputs.shape"
      ],
      "execution_count": 261,
      "outputs": [
        {
          "output_type": "execute_result",
          "data": {
            "text/plain": [
              "(1977, 200)"
            ]
          },
          "metadata": {
            "tags": []
          },
          "execution_count": 261
        }
      ]
    },
    {
      "cell_type": "code",
      "metadata": {
        "colab": {
          "base_uri": "https://localhost:8080/",
          "height": 952
        },
        "id": "4KNGI2MoxxlI",
        "outputId": "88b4b340-021d-448c-84d4-804e9ab53080"
      },
      "source": [
        "import lazypredict \r\n",
        "from lazypredict.Supervised import LazyClassifier\r\n",
        "(X_train, X_test, y_train, y_test) = train_test_split(all_inputs, all_labels, test_size=0.1, random_state=1)\r\n",
        "# Feature Scaling\r\n",
        "from sklearn.preprocessing import StandardScaler\r\n",
        "sc = StandardScaler()\r\n",
        "X_train = sc.fit_transform(X_train)\r\n",
        "X_test = sc.transform(X_test)\r\n",
        "clf = LazyClassifier(verbose=0,ignore_warnings=True, custom_metric=None)\r\n",
        "models,predictions = clf.fit(X_train, X_test, y_train, y_test)\r\n",
        "models"
      ],
      "execution_count": 262,
      "outputs": [
        {
          "output_type": "stream",
          "text": [
            "100%|██████████| 30/30 [00:10<00:00,  2.87it/s]\n"
          ],
          "name": "stderr"
        },
        {
          "output_type": "execute_result",
          "data": {
            "text/html": [
              "<div>\n",
              "<style scoped>\n",
              "    .dataframe tbody tr th:only-of-type {\n",
              "        vertical-align: middle;\n",
              "    }\n",
              "\n",
              "    .dataframe tbody tr th {\n",
              "        vertical-align: top;\n",
              "    }\n",
              "\n",
              "    .dataframe thead th {\n",
              "        text-align: right;\n",
              "    }\n",
              "</style>\n",
              "<table border=\"1\" class=\"dataframe\">\n",
              "  <thead>\n",
              "    <tr style=\"text-align: right;\">\n",
              "      <th></th>\n",
              "      <th>Accuracy</th>\n",
              "      <th>Balanced Accuracy</th>\n",
              "      <th>ROC AUC</th>\n",
              "      <th>F1 Score</th>\n",
              "      <th>Time Taken</th>\n",
              "    </tr>\n",
              "    <tr>\n",
              "      <th>Model</th>\n",
              "      <th></th>\n",
              "      <th></th>\n",
              "      <th></th>\n",
              "      <th></th>\n",
              "      <th></th>\n",
              "    </tr>\n",
              "  </thead>\n",
              "  <tbody>\n",
              "    <tr>\n",
              "      <th>NearestCentroid</th>\n",
              "      <td>0.86</td>\n",
              "      <td>0.86</td>\n",
              "      <td>0.86</td>\n",
              "      <td>0.86</td>\n",
              "      <td>0.03</td>\n",
              "    </tr>\n",
              "    <tr>\n",
              "      <th>KNeighborsClassifier</th>\n",
              "      <td>0.85</td>\n",
              "      <td>0.85</td>\n",
              "      <td>0.85</td>\n",
              "      <td>0.85</td>\n",
              "      <td>0.17</td>\n",
              "    </tr>\n",
              "    <tr>\n",
              "      <th>BernoulliNB</th>\n",
              "      <td>0.85</td>\n",
              "      <td>0.85</td>\n",
              "      <td>0.85</td>\n",
              "      <td>0.85</td>\n",
              "      <td>0.03</td>\n",
              "    </tr>\n",
              "    <tr>\n",
              "      <th>LinearDiscriminantAnalysis</th>\n",
              "      <td>0.84</td>\n",
              "      <td>0.84</td>\n",
              "      <td>0.84</td>\n",
              "      <td>0.84</td>\n",
              "      <td>0.16</td>\n",
              "    </tr>\n",
              "    <tr>\n",
              "      <th>NuSVC</th>\n",
              "      <td>0.84</td>\n",
              "      <td>0.84</td>\n",
              "      <td>0.84</td>\n",
              "      <td>0.84</td>\n",
              "      <td>1.00</td>\n",
              "    </tr>\n",
              "    <tr>\n",
              "      <th>RidgeClassifierCV</th>\n",
              "      <td>0.84</td>\n",
              "      <td>0.84</td>\n",
              "      <td>0.84</td>\n",
              "      <td>0.84</td>\n",
              "      <td>0.12</td>\n",
              "    </tr>\n",
              "    <tr>\n",
              "      <th>RidgeClassifier</th>\n",
              "      <td>0.84</td>\n",
              "      <td>0.84</td>\n",
              "      <td>0.84</td>\n",
              "      <td>0.84</td>\n",
              "      <td>0.04</td>\n",
              "    </tr>\n",
              "    <tr>\n",
              "      <th>SVC</th>\n",
              "      <td>0.84</td>\n",
              "      <td>0.84</td>\n",
              "      <td>0.84</td>\n",
              "      <td>0.84</td>\n",
              "      <td>0.86</td>\n",
              "    </tr>\n",
              "    <tr>\n",
              "      <th>LinearSVC</th>\n",
              "      <td>0.84</td>\n",
              "      <td>0.84</td>\n",
              "      <td>0.84</td>\n",
              "      <td>0.84</td>\n",
              "      <td>0.77</td>\n",
              "    </tr>\n",
              "    <tr>\n",
              "      <th>CalibratedClassifierCV</th>\n",
              "      <td>0.84</td>\n",
              "      <td>0.84</td>\n",
              "      <td>0.84</td>\n",
              "      <td>0.84</td>\n",
              "      <td>3.00</td>\n",
              "    </tr>\n",
              "    <tr>\n",
              "      <th>LogisticRegression</th>\n",
              "      <td>0.84</td>\n",
              "      <td>0.84</td>\n",
              "      <td>0.84</td>\n",
              "      <td>0.84</td>\n",
              "      <td>0.08</td>\n",
              "    </tr>\n",
              "    <tr>\n",
              "      <th>SGDClassifier</th>\n",
              "      <td>0.83</td>\n",
              "      <td>0.82</td>\n",
              "      <td>0.82</td>\n",
              "      <td>0.83</td>\n",
              "      <td>0.12</td>\n",
              "    </tr>\n",
              "    <tr>\n",
              "      <th>RandomForestClassifier</th>\n",
              "      <td>0.82</td>\n",
              "      <td>0.82</td>\n",
              "      <td>0.82</td>\n",
              "      <td>0.82</td>\n",
              "      <td>0.70</td>\n",
              "    </tr>\n",
              "    <tr>\n",
              "      <th>Perceptron</th>\n",
              "      <td>0.82</td>\n",
              "      <td>0.82</td>\n",
              "      <td>0.82</td>\n",
              "      <td>0.82</td>\n",
              "      <td>0.05</td>\n",
              "    </tr>\n",
              "    <tr>\n",
              "      <th>BaggingClassifier</th>\n",
              "      <td>0.82</td>\n",
              "      <td>0.81</td>\n",
              "      <td>0.81</td>\n",
              "      <td>0.82</td>\n",
              "      <td>0.43</td>\n",
              "    </tr>\n",
              "    <tr>\n",
              "      <th>ExtraTreesClassifier</th>\n",
              "      <td>0.82</td>\n",
              "      <td>0.81</td>\n",
              "      <td>0.81</td>\n",
              "      <td>0.82</td>\n",
              "      <td>0.70</td>\n",
              "    </tr>\n",
              "    <tr>\n",
              "      <th>ExtraTreeClassifier</th>\n",
              "      <td>0.81</td>\n",
              "      <td>0.81</td>\n",
              "      <td>0.81</td>\n",
              "      <td>0.81</td>\n",
              "      <td>0.03</td>\n",
              "    </tr>\n",
              "    <tr>\n",
              "      <th>DecisionTreeClassifier</th>\n",
              "      <td>0.81</td>\n",
              "      <td>0.80</td>\n",
              "      <td>0.80</td>\n",
              "      <td>0.81</td>\n",
              "      <td>0.10</td>\n",
              "    </tr>\n",
              "    <tr>\n",
              "      <th>CategoricalNB</th>\n",
              "      <td>0.79</td>\n",
              "      <td>0.80</td>\n",
              "      <td>0.80</td>\n",
              "      <td>0.78</td>\n",
              "      <td>0.08</td>\n",
              "    </tr>\n",
              "    <tr>\n",
              "      <th>PassiveAggressiveClassifier</th>\n",
              "      <td>0.76</td>\n",
              "      <td>0.77</td>\n",
              "      <td>0.77</td>\n",
              "      <td>0.75</td>\n",
              "      <td>0.05</td>\n",
              "    </tr>\n",
              "    <tr>\n",
              "      <th>LabelSpreading</th>\n",
              "      <td>0.77</td>\n",
              "      <td>0.76</td>\n",
              "      <td>0.76</td>\n",
              "      <td>0.76</td>\n",
              "      <td>0.28</td>\n",
              "    </tr>\n",
              "    <tr>\n",
              "      <th>LabelPropagation</th>\n",
              "      <td>0.77</td>\n",
              "      <td>0.76</td>\n",
              "      <td>0.76</td>\n",
              "      <td>0.76</td>\n",
              "      <td>0.22</td>\n",
              "    </tr>\n",
              "    <tr>\n",
              "      <th>GaussianNB</th>\n",
              "      <td>0.75</td>\n",
              "      <td>0.76</td>\n",
              "      <td>0.76</td>\n",
              "      <td>0.74</td>\n",
              "      <td>0.03</td>\n",
              "    </tr>\n",
              "    <tr>\n",
              "      <th>QuadraticDiscriminantAnalysis</th>\n",
              "      <td>0.74</td>\n",
              "      <td>0.75</td>\n",
              "      <td>0.75</td>\n",
              "      <td>0.73</td>\n",
              "      <td>0.10</td>\n",
              "    </tr>\n",
              "    <tr>\n",
              "      <th>AdaBoostClassifier</th>\n",
              "      <td>0.76</td>\n",
              "      <td>0.75</td>\n",
              "      <td>0.75</td>\n",
              "      <td>0.75</td>\n",
              "      <td>0.29</td>\n",
              "    </tr>\n",
              "    <tr>\n",
              "      <th>XGBClassifier</th>\n",
              "      <td>0.76</td>\n",
              "      <td>0.75</td>\n",
              "      <td>0.75</td>\n",
              "      <td>0.75</td>\n",
              "      <td>0.81</td>\n",
              "    </tr>\n",
              "    <tr>\n",
              "      <th>LGBMClassifier</th>\n",
              "      <td>0.74</td>\n",
              "      <td>0.73</td>\n",
              "      <td>0.73</td>\n",
              "      <td>0.73</td>\n",
              "      <td>0.10</td>\n",
              "    </tr>\n",
              "    <tr>\n",
              "      <th>DummyClassifier</th>\n",
              "      <td>0.52</td>\n",
              "      <td>0.52</td>\n",
              "      <td>0.52</td>\n",
              "      <td>0.52</td>\n",
              "      <td>0.02</td>\n",
              "    </tr>\n",
              "    <tr>\n",
              "      <th>CheckingClassifier</th>\n",
              "      <td>0.53</td>\n",
              "      <td>0.50</td>\n",
              "      <td>0.50</td>\n",
              "      <td>0.37</td>\n",
              "      <td>0.03</td>\n",
              "    </tr>\n",
              "  </tbody>\n",
              "</table>\n",
              "</div>"
            ],
            "text/plain": [
              "                               Accuracy  ...  Time Taken\n",
              "Model                                    ...            \n",
              "NearestCentroid                    0.86  ...        0.03\n",
              "KNeighborsClassifier               0.85  ...        0.17\n",
              "BernoulliNB                        0.85  ...        0.03\n",
              "LinearDiscriminantAnalysis         0.84  ...        0.16\n",
              "NuSVC                              0.84  ...        1.00\n",
              "RidgeClassifierCV                  0.84  ...        0.12\n",
              "RidgeClassifier                    0.84  ...        0.04\n",
              "SVC                                0.84  ...        0.86\n",
              "LinearSVC                          0.84  ...        0.77\n",
              "CalibratedClassifierCV             0.84  ...        3.00\n",
              "LogisticRegression                 0.84  ...        0.08\n",
              "SGDClassifier                      0.83  ...        0.12\n",
              "RandomForestClassifier             0.82  ...        0.70\n",
              "Perceptron                         0.82  ...        0.05\n",
              "BaggingClassifier                  0.82  ...        0.43\n",
              "ExtraTreesClassifier               0.82  ...        0.70\n",
              "ExtraTreeClassifier                0.81  ...        0.03\n",
              "DecisionTreeClassifier             0.81  ...        0.10\n",
              "CategoricalNB                      0.79  ...        0.08\n",
              "PassiveAggressiveClassifier        0.76  ...        0.05\n",
              "LabelSpreading                     0.77  ...        0.28\n",
              "LabelPropagation                   0.77  ...        0.22\n",
              "GaussianNB                         0.75  ...        0.03\n",
              "QuadraticDiscriminantAnalysis      0.74  ...        0.10\n",
              "AdaBoostClassifier                 0.76  ...        0.29\n",
              "XGBClassifier                      0.76  ...        0.81\n",
              "LGBMClassifier                     0.74  ...        0.10\n",
              "DummyClassifier                    0.52  ...        0.02\n",
              "CheckingClassifier                 0.53  ...        0.03\n",
              "\n",
              "[29 rows x 5 columns]"
            ]
          },
          "metadata": {
            "tags": []
          },
          "execution_count": 262
        }
      ]
    },
    {
      "cell_type": "code",
      "metadata": {
        "colab": {
          "base_uri": "https://localhost:8080/"
        },
        "id": "nbBDqh-Dy4t1",
        "outputId": "3a09926f-6ca4-42e9-9b56-20f492715368"
      },
      "source": [
        "models.loc['NearestCentroid']"
      ],
      "execution_count": 559,
      "outputs": [
        {
          "output_type": "execute_result",
          "data": {
            "text/plain": [
              "Accuracy            0.87\n",
              "Balanced Accuracy   0.87\n",
              "ROC AUC             0.87\n",
              "F1 Score            0.87\n",
              "Time Taken          0.05\n",
              "Name: NearestCentroid, dtype: float64"
            ]
          },
          "metadata": {
            "tags": []
          },
          "execution_count": 559
        }
      ]
    },
    {
      "cell_type": "code",
      "metadata": {
        "id": "yH9sq0bIr-pj"
      },
      "source": [
        "from sklearn.neighbors import NearestCentroid"
      ],
      "execution_count": 544,
      "outputs": []
    },
    {
      "cell_type": "code",
      "metadata": {
        "colab": {
          "base_uri": "https://localhost:8080/"
        },
        "id": "p0gjR8ztsPo7",
        "outputId": "a55e6980-14aa-4d67-fee1-914381d417e0"
      },
      "source": [
        "(X_train, X_test, y_train, y_test) = train_test_split(all_inputs, all_labels, test_size=0.1, random_state=1)\n",
        "# Feature Scaling\n",
        "from sklearn.preprocessing import StandardScaler\n",
        "sc = StandardScaler()\n",
        "X_train = sc.fit_transform(X_train)\n",
        "X_test = sc.transform(X_test)\n",
        " \n",
        "cls = NearestCentroid()\n",
        "cls.fit(X_train,y_train)\n",
        "y_pred = cls.predict(X_test)\n",
        "print(\"------- Accuracy --------\\n\")\n",
        "print(accuracy_score(y_test,y_pred))\n",
        "print('--------------------------------------------------------')\n",
        "print(\"------- Confusion Matrix --------\\n\")\n",
        "print(confusion_matrix(y_test,y_pred))\n",
        "print(\"------- Classifcation Report-------- \\n\")\n",
        "print(classification_report(y_test,y_pred))\n",
        "print('--------------------------------------------------------')"
      ],
      "execution_count": 263,
      "outputs": [
        {
          "output_type": "stream",
          "text": [
            "------- Accuracy --------\n",
            "\n",
            "0.8636363636363636\n",
            "--------------------------------------------------------\n",
            "------- Confusion Matrix --------\n",
            "\n",
            "[[97  8]\n",
            " [19 74]]\n",
            "------- Classifcation Report-------- \n",
            "\n",
            "              precision    recall  f1-score   support\n",
            "\n",
            "           0       0.84      0.92      0.88       105\n",
            "           1       0.90      0.80      0.85        93\n",
            "\n",
            "    accuracy                           0.86       198\n",
            "   macro avg       0.87      0.86      0.86       198\n",
            "weighted avg       0.87      0.86      0.86       198\n",
            "\n",
            "--------------------------------------------------------\n"
          ],
          "name": "stdout"
        }
      ]
    },
    {
      "cell_type": "markdown",
      "metadata": {
        "id": "oLtbJQKZYpJa"
      },
      "source": [
        "# Hyperparameter Optimization"
      ]
    },
    {
      "cell_type": "markdown",
      "metadata": {
        "id": "FxsIh9EBPStJ"
      },
      "source": [
        "## **1.** LR Tuning Using Random Search"
      ]
    },
    {
      "cell_type": "code",
      "metadata": {
        "id": "yB33OWodHttV",
        "colab": {
          "base_uri": "https://localhost:8080/"
        },
        "outputId": "d97a604b-087c-4b5f-98c0-d1069f6a7087"
      },
      "source": [
        "(X_train, X_test, y_train, y_test) = train_test_split(all_inputs, all_labels, test_size=0.1, random_state=1)\n",
        "# Feature Scaling\n",
        "from sklearn.preprocessing import StandardScaler\n",
        "sc = StandardScaler()\n",
        "X_train = sc.fit_transform(X_train)\n",
        "X_test = sc.transform(X_test)\n",
        " \n",
        "cls = LogisticRegression()\n",
        "cls.fit(X_train,y_train)\n",
        "y_pred = cls.predict(X_test)\n",
        "print(\"------- Accuracy --------\\n\")\n",
        "print(accuracy_score(y_test,y_pred))\n",
        "print('--------------------------------------------------------')\n",
        "print(\"------- Confusion Matrix --------\\n\")\n",
        "print(confusion_matrix(y_test,y_pred))\n",
        "print(\"------- Classifcation Report-------- \\n\")\n",
        "print(classification_report(y_test,y_pred))\n",
        "print('--------------------------------------------------------')"
      ],
      "execution_count": 264,
      "outputs": [
        {
          "output_type": "stream",
          "text": [
            "------- Accuracy --------\n",
            "\n",
            "0.8434343434343434\n",
            "--------------------------------------------------------\n",
            "------- Confusion Matrix --------\n",
            "\n",
            "[[96  9]\n",
            " [22 71]]\n",
            "------- Classifcation Report-------- \n",
            "\n",
            "              precision    recall  f1-score   support\n",
            "\n",
            "           0       0.81      0.91      0.86       105\n",
            "           1       0.89      0.76      0.82        93\n",
            "\n",
            "    accuracy                           0.84       198\n",
            "   macro avg       0.85      0.84      0.84       198\n",
            "weighted avg       0.85      0.84      0.84       198\n",
            "\n",
            "--------------------------------------------------------\n"
          ],
          "name": "stdout"
        }
      ]
    },
    {
      "cell_type": "code",
      "metadata": {
        "colab": {
          "base_uri": "https://localhost:8080/"
        },
        "id": "TqMQsp0oOI4B",
        "outputId": "f8624592-f377-4eec-ff87-9d0ab1078409"
      },
      "source": [
        "from scipy.stats import loguniform\r\n",
        "from sklearn.model_selection import RepeatedStratifiedKFold\r\n",
        "from sklearn.model_selection import RandomizedSearchCV\r\n",
        "\r\n",
        "model = LogisticRegression()\r\n",
        "# define evaluation\r\n",
        "cv = RepeatedStratifiedKFold(n_splits=10, n_repeats=3, random_state=1)\r\n",
        "# define search space\r\n",
        "space = dict()\r\n",
        "space['solver'] = ['newton-cg', 'lbfgs', 'liblinear']\r\n",
        "space['penalty'] = ['none', 'l1', 'l2', 'elasticnet']\r\n",
        "space['C'] = loguniform(1e-5, 100)\r\n",
        "# define search\r\n",
        "search = RandomizedSearchCV(model, space, n_iter=500, scoring='accuracy', n_jobs=-1, cv=cv, random_state=1)\r\n",
        "# execute search\r\n",
        "result = search.fit(all_inputs, all_labels)\r\n",
        "# summarize result\r\n",
        "print('Best Score: %s' % result.best_score_)\r\n",
        "print('Best Hyperparameters: %s' % result.best_params_)"
      ],
      "execution_count": 265,
      "outputs": [
        {
          "output_type": "stream",
          "text": [
            "Best Score: 0.8492582337760002\n",
            "Best Hyperparameters: {'C': 14.028057068813272, 'penalty': 'l2', 'solver': 'liblinear'}\n"
          ],
          "name": "stdout"
        }
      ]
    },
    {
      "cell_type": "code",
      "metadata": {
        "colab": {
          "base_uri": "https://localhost:8080/"
        },
        "id": "ubswiNCqXm6X",
        "outputId": "a17c0231-1479-40b2-8495-8058a899e1f6"
      },
      "source": [
        "(X_train, X_test, y_train, y_test) = train_test_split(all_inputs, all_labels, test_size=0.1, random_state=1)\r\n",
        "# Feature Scaling\r\n",
        "from sklearn.preprocessing import StandardScaler\r\n",
        "sc = StandardScaler()\r\n",
        "X_train = sc.fit_transform(X_train)\r\n",
        "X_test = sc.transform(X_test)\r\n",
        " \r\n",
        "cls = LogisticRegression(C= 14.028057068813272, penalty= 'l2', solver= 'liblinear')\r\n",
        "cls.fit(X_train,y_train)\r\n",
        "y_pred = cls.predict(X_test)\r\n",
        "print(\"------- Accuracy --------\\n\")\r\n",
        "print(accuracy_score(y_test,y_pred))\r\n",
        "print('--------------------------------------------------------')\r\n",
        "print(\"------- Confusion Matrix --------\\n\")\r\n",
        "print(confusion_matrix(y_test,y_pred))\r\n",
        "print(\"------- Classifcation Report-------- \\n\")\r\n",
        "print(classification_report(y_test,y_pred))\r\n",
        "print('--------------------------------------------------------')"
      ],
      "execution_count": 267,
      "outputs": [
        {
          "output_type": "stream",
          "text": [
            "------- Accuracy --------\n",
            "\n",
            "0.8484848484848485\n",
            "--------------------------------------------------------\n",
            "------- Confusion Matrix --------\n",
            "\n",
            "[[96  9]\n",
            " [21 72]]\n",
            "------- Classifcation Report-------- \n",
            "\n",
            "              precision    recall  f1-score   support\n",
            "\n",
            "           0       0.82      0.91      0.86       105\n",
            "           1       0.89      0.77      0.83        93\n",
            "\n",
            "    accuracy                           0.85       198\n",
            "   macro avg       0.85      0.84      0.85       198\n",
            "weighted avg       0.85      0.85      0.85       198\n",
            "\n",
            "--------------------------------------------------------\n"
          ],
          "name": "stdout"
        }
      ]
    },
    {
      "cell_type": "markdown",
      "metadata": {
        "id": "LSGOyzswyU3N"
      },
      "source": [
        "# Using Neural Networks"
      ]
    },
    {
      "cell_type": "code",
      "metadata": {
        "id": "jJav0-1WzjBL"
      },
      "source": [
        "from sklearn.model_selection import train_test_split, cross_val_score\r\n",
        "from sklearn.ensemble import RandomForestClassifier\r\n",
        "from sklearn.preprocessing import scale\r\n",
        "import keras.backend as K\r\n",
        "from keras.models import Sequential\r\n",
        "from keras.layers import Dense, Activation\r\n",
        "from keras.optimizers import SGD"
      ],
      "execution_count": 425,
      "outputs": []
    },
    {
      "cell_type": "code",
      "metadata": {
        "collapsed": true,
        "id": "DEbyeC4Vx9x4",
        "colab": {
          "base_uri": "https://localhost:8080/"
        },
        "outputId": "e796ea43-1580-4cbb-947e-f4e083075792"
      },
      "source": [
        "Xn = scale(bow.drop('label', axis=1).values)\n",
        "yn = bow['label'].values\n",
        "Xn.shape"
      ],
      "execution_count": 386,
      "outputs": [
        {
          "output_type": "execute_result",
          "data": {
            "text/plain": [
              "(1977, 210)"
            ]
          },
          "metadata": {
            "tags": []
          },
          "execution_count": 386
        }
      ]
    },
    {
      "cell_type": "code",
      "metadata": {
        "id": "Ujktqunh0AU5"
      },
      "source": [
        "Xn_train, Xn_test, yn_train, yn_test = train_test_split(Xn, yn,\r\n",
        "                                                    test_size=0.2,\r\n",
        "                                                    random_state=42)"
      ],
      "execution_count": 387,
      "outputs": []
    },
    {
      "cell_type": "markdown",
      "metadata": {
        "id": "lEUIoEQ_3Ud0"
      },
      "source": [
        "## Logistic Regression Model"
      ]
    },
    {
      "cell_type": "code",
      "metadata": {
        "colab": {
          "base_uri": "https://localhost:8080/"
        },
        "id": "9olSrZMhFD-0",
        "outputId": "2c4a0db3-2485-472b-dab3-0fe3bdee91b6"
      },
      "source": [
        "K.clear_session()\r\n",
        "\r\n",
        "model = Sequential()\r\n",
        "model.add(Dense(1, input_shape=(210,), activation='sigmoid'))\r\n",
        "\r\n",
        "model.compile(loss='binary_crossentropy',\r\n",
        "              optimizer='sgd',\r\n",
        "              metrics=['accuracy'])\r\n",
        "\r\n",
        "history = model.fit(Xn_train, yn_train,epochs=50)\r\n",
        "result = model.evaluate(Xn_test, yn_test)"
      ],
      "execution_count": 461,
      "outputs": [
        {
          "output_type": "stream",
          "text": [
            "Epoch 1/50\n",
            "50/50 [==============================] - 0s 966us/step - loss: 0.8028 - accuracy: 0.5966\n",
            "Epoch 2/50\n",
            "50/50 [==============================] - 0s 1ms/step - loss: 0.6848 - accuracy: 0.6561\n",
            "Epoch 3/50\n",
            "50/50 [==============================] - 0s 1ms/step - loss: 0.6034 - accuracy: 0.6893\n",
            "Epoch 4/50\n",
            "50/50 [==============================] - 0s 1ms/step - loss: 0.5441 - accuracy: 0.7455\n",
            "Epoch 5/50\n",
            "50/50 [==============================] - 0s 1ms/step - loss: 0.5067 - accuracy: 0.7558\n",
            "Epoch 6/50\n",
            "50/50 [==============================] - 0s 1ms/step - loss: 0.4741 - accuracy: 0.7956\n",
            "Epoch 7/50\n",
            "50/50 [==============================] - 0s 1ms/step - loss: 0.4358 - accuracy: 0.8178\n",
            "Epoch 8/50\n",
            "50/50 [==============================] - 0s 1ms/step - loss: 0.4264 - accuracy: 0.8238\n",
            "Epoch 9/50\n",
            "50/50 [==============================] - 0s 1ms/step - loss: 0.4160 - accuracy: 0.8202\n",
            "Epoch 10/50\n",
            "50/50 [==============================] - 0s 1ms/step - loss: 0.3952 - accuracy: 0.8432\n",
            "Epoch 11/50\n",
            "50/50 [==============================] - 0s 1ms/step - loss: 0.3744 - accuracy: 0.8434\n",
            "Epoch 12/50\n",
            "50/50 [==============================] - 0s 1ms/step - loss: 0.3766 - accuracy: 0.8391\n",
            "Epoch 13/50\n",
            "50/50 [==============================] - 0s 1ms/step - loss: 0.3607 - accuracy: 0.8540\n",
            "Epoch 14/50\n",
            "50/50 [==============================] - 0s 1ms/step - loss: 0.3425 - accuracy: 0.8685\n",
            "Epoch 15/50\n",
            "50/50 [==============================] - 0s 1ms/step - loss: 0.3492 - accuracy: 0.8593\n",
            "Epoch 16/50\n",
            "50/50 [==============================] - 0s 1ms/step - loss: 0.3418 - accuracy: 0.8673\n",
            "Epoch 17/50\n",
            "50/50 [==============================] - 0s 1ms/step - loss: 0.3473 - accuracy: 0.8506\n",
            "Epoch 18/50\n",
            "50/50 [==============================] - 0s 1ms/step - loss: 0.3363 - accuracy: 0.8591\n",
            "Epoch 19/50\n",
            "50/50 [==============================] - 0s 1ms/step - loss: 0.3394 - accuracy: 0.8533\n",
            "Epoch 20/50\n",
            "50/50 [==============================] - 0s 1ms/step - loss: 0.3239 - accuracy: 0.8713\n",
            "Epoch 21/50\n",
            "50/50 [==============================] - 0s 1ms/step - loss: 0.3324 - accuracy: 0.8514\n",
            "Epoch 22/50\n",
            "50/50 [==============================] - 0s 1ms/step - loss: 0.3225 - accuracy: 0.8520\n",
            "Epoch 23/50\n",
            "50/50 [==============================] - 0s 1ms/step - loss: 0.3130 - accuracy: 0.8660\n",
            "Epoch 24/50\n",
            "50/50 [==============================] - 0s 1000us/step - loss: 0.3092 - accuracy: 0.8705\n",
            "Epoch 25/50\n",
            "50/50 [==============================] - 0s 1ms/step - loss: 0.3011 - accuracy: 0.8727\n",
            "Epoch 26/50\n",
            "50/50 [==============================] - 0s 1ms/step - loss: 0.2968 - accuracy: 0.8716\n",
            "Epoch 27/50\n",
            "50/50 [==============================] - 0s 1ms/step - loss: 0.3032 - accuracy: 0.8701\n",
            "Epoch 28/50\n",
            "50/50 [==============================] - 0s 1ms/step - loss: 0.3010 - accuracy: 0.8619\n",
            "Epoch 29/50\n",
            "50/50 [==============================] - 0s 1ms/step - loss: 0.3045 - accuracy: 0.8657\n",
            "Epoch 30/50\n",
            "50/50 [==============================] - 0s 1ms/step - loss: 0.3142 - accuracy: 0.8603\n",
            "Epoch 31/50\n",
            "50/50 [==============================] - 0s 1ms/step - loss: 0.3055 - accuracy: 0.8744\n",
            "Epoch 32/50\n",
            "50/50 [==============================] - 0s 1ms/step - loss: 0.2919 - accuracy: 0.8704\n",
            "Epoch 33/50\n",
            "50/50 [==============================] - 0s 1ms/step - loss: 0.2941 - accuracy: 0.8717\n",
            "Epoch 34/50\n",
            "50/50 [==============================] - 0s 1ms/step - loss: 0.2863 - accuracy: 0.8686\n",
            "Epoch 35/50\n",
            "50/50 [==============================] - 0s 1ms/step - loss: 0.3104 - accuracy: 0.8546\n",
            "Epoch 36/50\n",
            "50/50 [==============================] - 0s 1ms/step - loss: 0.2955 - accuracy: 0.8622\n",
            "Epoch 37/50\n",
            "50/50 [==============================] - 0s 1ms/step - loss: 0.3015 - accuracy: 0.8700\n",
            "Epoch 38/50\n",
            "50/50 [==============================] - 0s 1ms/step - loss: 0.3124 - accuracy: 0.8578\n",
            "Epoch 39/50\n",
            "50/50 [==============================] - 0s 1ms/step - loss: 0.3149 - accuracy: 0.8453\n",
            "Epoch 40/50\n",
            "50/50 [==============================] - 0s 1ms/step - loss: 0.2983 - accuracy: 0.8663\n",
            "Epoch 41/50\n",
            "50/50 [==============================] - 0s 1ms/step - loss: 0.3069 - accuracy: 0.8637\n",
            "Epoch 42/50\n",
            "50/50 [==============================] - 0s 1ms/step - loss: 0.2883 - accuracy: 0.8733\n",
            "Epoch 43/50\n",
            "50/50 [==============================] - 0s 1ms/step - loss: 0.3001 - accuracy: 0.8595\n",
            "Epoch 44/50\n",
            "50/50 [==============================] - 0s 1ms/step - loss: 0.2998 - accuracy: 0.8549\n",
            "Epoch 45/50\n",
            "50/50 [==============================] - 0s 1ms/step - loss: 0.2849 - accuracy: 0.8630\n",
            "Epoch 46/50\n",
            "50/50 [==============================] - 0s 1ms/step - loss: 0.2861 - accuracy: 0.8661\n",
            "Epoch 47/50\n",
            "50/50 [==============================] - 0s 1ms/step - loss: 0.2869 - accuracy: 0.8707\n",
            "Epoch 48/50\n",
            "50/50 [==============================] - 0s 1ms/step - loss: 0.2897 - accuracy: 0.8683\n",
            "Epoch 49/50\n",
            "50/50 [==============================] - 0s 1ms/step - loss: 0.2896 - accuracy: 0.8606\n",
            "Epoch 50/50\n",
            "50/50 [==============================] - 0s 1ms/step - loss: 0.2849 - accuracy: 0.8643\n",
            "13/13 [==============================] - 0s 1ms/step - loss: 0.3088 - accuracy: 0.8763\n"
          ],
          "name": "stdout"
        }
      ]
    },
    {
      "cell_type": "code",
      "metadata": {
        "collapsed": true,
        "id": "BihnU5tXx9x7"
      },
      "source": [
        "historydf = pd.DataFrame(history.history, index=history.epoch)"
      ],
      "execution_count": 462,
      "outputs": []
    },
    {
      "cell_type": "code",
      "metadata": {
        "id": "gQSKZGK8x9x7",
        "colab": {
          "base_uri": "https://localhost:8080/",
          "height": 300
        },
        "outputId": "8564c848-e3db-49d5-cfff-dcbb07da6c8e"
      },
      "source": [
        "historydf.plot(ylim=(0,1))\n",
        "plt.title(\"Test accuracy: {:3.1f} %\".format(result[1]*100), fontsize=15)"
      ],
      "execution_count": 463,
      "outputs": [
        {
          "output_type": "execute_result",
          "data": {
            "text/plain": [
              "Text(0.5, 1.0, 'Test accuracy: 87.6 %')"
            ]
          },
          "metadata": {
            "tags": []
          },
          "execution_count": 463
        },
        {
          "output_type": "display_data",
          "data": {
            "image/png": "[encoded data removed]",
            "text/plain": [
              "<Figure size 432x288 with 1 Axes>"
            ]
          },
          "metadata": {
            "tags": [],
            "needs_background": "light"
          }
        }
      ]
    },
    {
      "cell_type": "markdown",
      "metadata": {
        "id": "eLR141gxJHay"
      },
      "source": [
        "## Learning Rates"
      ]
    },
    {
      "cell_type": "code",
      "metadata": {
        "collapsed": true,
        "id": "fXlhMGYxx9x7"
      },
      "source": [
        "dflist = []\n",
        "\n",
        "learning_rates = [0.001,0.01, 0.05, 0.1, 0.5]\n",
        "\n",
        "for lr in learning_rates:\n",
        "\n",
        "    K.clear_session()\n",
        "\n",
        "    model = Sequential()\n",
        "    model.add(Dense(1, input_shape=(210,), activation='sigmoid'))\n",
        "    model.compile(loss='binary_crossentropy',\n",
        "                  optimizer=SGD(lr=lr),\n",
        "                  metrics=['accuracy'])\n",
        "    h = model.fit(X_train, y_train, batch_size=16, verbose=0,epochs=50)\n",
        "    \n",
        "    dflist.append(pd.DataFrame(h.history, index=h.epoch))"
      ],
      "execution_count": 432,
      "outputs": []
    },
    {
      "cell_type": "code",
      "metadata": {
        "collapsed": true,
        "id": "BRhGRH25x9x8"
      },
      "source": [
        "historydf = pd.concat(dflist, axis=1)"
      ],
      "execution_count": 433,
      "outputs": []
    },
    {
      "cell_type": "code",
      "metadata": {
        "collapsed": true,
        "id": "y_TW5FeVx9x8"
      },
      "source": [
        "metrics_reported = dflist[0].columns\n",
        "idx = pd.MultiIndex.from_product([learning_rates, metrics_reported],\n",
        "                                 names=['learning_rate', 'metric'])\n",
        "\n",
        "historydf.columns = idx"
      ],
      "execution_count": 434,
      "outputs": []
    },
    {
      "cell_type": "code",
      "metadata": {
        "id": "LG5zKqA3x9x9",
        "colab": {
          "base_uri": "https://localhost:8080/",
          "height": 297
        },
        "outputId": "7a3783cb-11a2-41d0-d747-666f522f2b0d"
      },
      "source": [
        "ax = plt.subplot(211)\n",
        "historydf.xs('loss', axis=1, level='metric').plot(ax=ax)\n",
        "plt.legend(bbox_to_anchor=(1.05, 1), loc=2, borderaxespad=0.)\n",
        "plt.title(\"Loss\")\n",
        "\n",
        "\n",
        "ax = plt.subplot(212)\n",
        "historydf.xs('accuracy', axis=1, level='metric').plot(ax=ax)\n",
        "plt.legend(bbox_to_anchor=(1.05, 1), loc=2, borderaxespad=0.)\n",
        "plt.title(\"Accuracy\")\n",
        "plt.xlabel(\"Epochs\")\n",
        "\n",
        "plt.tight_layout()"
      ],
      "execution_count": 435,
      "outputs": [
        {
          "output_type": "display_data",
          "data": {
            "image/png": "[encoded data removed]",
            "text/plain": [
              "<Figure size 432x288 with 2 Axes>"
            ]
          },
          "metadata": {
            "tags": [],
            "needs_background": "light"
          }
        }
      ]
    },
    {
      "cell_type": "code",
      "metadata": {
        "colab": {
          "base_uri": "https://localhost:8080/"
        },
        "id": "rVU0cBgRg2V9",
        "outputId": "ec40e3e3-712c-4d87-ac1c-44ecacd23298"
      },
      "source": [
        "historydf.xs('accuracy', axis=1, level='metric').max()"
      ],
      "execution_count": 436,
      "outputs": [
        {
          "output_type": "execute_result",
          "data": {
            "text/plain": [
              "learning_rate\n",
              "0.001    0.856099\n",
              "0.010    0.871838\n",
              "0.050    0.871838\n",
              "0.100    0.870152\n",
              "0.500    0.861158\n",
              "dtype: float64"
            ]
          },
          "metadata": {
            "tags": []
          },
          "execution_count": 436
        }
      ]
    },
    {
      "cell_type": "markdown",
      "metadata": {
        "id": "hqvZSmejJjtv"
      },
      "source": [
        "## Batch Sizes"
      ]
    },
    {
      "cell_type": "code",
      "metadata": {
        "collapsed": true,
        "id": "vF_U9SiYx9x9"
      },
      "source": [
        "dflist = []\n",
        "\n",
        "batch_sizes = [5*10**6,5*10**7,5*10**6]\n",
        "\n",
        "for batch_size in batch_sizes:\n",
        "    K.clear_session()\n",
        "\n",
        "    model = Sequential()\n",
        "    model.add(Dense(1, input_shape=(210,), activation='sigmoid'))\n",
        "    model.compile(loss='binary_crossentropy',\n",
        "                  optimizer=SGD(learning_rate=.05),\n",
        "                  metrics=['accuracy'])\n",
        "    h = model.fit(Xn_train, yn_train, batch_size=batch_size, verbose=0,epochs=350)\n",
        "    \n",
        "    dflist.append(pd.DataFrame(h.history, index=h.epoch))"
      ],
      "execution_count": 495,
      "outputs": []
    },
    {
      "cell_type": "code",
      "metadata": {
        "collapsed": true,
        "id": "81SZft0dx9x9"
      },
      "source": [
        "historydf = pd.concat(dflist, axis=1)\n",
        "metrics_reported = dflist[0].columns\n",
        "idx = pd.MultiIndex.from_product([batch_sizes, metrics_reported],\n",
        "                                 names=['batch_size', 'metric'])\n",
        "historydf.columns = idx"
      ],
      "execution_count": 496,
      "outputs": []
    },
    {
      "cell_type": "code",
      "metadata": {
        "id": "tF1ikgWyx9x-",
        "colab": {
          "base_uri": "https://localhost:8080/",
          "height": 513
        },
        "outputId": "c8b29200-4654-41d3-84cc-9317f8101920"
      },
      "source": [
        "plt.figure(figsize=(10,7))\n",
        "ax = plt.subplot(211)\n",
        "historydf.xs('loss', axis=1, level='metric').plot(ax=ax)\n",
        "plt.title(\"Loss\")\n",
        "plt.legend(bbox_to_anchor=(1.05, 1), loc=2, borderaxespad=0.)\n",
        "\n",
        "ax = plt.subplot(212)\n",
        "historydf.xs('accuracy', axis=1, level='metric').plot(ax=ax)\n",
        "plt.title(\"Accuracy\")\n",
        "plt.xlabel(\"Epochs\")\n",
        "plt.legend(bbox_to_anchor=(1.05, 1), loc=2, borderaxespad=0.)\n",
        "\n",
        "plt.tight_layout()"
      ],
      "execution_count": 499,
      "outputs": [
        {
          "output_type": "display_data",
          "data": {
            "image/png": "[encoded data removed]",
            "text/plain": [
              "<Figure size 720x504 with 2 Axes>"
            ]
          },
          "metadata": {
            "tags": [],
            "needs_background": "light"
          }
        }
      ]
    },
    {
      "cell_type": "code",
      "metadata": {
        "colab": {
          "base_uri": "https://localhost:8080/"
        },
        "id": "xE0YgqvoT5i3",
        "outputId": "dcc7b990-0b6f-410e-8ade-fdea8e97209d"
      },
      "source": [
        "historydf.xs('accuracy', axis=1, level='metric').max()"
      ],
      "execution_count": 500,
      "outputs": [
        {
          "output_type": "execute_result",
          "data": {
            "text/plain": [
              "batch_size\n",
              "5000000     0.865275\n",
              "50000000    0.866540\n",
              "5000000     0.865275\n",
              "dtype: float64"
            ]
          },
          "metadata": {
            "tags": []
          },
          "execution_count": 500
        }
      ]
    },
    {
      "cell_type": "markdown",
      "metadata": {
        "id": "9pToLkhex9x-"
      },
      "source": [
        "## Optimizers"
      ]
    },
    {
      "cell_type": "code",
      "metadata": {
        "collapsed": true,
        "id": "Y9POeG-zx9x-"
      },
      "source": [
        "from keras.optimizers import SGD, Adam, Adagrad, RMSprop, Adamax"
      ],
      "execution_count": 505,
      "outputs": []
    },
    {
      "cell_type": "code",
      "metadata": {
        "collapsed": true,
        "id": "hrMX2v0Ux9x-"
      },
      "source": [
        "dflist = []\n",
        "\n",
        "optimizers = ['SGD(lr=0.5)',\n",
        "              'SGD(lr=0.05, momentum=0.3)',\n",
        "              'SGD(lr=0.01, momentum=0.3, nesterov=True)',  \n",
        "              'Adam(lr=0.05)',\n",
        "              'Adagrad(lr=0.05)',\n",
        "              'Adamax(lr=0.05)',\n",
        "              'RMSprop(lr=0.05)']\n",
        "\n",
        "for opt_name in optimizers:\n",
        "\n",
        "    K.clear_session()\n",
        "    \n",
        "    model = Sequential()\n",
        "    model.add(Dense(1, input_shape=(210,), activation='sigmoid'))\n",
        "    model.compile(loss='binary_crossentropy',\n",
        "                  optimizer=eval(opt_name),\n",
        "                  metrics=['accuracy'])\n",
        "    h = model.fit(Xn_train, yn_train, batch_size=5*10**6, epochs=50, verbose=0)\n",
        "    \n",
        "    dflist.append(pd.DataFrame(h.history, index=h.epoch))"
      ],
      "execution_count": 506,
      "outputs": []
    },
    {
      "cell_type": "code",
      "metadata": {
        "collapsed": true,
        "id": "rTyIdn5tx9x_"
      },
      "source": [
        "historydf = pd.concat(dflist, axis=1)\n",
        "metrics_reported = dflist[0].columns\n",
        "idx = pd.MultiIndex.from_product([optimizers, metrics_reported],\n",
        "                                 names=['optimizers', 'metric'])\n",
        "historydf.columns = idx"
      ],
      "execution_count": 507,
      "outputs": []
    },
    {
      "cell_type": "code",
      "metadata": {
        "id": "rgDJF0xAx9x_",
        "colab": {
          "base_uri": "https://localhost:8080/",
          "height": 369
        },
        "outputId": "3f1071ee-0d6d-4df6-ebc6-19583a6545e0"
      },
      "source": [
        "import matplotlib as mpl\n",
        "mpl.rc('figure', figsize=(10, 5))\n",
        "\n",
        "ax = plt.subplot(211)\n",
        "historydf.xs('loss', axis=1, level='metric').plot(ylim=(0,1), ax=ax)\n",
        "plt.title(\"Loss\")\n",
        "plt.legend(bbox_to_anchor=(1.05, 1), loc=2, borderaxespad=0.)\n",
        "\n",
        "\n",
        "ax = plt.subplot(212)\n",
        "historydf.xs('accuracy', axis=1, level='metric').plot(ylim=(0,1), ax=ax)\n",
        "plt.title(\"Accuracy\")\n",
        "plt.xlabel(\"Epochs\")\n",
        "plt.legend(bbox_to_anchor=(1.05, 1), loc=2, borderaxespad=0.)\n",
        "\n",
        "plt.tight_layout()"
      ],
      "execution_count": 508,
      "outputs": [
        {
          "output_type": "display_data",
          "data": {
            "image/png": "[encoded data removed]",
            "text/plain": [
              "<Figure size 720x360 with 2 Axes>"
            ]
          },
          "metadata": {
            "tags": [],
            "needs_background": "light"
          }
        }
      ]
    },
    {
      "cell_type": "code",
      "metadata": {
        "colab": {
          "base_uri": "https://localhost:8080/"
        },
        "id": "zEkpRqLoXhj9",
        "outputId": "60c68da3-ff8e-471b-a745-4b722b95d277"
      },
      "source": [
        "historydf.xs('accuracy', axis=1, level='metric').max()"
      ],
      "execution_count": 509,
      "outputs": [
        {
          "output_type": "execute_result",
          "data": {
            "text/plain": [
              "optimizers\n",
              "SGD(lr=0.5)                                  0.867173\n",
              "SGD(lr=0.05, momentum=0.3)                   0.801392\n",
              "SGD(lr=0.01, momentum=0.3, nesterov=True)    0.633144\n",
              "Adam(lr=0.05)                                0.870335\n",
              "Adagrad(lr=0.05)                             0.855787\n",
              "Adamax(lr=0.05)                              0.870335\n",
              "RMSprop(lr=0.05)                             0.869703\n",
              "dtype: float64"
            ]
          },
          "metadata": {
            "tags": []
          },
          "execution_count": 509
        }
      ]
    },
    {
      "cell_type": "markdown",
      "metadata": {
        "id": "uE08vnFhx9x_"
      },
      "source": [
        "## Initialization"
      ]
    },
    {
      "cell_type": "code",
      "metadata": {
        "collapsed": true,
        "id": "cLJ_n_w7x9x_"
      },
      "source": [
        "dflist = []\n",
        "\n",
        "initializers = ['zeros', 'uniform', 'normal',\n",
        "                'he_normal', 'lecun_uniform']\n",
        "\n",
        "for init in initializers:\n",
        "\n",
        "    K.clear_session()\n",
        "\n",
        "    model = Sequential()\n",
        "    model.add(Dense(1, input_shape=(210,),\n",
        "                    kernel_initializer=init,\n",
        "                    activation='sigmoid'))\n",
        "\n",
        "    model.compile(loss='binary_crossentropy',\n",
        "                  optimizer='Adamax',\n",
        "                  metrics=['accuracy'])\n",
        "\n",
        "    h = model.fit(Xn_train, yn_train, batch_size=5*10**6, epochs=50, verbose=0)\n",
        "    \n",
        "    dflist.append(pd.DataFrame(h.history, index=h.epoch))"
      ],
      "execution_count": 510,
      "outputs": []
    },
    {
      "cell_type": "code",
      "metadata": {
        "collapsed": true,
        "id": "yqt1QxJNx9yA"
      },
      "source": [
        "historydf = pd.concat(dflist, axis=1)\n",
        "metrics_reported = dflist[0].columns\n",
        "idx = pd.MultiIndex.from_product([initializers, metrics_reported],\n",
        "                                 names=['initializers', 'metric'])\n",
        "\n",
        "historydf.columns = idx"
      ],
      "execution_count": 512,
      "outputs": []
    },
    {
      "cell_type": "code",
      "metadata": {
        "id": "ye113wEax9yB",
        "colab": {
          "base_uri": "https://localhost:8080/",
          "height": 369
        },
        "outputId": "7f48d8f4-304a-4c06-e0bd-b47fc169808c"
      },
      "source": [
        "ax = plt.subplot(211)\n",
        "historydf.xs('loss', axis=1, level='metric').plot(ylim=(0,1), ax=ax)\n",
        "plt.title(\"Loss\")\n",
        "plt.legend(bbox_to_anchor=(1.05, 1), loc=2, borderaxespad=0.)\n",
        "\n",
        "ax = plt.subplot(212)\n",
        "historydf.xs('accuracy', axis=1, level='metric').plot(ylim=(0,1), ax=ax)\n",
        "plt.title(\"Accuracy\")\n",
        "plt.xlabel(\"Epochs\")\n",
        "plt.legend(bbox_to_anchor=(1.05, 1), loc=2, borderaxespad=0.)\n",
        "\n",
        "plt.tight_layout()"
      ],
      "execution_count": 513,
      "outputs": [
        {
          "output_type": "display_data",
          "data": {
            "image/png": "[encoded data removed]",
            "text/plain": [
              "<Figure size 720x360 with 2 Axes>"
            ]
          },
          "metadata": {
            "tags": [],
            "needs_background": "light"
          }
        }
      ]
    },
    {
      "cell_type": "code",
      "metadata": {
        "colab": {
          "base_uri": "https://localhost:8080/"
        },
        "id": "ubHbvPVnpvaa",
        "outputId": "bafa7479-e413-4d5e-cf4f-9d937f42eb22"
      },
      "source": [
        "historydf.xs('accuracy', axis=1, level='metric').max()"
      ],
      "execution_count": 514,
      "outputs": [
        {
          "output_type": "execute_result",
          "data": {
            "text/plain": [
              "initializers\n",
              "zeros            0.795066\n",
              "uniform          0.772929\n",
              "normal           0.729918\n",
              "he_normal        0.522454\n",
              "lecun_uniform    0.642631\n",
              "dtype: float64"
            ]
          },
          "metadata": {
            "tags": []
          },
          "execution_count": 514
        }
      ]
    },
    {
      "cell_type": "markdown",
      "metadata": {
        "id": "VBUuo4tobvMD"
      },
      "source": [
        "## Step 6:  Reproducibility"
      ]
    },
    {
      "cell_type": "code",
      "metadata": {
        "id": "DaeDaxcIC85j",
        "colab": {
          "base_uri": "https://localhost:8080/"
        },
        "outputId": "74ae87d8-ce10-4477-d710-483b26aee8f7"
      },
      "source": [
        "!pip install watermark"
      ],
      "execution_count": null,
      "outputs": [
        {
          "output_type": "stream",
          "text": [
            "Collecting watermark\n",
            "  Downloading https://files.pythonhosted.org/packages/60/fe/3ed83b6122e70dce6fe269dfd763103c333f168bf91037add73ea4fe81c2/watermark-2.0.2-py2.py3-none-any.whl\n",
            "Requirement already satisfied: ipython in /usr/local/lib/python3.6/dist-packages (from watermark) (5.5.0)\n",
            "Requirement already satisfied: simplegeneric>0.8 in /usr/local/lib/python3.6/dist-packages (from ipython->watermark) (0.8.1)\n",
            "Requirement already satisfied: decorator in /usr/local/lib/python3.6/dist-packages (from ipython->watermark) (4.4.2)\n",
            "Requirement already satisfied: pygments in /usr/local/lib/python3.6/dist-packages (from ipython->watermark) (2.6.1)\n",
            "Requirement already satisfied: traitlets>=4.2 in /usr/local/lib/python3.6/dist-packages (from ipython->watermark) (4.3.3)\n",
            "Requirement already satisfied: pexpect; sys_platform != \"win32\" in /usr/local/lib/python3.6/dist-packages (from ipython->watermark) (4.8.0)\n",
            "Requirement already satisfied: prompt-toolkit<2.0.0,>=1.0.4 in /usr/local/lib/python3.6/dist-packages (from ipython->watermark) (1.0.18)\n",
            "Requirement already satisfied: setuptools>=18.5 in /usr/local/lib/python3.6/dist-packages (from ipython->watermark) (51.0.0)\n",
            "Requirement already satisfied: pickleshare in /usr/local/lib/python3.6/dist-packages (from ipython->watermark) (0.7.5)\n",
            "Requirement already satisfied: six in /usr/local/lib/python3.6/dist-packages (from traitlets>=4.2->ipython->watermark) (1.15.0)\n",
            "Requirement already satisfied: ipython-genutils in /usr/local/lib/python3.6/dist-packages (from traitlets>=4.2->ipython->watermark) (0.2.0)\n",
            "Requirement already satisfied: ptyprocess>=0.5 in /usr/local/lib/python3.6/dist-packages (from pexpect; sys_platform != \"win32\"->ipython->watermark) (0.6.0)\n",
            "Requirement already satisfied: wcwidth in /usr/local/lib/python3.6/dist-packages (from prompt-toolkit<2.0.0,>=1.0.4->ipython->watermark) (0.2.5)\n",
            "Installing collected packages: watermark\n",
            "Successfully installed watermark-2.0.2\n"
          ],
          "name": "stdout"
        }
      ]
    },
    {
      "cell_type": "code",
      "metadata": {
        "id": "gSN3g8MfC85k"
      },
      "source": [
        "%load_ext watermark"
      ],
      "execution_count": null,
      "outputs": []
    },
    {
      "cell_type": "code",
      "metadata": {
        "id": "ZHdQXpIEC85k",
        "colab": {
          "base_uri": "https://localhost:8080/"
        },
        "outputId": "d53f2ce2-542d-4017-d234-30abaf3756b5"
      },
      "source": [
        "%watermark -a 'Hazim' -nmv --packages numpy,pandas,sklearn,matplotlib,seaborn"
      ],
      "execution_count": null,
      "outputs": [
        {
          "output_type": "stream",
          "text": [
            "Hazim Tue Dec 29 2020 \n",
            "\n",
            "CPython 3.6.9\n",
            "IPython 5.5.0\n",
            "\n",
            "numpy 1.19.4\n",
            "pandas 1.1.5\n",
            "sklearn 0.0\n",
            "matplotlib 3.2.2\n",
            "seaborn 0.11.0\n",
            "\n",
            "compiler   : GCC 8.4.0\n",
            "system     : Linux\n",
            "release    : 4.19.112+\n",
            "machine    : x86_64\n",
            "processor  : x86_64\n",
            "CPU cores  : 2\n",
            "interpreter: 64bit\n"
          ],
          "name": "stdout"
        }
      ]
    }
  ]
}